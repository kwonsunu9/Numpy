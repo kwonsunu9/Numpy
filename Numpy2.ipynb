{
 "cells": [
  {
   "cell_type": "code",
   "execution_count": 1,
   "id": "e8d09c65-8584-43b0-93dd-9a7470a515d9",
   "metadata": {},
   "outputs": [],
   "source": [
    "import numpy as np"
   ]
  },
  {
   "cell_type": "markdown",
   "id": "de9f1006-e06c-442d-bfd0-0b6866bf70b5",
   "metadata": {
    "jp-MarkdownHeadingCollapsed": true
   },
   "source": [
    "#### numpy.ones\n",
    "* numpy.ones(shape, dtype=None, order='C', *, like=None)"
   ]
  },
  {
   "cell_type": "code",
   "execution_count": 2,
   "id": "6d5c104d-55cb-4aa1-9c3d-6977c6c3fe13",
   "metadata": {},
   "outputs": [
    {
     "data": {
      "text/plain": [
       "array([1., 1., 1., 1., 1.])"
      ]
     },
     "execution_count": 2,
     "metadata": {},
     "output_type": "execute_result"
    }
   ],
   "source": [
    "np.ones(5)"
   ]
  },
  {
   "cell_type": "code",
   "execution_count": 3,
   "id": "83536f6d-97be-442d-b3e1-177c5c8a8fa8",
   "metadata": {},
   "outputs": [
    {
     "data": {
      "text/plain": [
       "array([1, 1, 1, 1, 1])"
      ]
     },
     "execution_count": 3,
     "metadata": {},
     "output_type": "execute_result"
    }
   ],
   "source": [
    "np.ones(5, dtype = int)"
   ]
  },
  {
   "cell_type": "code",
   "execution_count": 4,
   "id": "f9ebd472-bbd9-4ed9-93bc-254bfd7c6e4b",
   "metadata": {},
   "outputs": [
    {
     "data": {
      "text/plain": [
       "array([[1],\n",
       "       [1]])"
      ]
     },
     "execution_count": 4,
     "metadata": {},
     "output_type": "execute_result"
    }
   ],
   "source": [
    "np.ones((2,1), dtype = int)"
   ]
  },
  {
   "cell_type": "code",
   "execution_count": 5,
   "id": "d364a7f2-44ff-4690-88ea-99f9c6166116",
   "metadata": {},
   "outputs": [],
   "source": [
    "k = np.ones((2,3))"
   ]
  },
  {
   "cell_type": "code",
   "execution_count": 6,
   "id": "df09d5fd-215b-42b9-b981-e205a2301f80",
   "metadata": {},
   "outputs": [
    {
     "data": {
      "text/plain": [
       "2"
      ]
     },
     "execution_count": 6,
     "metadata": {},
     "output_type": "execute_result"
    }
   ],
   "source": [
    "k.ndim"
   ]
  },
  {
   "cell_type": "code",
   "execution_count": 7,
   "id": "8b24409a-2d0a-4d95-bc80-1d0719a4d024",
   "metadata": {},
   "outputs": [
    {
     "data": {
      "text/plain": [
       "array([[3., 3., 3.],\n",
       "       [3., 3., 3.]])"
      ]
     },
     "execution_count": 7,
     "metadata": {},
     "output_type": "execute_result"
    }
   ],
   "source": [
    "k*3"
   ]
  },
  {
   "cell_type": "markdown",
   "id": "031174a6-a5ff-4743-bfaf-4d7d36d5190f",
   "metadata": {
    "jp-MarkdownHeadingCollapsed": true
   },
   "source": [
    "#### numpy.zeros\n",
    "* numpy.zeros(shape, dtype=float, order='C', *, like=None)\n",
    "\n"
   ]
  },
  {
   "cell_type": "code",
   "execution_count": 8,
   "id": "dd56d652-1fd5-49af-992c-ab99c84f33c4",
   "metadata": {},
   "outputs": [
    {
     "data": {
      "text/plain": [
       "array([[0, 0, 0, 0],\n",
       "       [0, 0, 0, 0]])"
      ]
     },
     "execution_count": 8,
     "metadata": {},
     "output_type": "execute_result"
    }
   ],
   "source": [
    "np.zeros((2,4), dtype = int)"
   ]
  },
  {
   "cell_type": "markdown",
   "id": "c162c42b-93bd-4095-9f12-974d3c681faf",
   "metadata": {
    "jp-MarkdownHeadingCollapsed": true
   },
   "source": [
    "#### numpy.ones_like\n",
    "* numpy.ones_like(a, dtype=None, order='K', subok=True, shape=None)\n",
    "```\n",
    "numpy.ones_like(a, dtype=None, order='K', subok=True, shape=None):ones_like 함수는 주어진 배열과 같은 shape과 dtype을 가지는 배열을 생성합니다. 주어진 배열과 동일한 모양으로 1로 채워진 배열을 만듭니다.\r\n",
    "a는 기존의 배열입니다. 이 배열과 동일한 모양과 데이터 타입을 가진 배열을 생성합니다. a는 NumPy 배열이어야 합니다.\r\n",
    "dtype, order, subok, shape 등의 인수는 ones 함수와 동일하게 작동합니다.\n",
    "\n",
    "```작동함."
   ]
  },
  {
   "cell_type": "code",
   "execution_count": 9,
   "id": "a0df2b9f-b2f2-4ae3-aa63-470d951645b1",
   "metadata": {},
   "outputs": [
    {
     "name": "stdout",
     "output_type": "stream",
     "text": [
      "[[1 1 1]\n",
      " [1 1 1]]\n"
     ]
    }
   ],
   "source": [
    "arr1 = np.array([[2,3,4],[5,6,7]])\n",
    "ones_like_arr = np.ones_like(arr1)\n",
    "print(ones_like_arr)"
   ]
  },
  {
   "cell_type": "markdown",
   "id": "3e425ff1-4925-4f64-ac8f-8087cb60b674",
   "metadata": {
    "jp-MarkdownHeadingCollapsed": true
   },
   "source": [
    "#### numpy.zeros_like\n",
    "* numpy.zeros_like(a, dtype=None, order='K', subok=True, shape=None)"
   ]
  },
  {
   "cell_type": "code",
   "execution_count": 10,
   "id": "ecad3be9-3520-45c7-9240-fd2777efa8f9",
   "metadata": {},
   "outputs": [
    {
     "name": "stdout",
     "output_type": "stream",
     "text": [
      "[[0 0 0]\n",
      " [0 0 0]]\n"
     ]
    }
   ],
   "source": [
    "arr1 = np.array([[2,3,4],[5,6,7]])\n",
    "ones_like_arr = np.zeros_like(arr1)\n",
    "print(ones_like_arr)"
   ]
  },
  {
   "cell_type": "markdown",
   "id": "fe2d589d-15b6-4733-8ab0-b0976f8605f5",
   "metadata": {
    "jp-MarkdownHeadingCollapsed": true
   },
   "source": [
    "#### 대입연산자와 copy의 차이"
   ]
  },
  {
   "cell_type": "code",
   "execution_count": 13,
   "id": "b53320bf-03f5-46f2-8804-a0410b68687d",
   "metadata": {},
   "outputs": [],
   "source": [
    "# 대입연산자\n",
    "a = [[1,2,3],[5,6,7]]\n",
    "b = np.array(a)"
   ]
  },
  {
   "cell_type": "code",
   "execution_count": 14,
   "id": "5e427729-e1f7-4d42-bf5b-5b9bd23bb2a4",
   "metadata": {},
   "outputs": [
    {
     "data": {
      "text/plain": [
       "array([[1, 2, 3],\n",
       "       [5, 6, 7]])"
      ]
     },
     "execution_count": 14,
     "metadata": {},
     "output_type": "execute_result"
    }
   ],
   "source": [
    "b"
   ]
  },
  {
   "cell_type": "code",
   "execution_count": 17,
   "id": "59f470c6-f244-4699-a375-e2392305c861",
   "metadata": {},
   "outputs": [
    {
     "data": {
      "text/plain": [
       "array([[  1,   2,   3],\n",
       "       [100,   6,   7]])"
      ]
     },
     "execution_count": 17,
     "metadata": {},
     "output_type": "execute_result"
    }
   ],
   "source": [
    "b[1][0] = 100\n",
    "b"
   ]
  },
  {
   "cell_type": "markdown",
   "id": "d327251c-ea6e-4745-b72d-ba6f9b89200b",
   "metadata": {
    "jp-MarkdownHeadingCollapsed": true
   },
   "source": [
    "#### copy 연산자\n",
    "* np.copy(a, copy = True)\n",
    "* '변수명'.copy()"
   ]
  },
  {
   "cell_type": "code",
   "execution_count": 20,
   "id": "3e711029-2fc1-4858-a209-1d3e6e8794e7",
   "metadata": {},
   "outputs": [
    {
     "data": {
      "text/plain": [
       "array([[1, 2, 3],\n",
       "       [5, 6, 7]])"
      ]
     },
     "execution_count": 20,
     "metadata": {},
     "output_type": "execute_result"
    }
   ],
   "source": [
    "# copy 연산자\n",
    "a = np.array([[1, 2, 3],[5, 6, 7]])\n",
    "c = a.copy()\n",
    "c"
   ]
  },
  {
   "cell_type": "markdown",
   "id": "60273005-fc43-4942-8fba-c9a6e2bf448f",
   "metadata": {},
   "source": [
    "* copy연산자를 주로 사용\n",
    "  => 새로운 인스턴스를 만들고,인스턴스의 값만 복사\n",
    "  => 두 공간의 메모리가 서로 다름.(=> 다른 객체임.)"
   ]
  },
  {
   "cell_type": "code",
   "execution_count": 21,
   "id": "62724d02-c44f-4783-b1d0-fa55027302cc",
   "metadata": {},
   "outputs": [
    {
     "data": {
      "text/plain": [
       "array([[1, 2, 3],\n",
       "       [5, 6, 7]])"
      ]
     },
     "execution_count": 21,
     "metadata": {},
     "output_type": "execute_result"
    }
   ],
   "source": [
    "a = np.array([[1, 2, 3],[5, 6, 7]])\n",
    "d = np.copy(a)\n",
    "d"
   ]
  },
  {
   "cell_type": "code",
   "execution_count": 22,
   "id": "b411480e-e0d3-4516-bae4-2b73166dd6b4",
   "metadata": {},
   "outputs": [
    {
     "data": {
      "text/plain": [
       "array([[1, 2, 3],\n",
       "       [5, 6, 7]])"
      ]
     },
     "execution_count": 22,
     "metadata": {},
     "output_type": "execute_result"
    }
   ],
   "source": [
    "a = np.array([[1, 2, 3],[5, 6, 7]])\n",
    "e = np.array(a, copy=True)\n",
    "e"
   ]
  },
  {
   "cell_type": "markdown",
   "id": "1599e1ef-67a5-4d4f-be22-322d51509f33",
   "metadata": {},
   "source": [
    "* 파이썬은 객체 지향적 프로그램\n",
    "* 객체 지향적 프로그램 : 객체를 생성 시킨 후 새로운 변수에 저장하는 방법\n",
    "* 인스턴스 : 객체 안에 있는 `attributes`와 매소드를 사용할 수 있게 하는 방법\n",
    "* 객체 : 인스턴스가 들어있는 변수\n",
    "* 모든 변수를 저장하면 인스턴스가 생성됨."
   ]
  },
  {
   "cell_type": "code",
   "execution_count": 24,
   "id": "781e3710-d323-4604-8fe2-55d545375d8c",
   "metadata": {},
   "outputs": [],
   "source": [
    "a = np.array([[1, 0, 0, 0],\n",
    "             [0, 1, 0, 0],\n",
    "             [0, 0, 1, 0],\n",
    "             [0, 0, 0, 1]])"
   ]
  },
  {
   "cell_type": "markdown",
   "id": "86b138fc-8e83-4cd9-a560-a659fb68121e",
   "metadata": {},
   "source": [
    "#### IDENTITY ARRAY\n",
    "* 단위 행렬\n",
    "* numpy.identity(n, dtype = None, *, like=None)"
   ]
  },
  {
   "cell_type": "code",
   "execution_count": 25,
   "id": "b1c8b6fd-3fc2-43fe-b13e-90bce3532ea7",
   "metadata": {},
   "outputs": [
    {
     "data": {
      "text/plain": [
       "array([[1., 0., 0., 0.],\n",
       "       [0., 1., 0., 0.],\n",
       "       [0., 0., 1., 0.],\n",
       "       [0., 0., 0., 1.]])"
      ]
     },
     "execution_count": 25,
     "metadata": {},
     "output_type": "execute_result"
    }
   ],
   "source": [
    "np.identity(4)"
   ]
  },
  {
   "cell_type": "markdown",
   "id": "82219416-7cda-4690-bae5-df7c0e68ebe6",
   "metadata": {
    "jp-MarkdownHeadingCollapsed": true
   },
   "source": [
    "#### eye function\n",
    "* numpy.eye(N, M=None, k=0, dtype=<class 'float'>, order='C', *, like=None)"
   ]
  },
  {
   "cell_type": "code",
   "execution_count": 28,
   "id": "bd5bba59-aaaf-4a5e-8846-46679613f144",
   "metadata": {},
   "outputs": [],
   "source": [
    "f = np.eye(5, 8, k=1)"
   ]
  },
  {
   "cell_type": "code",
   "execution_count": 30,
   "id": "437231b5-e669-4073-b446-ef2502a6e09e",
   "metadata": {},
   "outputs": [
    {
     "data": {
      "text/plain": [
       "array([[0., 1., 0., 0., 0., 0., 0., 0.],\n",
       "       [0., 0., 1., 0., 0., 0., 0., 0.],\n",
       "       [0., 0., 0., 1., 0., 0., 0., 0.],\n",
       "       [0., 0., 0., 0., 1., 0., 0., 0.],\n",
       "       [0., 0., 0., 0., 0., 1., 0., 0.]])"
      ]
     },
     "execution_count": 30,
     "metadata": {},
     "output_type": "execute_result"
    }
   ],
   "source": [
    "f"
   ]
  },
  {
   "cell_type": "markdown",
   "id": "e5909bc5-7154-4200-abbb-4bc8a01494b8",
   "metadata": {},
   "source": [
    "* a"
   ]
  },
  {
   "cell_type": "markdown",
   "id": "44562b6a-206a-4715-b5b6-94dfca5e7f95",
   "metadata": {},
   "source": [
    "* argmin, argmax"
   ]
  },
  {
   "cell_type": "code",
   "execution_count": 34,
   "id": "61557bc7-a078-4022-a630-7ae512ebcc4d",
   "metadata": {},
   "outputs": [
    {
     "data": {
      "text/plain": [
       "3"
      ]
     },
     "execution_count": 34,
     "metadata": {},
     "output_type": "execute_result"
    }
   ],
   "source": [
    "A = np.array([5, 2, 3, 1, 100, 2])\n",
    "A.argmax()\n",
    "A.argmin()"
   ]
  },
  {
   "cell_type": "markdown",
   "id": "8c9b14c6-95ad-4765-a5fa-8cf016e06de7",
   "metadata": {},
   "source": [
    "* 홀수 인덱스로 구성된 새 배열을 생성"
   ]
  },
  {
   "cell_type": "code",
   "execution_count": 36,
   "id": "bcf82d6a-2975-4110-ac0c-cc091ec399c8",
   "metadata": {},
   "outputs": [
    {
     "data": {
      "text/plain": [
       "array([ 1,  2,  5,  6, 10, 12, 21, 40])"
      ]
     },
     "execution_count": 36,
     "metadata": {},
     "output_type": "execute_result"
    }
   ],
   "source": [
    "a = np.array([1, 2, 5, 6, 10, 12, 21, 40])\n",
    "a"
   ]
  },
  {
   "cell_type": "code",
   "execution_count": 39,
   "id": "6750d51f-1751-4f17-8e50-d416d273fa2d",
   "metadata": {},
   "outputs": [
    {
     "data": {
      "text/plain": [
       "array([ 2,  6, 12, 40])"
      ]
     },
     "execution_count": 39,
     "metadata": {},
     "output_type": "execute_result"
    }
   ],
   "source": [
    "a[1::2]"
   ]
  },
  {
   "cell_type": "code",
   "execution_count": 38,
   "id": "74edff54-adbe-45cb-a911-7a9823bacf73",
   "metadata": {},
   "outputs": [
    {
     "data": {
      "text/plain": [
       "(array([1, 3, 4, 5, 7], dtype=int64),)"
      ]
     },
     "execution_count": 38,
     "metadata": {},
     "output_type": "execute_result"
    }
   ],
   "source": [
    "np.where(a % 2 == 0)"
   ]
  },
  {
   "cell_type": "markdown",
   "id": "de58506f-3182-4cf2-8d42-cdea2dbe91af",
   "metadata": {},
   "source": [
    "* 역순 배열"
   ]
  },
  {
   "cell_type": "code",
   "execution_count": 41,
   "id": "d77c123a-75bf-4b4f-b852-44afa3a36752",
   "metadata": {},
   "outputs": [
    {
     "data": {
      "text/plain": [
       "array([40, 21, 12, 10,  6,  5,  2,  1])"
      ]
     },
     "execution_count": 41,
     "metadata": {},
     "output_type": "execute_result"
    }
   ],
   "source": [
    "a[::-1]"
   ]
  },
  {
   "cell_type": "code",
   "execution_count": 49,
   "id": "a61edc25-9dde-40f0-9e8f-7cc66f8ced7b",
   "metadata": {},
   "outputs": [
    {
     "data": {
      "text/plain": [
       "array([[14, 13, 12, 11],\n",
       "       [24, 23, 22, 21],\n",
       "       [34, 33, 32, 31]])"
      ]
     },
     "execution_count": 49,
     "metadata": {},
     "output_type": "execute_result"
    }
   ],
   "source": [
    "# 각 행의 요소가 역순인 m에서 새 배열\n",
    "m = np.array([ [11, 12, 13, 14], [21, 22, 23, 24], [31, 32, 33, 34]])\n",
    "m[::,::-1]"
   ]
  },
  {
   "cell_type": "code",
   "execution_count": 50,
   "id": "7defdad3-0453-4255-b5cc-55bdd0e0e2a9",
   "metadata": {},
   "outputs": [
    {
     "data": {
      "text/plain": [
       "array([[31, 32, 33, 34],\n",
       "       [21, 22, 23, 24],\n",
       "       [11, 12, 13, 14]])"
      ]
     },
     "execution_count": 50,
     "metadata": {},
     "output_type": "execute_result"
    }
   ],
   "source": [
    "m[::-1]"
   ]
  },
  {
   "cell_type": "code",
   "execution_count": 51,
   "id": "70890d8e-df98-4ff2-a42c-139f1aa8a0bc",
   "metadata": {},
   "outputs": [
    {
     "data": {
      "text/plain": [
       "array([[34, 33, 32, 31],\n",
       "       [24, 23, 22, 21],\n",
       "       [14, 13, 12, 11]])"
      ]
     },
     "execution_count": 51,
     "metadata": {},
     "output_type": "execute_result"
    }
   ],
   "source": [
    "m[::-1, ::-1]"
   ]
  },
  {
   "cell_type": "code",
   "execution_count": 55,
   "id": "c5c27e7e-79e4-4a9a-bc7a-f51152b60933",
   "metadata": {},
   "outputs": [
    {
     "data": {
      "text/plain": [
       "array([[34, 33, 32, 31],\n",
       "       [14, 13, 12, 11]])"
      ]
     },
     "execution_count": 55,
     "metadata": {},
     "output_type": "execute_result"
    }
   ],
   "source": [
    "m[0::2][::-1, ::-1]"
   ]
  },
  {
   "cell_type": "markdown",
   "id": "f86943bd-4e6d-4b1f-8ee6-ba71fbb8dbb3",
   "metadata": {
    "jp-MarkdownHeadingCollapsed": true
   },
   "source": [
    "#### Data Type Objects, DTYPE\n",
    "* numpy.dtype(dtype, align=False, copy=False[, metadata])"
   ]
  },
  {
   "cell_type": "code",
   "execution_count": 56,
   "id": "8b3d5779-5a71-4e11-82d2-75ffde624fb1",
   "metadata": {},
   "outputs": [
    {
     "name": "stdout",
     "output_type": "stream",
     "text": [
      "int16\n"
     ]
    }
   ],
   "source": [
    "i16 = np.dtype(np.int16)\n",
    "print(i16)"
   ]
  },
  {
   "cell_type": "code",
   "execution_count": 61,
   "id": "0257ec1c-70d5-46c1-8c1d-10a156fe798b",
   "metadata": {},
   "outputs": [
    {
     "data": {
      "text/plain": [
       "array([[ 3,  8,  9],\n",
       "       [ 1, -7,  0],\n",
       "       [ 4, 12,  4]], dtype=int16)"
      ]
     },
     "execution_count": 61,
     "metadata": {},
     "output_type": "execute_result"
    }
   ],
   "source": [
    "lst = [[3.4, 8.7, 9.9],[1.1, -7.8, -0.7], [4.1, 12.3, 4.8]]\n",
    "np.array(lst, dtype = i16)"
   ]
  },
  {
   "cell_type": "markdown",
   "id": "32dbdd23-789b-479e-b275-2a07fb0fee24",
   "metadata": {
    "jp-MarkdownHeadingCollapsed": true
   },
   "source": [
    "#### Structured  Arrays"
   ]
  },
  {
   "cell_type": "code",
   "execution_count": 66,
   "id": "5d98384c-83c1-4e48-8241-fede508cc097",
   "metadata": {},
   "outputs": [
    {
     "data": {
      "text/plain": [
       "array([(393,), (337,), (256,)], dtype=[('density', '<i4')])"
      ]
     },
     "execution_count": 66,
     "metadata": {},
     "output_type": "execute_result"
    }
   ],
   "source": [
    "# np.dtype([('문자열', np.int)])\n",
    "dt = np.dtype([('density', np.int32)])\n",
    "x = np.array([(393,), (337,), (256,)], dtype = dt)\n",
    "x"
   ]
  },
  {
   "cell_type": "code",
   "execution_count": 68,
   "id": "3b34609d-db05-4584-8542-521931b4cf50",
   "metadata": {},
   "outputs": [
    {
     "data": {
      "text/plain": [
       "array([393, 337, 256])"
      ]
     },
     "execution_count": 68,
     "metadata": {},
     "output_type": "execute_result"
    }
   ],
   "source": [
    "x['density']"
   ]
  },
  {
   "cell_type": "code",
   "execution_count": 81,
   "id": "4082790a-f0e1-480f-a836-f7b9c79fb540",
   "metadata": {},
   "outputs": [
    {
     "data": {
      "text/plain": [
       "array([(b'', 200.), (b'', 300.), (b'', 400.)],\n",
       "      dtype=[('density', 'S'), ('margin', '<f8')])"
      ]
     },
     "execution_count": 81,
     "metadata": {},
     "output_type": "execute_result"
    }
   ],
   "source": [
    "dt = np.dtype([('density', np.int32), ('margin', np.float64)])\n",
    "x = np.array([(393,200), (337,300), (256,400)], dtype = dt)\n",
    "x"
   ]
  },
  {
   "cell_type": "code",
   "execution_count": 73,
   "id": "b3850d02-1d42-429d-a38e-6d7cace69b41",
   "metadata": {},
   "outputs": [
    {
     "data": {
      "text/plain": [
       "array([200., 300., 400.])"
      ]
     },
     "execution_count": 73,
     "metadata": {},
     "output_type": "execute_result"
    }
   ],
   "source": [
    "x['margin']"
   ]
  },
  {
   "cell_type": "code",
   "execution_count": 100,
   "id": "7fce21a3-e9ce-4ed3-b2d2-842d15692fd0",
   "metadata": {},
   "outputs": [],
   "source": [
    "dt = np.dtype([('country',np.unicode_, 20), ('density', np.int16), ('area', np.float32), ('population', np.int32)])\n",
    "x = np.array([('Netherlands', 393, 41526, 16928800),\n",
    "('Belgium', 337, 30510, 11007020),\n",
    "('United Kingdom', 256, 243610, 62262000),\n",
    "('Germany', 233, 357021, 81799600),\n",
    "('Liechtenstein', 205, 160, 32842),\n",
    "('Italy', 192, 301230, 59715625),\n",
    "('Switzerland', 177, 41290, 7301994),\n",
    "('Luxembourg', 173, 2586, 512000),\n",
    "('France', 111, 547030, 63601002),\n",
    "('Austria', 97, 83858, 8169929),\n",
    "('Greece', 81, 131940, 11606813),\n",
    "('Ireland', 65, 70280, 4581269),\n",
    "('Sweden', 20, 449964, 9515744),\n",
    "('Finland', 16, 338424, 5410233),\n",
    "('Norway', 13, 385252, 5033675)],dtype = dt)"
   ]
  },
  {
   "cell_type": "code",
   "execution_count": 101,
   "id": "7e20f575-686a-4885-9464-690acd981eb5",
   "metadata": {},
   "outputs": [
    {
     "data": {
      "text/plain": [
       "array(['Netherlands', 'Belgium', 'United Kingdom', 'Germany',\n",
       "       'Liechtenstein', 'Italy', 'Switzerland', 'Luxembourg', 'France',\n",
       "       'Austria', 'Greece', 'Ireland', 'Sweden', 'Finland', 'Norway'],\n",
       "      dtype='<U20')"
      ]
     },
     "execution_count": 101,
     "metadata": {},
     "output_type": "execute_result"
    }
   ],
   "source": [
    "x['country']"
   ]
  },
  {
   "cell_type": "code",
   "execution_count": 104,
   "id": "3d583db5-ed52-4c55-899a-0eb183287639",
   "metadata": {},
   "outputs": [],
   "source": [
    "dt = np.dtype([('country','U20'), ('density', np.int16), ('area', np.float32), ('population', np.int32)])\n",
    "x = np.array([('Netherlands', 393, 41526, 16928800),\n",
    "('Belgium', 337, 30510, 11007020),\n",
    "('United Kingdom', 256, 243610, 62262000),\n",
    "('Germany', 233, 357021, 81799600),\n",
    "('Liechtenstein', 205, 160, 32842),\n",
    "('Italy', 192, 301230, 59715625),\n",
    "('Switzerland', 177, 41290, 7301994),\n",
    "('Luxembourg', 173, 2586, 512000),\n",
    "('France', 111, 547030, 63601002),\n",
    "('Austria', 97, 83858, 8169929),\n",
    "('Greece', 81, 131940, 11606813),\n",
    "('Ireland', 65, 70280, 4581269),\n",
    "('Sweden', 20, 449964, 9515744),\n",
    "('Finland', 16, 338424, 5410233),\n",
    "('Norway', 13, 385252, 5033675)],dtype = dt)"
   ]
  },
  {
   "cell_type": "code",
   "execution_count": 105,
   "id": "09a0e3e0-87e9-42ef-84cd-b5cd3a2c1a25",
   "metadata": {},
   "outputs": [
    {
     "data": {
      "text/plain": [
       "array(['Netherlands', 'Belgium', 'United Kingdom', 'Germany',\n",
       "       'Liechtenstein', 'Italy', 'Switzerland', 'Luxembourg', 'France',\n",
       "       'Austria', 'Greece', 'Ireland', 'Sweden', 'Finland', 'Norway'],\n",
       "      dtype='<U20')"
      ]
     },
     "execution_count": 105,
     "metadata": {},
     "output_type": "execute_result"
    }
   ],
   "source": [
    "x['country']"
   ]
  },
  {
   "cell_type": "markdown",
   "id": "7e8aae16-7949-48e9-9954-e6e32c303dad",
   "metadata": {
    "jp-MarkdownHeadingCollapsed": true
   },
   "source": [
    "#### 구조화된 배열의 입력 및 출력"
   ]
  },
  {
   "cell_type": "code",
   "execution_count": 109,
   "id": "75929565-6e69-4f93-b451-b0833c8ce699",
   "metadata": {},
   "outputs": [],
   "source": [
    "# np.savetxt()\n",
    "# numpy.savetxt(fname, X, fmt='%.18e', delimiter=' ', newline='\\n', header='', footer='', comments='# ', encoding=None)\n",
    "np.savetxt('population_table.csv',\n",
    "          x, \n",
    "            fmt=\"%s;%d;%d;%d\",\n",
    "           delimiter = ',',\n",
    "           comments = \"#data\",\n",
    "           encoding = \"utf8\"\n",
    "          )"
   ]
  },
  {
   "cell_type": "markdown",
   "id": "e23a41ba-11a4-4ec7-8ce7-88f9e5939dd2",
   "metadata": {
    "jp-MarkdownHeadingCollapsed": true
   },
   "source": [
    "#### numpy.genfromtxt\n",
    "```\n",
    "numpy.genfromtxt(fname, dtype=<class 'float'>, comments='#',\n",
    "delimiter=None, skip_header=0, skip_footer=0,\n",
    "converters=None, missing_values=None, filling_values=None,\n",
    "usecols=None, names=None, excludelist=None,\n",
    "deletechars=\" !#$%&'()*+, -./:;<=>?@[\\\\]^{|}~\", replace_space='_',\n",
    "autostrip=False, case_sensitive=True, defaultfmt='f%i',\n",
    "unpack=None,\n",
    "usemask=False,\n",
    "loose=True,\n",
    "invalid_raise=True,\n",
    "max_rows=None, encoding='bytes', *, ndmin=0, like=None)\n",
    "```"
   ]
  },
  {
   "cell_type": "code",
   "execution_count": 110,
   "id": "657d63c0-3623-480a-a7a3-3c686d25bd73",
   "metadata": {},
   "outputs": [
    {
     "data": {
      "text/plain": [
       "array([('Netherlands', 393, 4.15260e+04, 16928800),\n",
       "       ('Belgium', 337, 3.05100e+04, 11007020),\n",
       "       ('United Kingdom', 256, 2.43610e+05, 62262000),\n",
       "       ('Germany', 233, 3.57021e+05, 81799600),\n",
       "       ('Liechtenstein', 205, 1.60000e+02,    32842),\n",
       "       ('Italy', 192, 3.01230e+05, 59715625),\n",
       "       ('Switzerland', 177, 4.12900e+04,  7301994),\n",
       "       ('Luxembourg', 173, 2.58600e+03,   512000),\n",
       "       ('France', 111, 5.47030e+05, 63601002),\n",
       "       ('Austria',  97, 8.38580e+04,  8169929),\n",
       "       ('Greece',  81, 1.31940e+05, 11606813),\n",
       "       ('Ireland',  65, 7.02800e+04,  4581269),\n",
       "       ('Sweden',  20, 4.49964e+05,  9515744),\n",
       "       ('Finland',  16, 3.38424e+05,  5410233),\n",
       "       ('Norway',  13, 3.85252e+05,  5033675)],\n",
       "      dtype=[('country', '<U20'), ('density', '<i4'), ('area', '<f4'), ('population', '<i4')])"
      ]
     },
     "execution_count": 110,
     "metadata": {},
     "output_type": "execute_result"
    }
   ],
   "source": [
    "dt = np.dtype([('country','U20'), ('density', 'i4'), \n",
    "               ('area', np.float32), ('population', 'i4')])\n",
    "np.genfromtxt('population_table.csv',\n",
    "             dtype = dt,\n",
    "             delimiter = ';',\n",
    "              encoding = 'UTF8'\n",
    "             )"
   ]
  },
  {
   "cell_type": "code",
   "execution_count": 111,
   "id": "cca68cc7-a3df-4d6b-be77-77180a2709f7",
   "metadata": {},
   "outputs": [],
   "source": [
    "time_type = np.dtype( np.dtype([('time', [('h', int), ('min', int), ('sec', int)]),('temperature', float)] ))\n",
    "times = np.array( [((11, 42, 17), 20.8), ((13, 19, 3), 23.2) ], dtype=time_type)"
   ]
  },
  {
   "cell_type": "code",
   "execution_count": 114,
   "id": "8e2b0c6d-2bf1-44dc-a491-e5b1115e288d",
   "metadata": {},
   "outputs": [
    {
     "data": {
      "text/plain": [
       "array([((11, 42, 17), 20.8), ((13, 19,  3), 23.2)],\n",
       "      dtype=[('time', [('h', '<i4'), ('min', '<i4'), ('sec', '<i4')]), ('temperature', '<f8')])"
      ]
     },
     "execution_count": 114,
     "metadata": {},
     "output_type": "execute_result"
    }
   ],
   "source": [
    "times"
   ]
  },
  {
   "cell_type": "code",
   "execution_count": 117,
   "id": "baed6c11-6ca5-4542-bd8d-27d3e42dc021",
   "metadata": {},
   "outputs": [
    {
     "data": {
      "text/plain": [
       "array([(11, 42, 17), (13, 19,  3)],\n",
       "      dtype=[('h', '<i4'), ('min', '<i4'), ('sec', '<i4')])"
      ]
     },
     "execution_count": 117,
     "metadata": {},
     "output_type": "execute_result"
    }
   ],
   "source": [
    "times['time']"
   ]
  },
  {
   "cell_type": "code",
   "execution_count": 118,
   "id": "de514db8-cf31-4356-861a-4c1cca887b5a",
   "metadata": {},
   "outputs": [
    {
     "data": {
      "text/plain": [
       "array([11, 13])"
      ]
     },
     "execution_count": 118,
     "metadata": {},
     "output_type": "execute_result"
    }
   ],
   "source": [
    "times['time']['h']"
   ]
  },
  {
   "cell_type": "code",
   "execution_count": 119,
   "id": "393d1064-80b2-427f-9ab3-5a3957d9f47c",
   "metadata": {},
   "outputs": [
    {
     "data": {
      "text/plain": [
       "array([20.8, 23.2])"
      ]
     },
     "execution_count": 119,
     "metadata": {},
     "output_type": "execute_result"
    }
   ],
   "source": [
    "times['temperature']"
   ]
  },
  {
   "cell_type": "code",
   "execution_count": 122,
   "id": "f88afed4-d937-441f-a411-71ae787f99d1",
   "metadata": {
    "scrolled": true
   },
   "outputs": [
    {
     "data": {
      "text/plain": [
       "['Chicago Sun 01:52\\n',\n",
       " 'Columbus Sun 02:52\\n',\n",
       " 'Riyadh  Sun 10:52\\n',\n",
       " 'Copenhagen  Sun 08:52\\n',\n",
       " 'Kuwait City Sun 10:52\\n',\n",
       " 'Rome    Sun 08:52\\n',\n",
       " 'Dallas  Sun 01:52\\n',\n",
       " 'Salt Lake City  Sun 01:52\\n',\n",
       " 'San Francisco Sun 00:52\\n',\n",
       " 'Amsterdam Sun 08:52\\n',\n",
       " 'Denver Sun 01:52\\n',\n",
       " 'San Salvador Sun 01:52\\n',\n",
       " 'Detroit Sun 02:52\\n',\n",
       " 'Las Vegas Sun 00:52\\n',\n",
       " 'Santiago    Sun 04:52\\n',\n",
       " 'Anchorage Sat 23:52\\n',\n",
       " 'Ankara Sun 10:52\\n',\n",
       " 'Lisbon  Sun 07:52\\n',\n",
       " 'S찾o Paulo   Sun 05:52\\n',\n",
       " 'Dubai   Sun 11:52\\n',\n",
       " 'London  Sun 07:52\\n',\n",
       " 'Seattle Sun 00:52\\n',\n",
       " 'Dublin  Sun 07:52\\n',\n",
       " 'Los Angeles Sun 00:52\\n',\n",
       " 'Athens  Sun 09:52\\n',\n",
       " 'Edmonton Sun 01:52\\n',\n",
       " 'Madrid  Sun 08:52\\n',\n",
       " 'Shanghai Sun 15:52\\n',\n",
       " 'Atlanta Sun 02:52\\n',\n",
       " 'Frankfurt   Sun 08:52\\n',\n",
       " 'Singapore Sun 15:52\\n',\n",
       " 'Auckland Sun 20:52\\n',\n",
       " 'Halifax Sun 03:52\\n',\n",
       " 'Melbourne Sun 18:52\\n',\n",
       " 'Stockholm   Sun 08:52\\n',\n",
       " 'Barcelona   Sun 08:52\\n',\n",
       " 'Miami   Sun 02:52\\n',\n",
       " 'Minneapolis Sun 01:52\\n',\n",
       " 'Sydney Sun 18:52\\n',\n",
       " 'Beirut  Sun 09:52\\n',\n",
       " 'Helsinki    Sun 09:52\\n',\n",
       " 'Montreal    Sun 02:52\\n',\n",
       " 'Berlin  Sun 08:52\\n',\n",
       " 'Houston Sun 01:52\\n',\n",
       " 'Moscow  Sun 10:52\\n',\n",
       " 'Indianapolis    Sun 02:52   \\n',\n",
       " 'Boston  Sun 02:52\\n',\n",
       " 'Tokyo   Sun 16:52\\n',\n",
       " 'Brasilia Sun 05:52\\n',\n",
       " 'Istanbul Sun 10:52\\n',\n",
       " 'Toronto Sun 02:52\\n',\n",
       " 'Vancouver   Sun 00:52\\n',\n",
       " 'Brussels    Sun 08:52\\n',\n",
       " 'Jerusalem   Sun 09:52\\n',\n",
       " 'New Orleans Sun 01:52\\n',\n",
       " 'Vienna  Sun 08:52\\n',\n",
       " 'Bucharest   Sun 09:52\\n',\n",
       " 'Johannesburg    Sun 09:52\\n',\n",
       " 'New York    Sun 02:52\\n',\n",
       " 'Warsaw  Sun 08:52\\n',\n",
       " 'Budapest    Sun 08:52\\n',\n",
       " 'Oslo    Sun 08:52\\n',\n",
       " 'Washington DC   Sun 02:52\\n',\n",
       " 'Ottawa  Sun 02:52\\n',\n",
       " 'Winnipeg    Sun 01:52\\n',\n",
       " 'Cairo   Sun 09:52\\n',\n",
       " 'Paris   Sun 08:52\\n',\n",
       " 'Calgary Sun 01:52\\n',\n",
       " 'Kathmandu   Sun 13:37\\n',\n",
       " 'Philadelphia    Sun 02:52\\n',\n",
       " 'Zurich  Sun 08:52\\n',\n",
       " 'Cape Town   Sun 09:52\\n',\n",
       " 'Phoenix Sun 00:52       \\n',\n",
       " 'Prague  Sun 08:52       \\n',\n",
       " 'Casablanca  Sun 07:52\\n',\n",
       " 'Reykjavik   Sun 07:52']"
      ]
     },
     "execution_count": 122,
     "metadata": {},
     "output_type": "execute_result"
    }
   ],
   "source": [
    "import pickle\n",
    "lines = open('cities_and_times.txt').readlines()\n",
    "lines"
   ]
  },
  {
   "cell_type": "code",
   "execution_count": 135,
   "id": "7beee3b3-d926-4c7a-a972-e7af34859767",
   "metadata": {
    "scrolled": true
   },
   "outputs": [
    {
     "name": "stdout",
     "output_type": "stream",
     "text": [
      "Chicago\n",
      "Columbus\n",
      "Riyadh\n",
      "Copenhagen\n",
      "Kuwait City\n",
      "Rome\n",
      "Dallas\n",
      "Salt Lake City\n",
      "San Francisco\n",
      "Amsterdam\n",
      "Denver\n",
      "San Salvador\n",
      "Detroit\n",
      "Las Vegas\n",
      "Santiago\n",
      "Anchorage\n",
      "Ankara\n",
      "Lisbon\n",
      "S찾o Paulo\n",
      "Dubai\n",
      "London\n",
      "Seattle\n",
      "Dublin\n",
      "Los Angeles\n",
      "Athens\n",
      "Edmonton\n",
      "Madrid\n",
      "Shanghai\n",
      "Atlanta\n",
      "Frankfurt\n",
      "Singapore\n",
      "Auckland\n",
      "Halifax\n",
      "Melbourne\n",
      "Stockholm\n",
      "Barcelona\n",
      "Miami\n",
      "Minneapolis\n",
      "Sydney\n",
      "Beirut\n",
      "Helsinki\n",
      "Montreal\n",
      "Berlin\n",
      "Houston\n",
      "Moscow\n",
      "Indianapolis\n",
      "Boston\n",
      "Tokyo\n",
      "Brasilia\n",
      "Istanbul\n",
      "Toronto\n",
      "Vancouver\n",
      "Brussels\n",
      "Jerusalem\n",
      "New Orleans\n",
      "Vienna\n",
      "Bucharest\n",
      "Johannesburg\n",
      "New York\n",
      "Warsaw\n",
      "Budapest\n",
      "Oslo\n",
      "Washington DC\n",
      "Ottawa\n",
      "Winnipeg\n",
      "Cairo\n",
      "Paris\n",
      "Calgary\n",
      "Kathmandu\n",
      "Philadelphia\n",
      "Zurich\n",
      "Cape Town\n",
      "Phoenix\n",
      "Prague\n",
      "Casablanca\n",
      "Reykjavik\n"
     ]
    }
   ],
   "source": [
    "cities = []\n",
    "for line in lines:\n",
    "    *city, day, times = line.split()\n",
    "    hours, minutes = times.split(':')\n",
    "    print(\" \".join(city))\n",
    "    cities.append((\" \".join(city), day, (int(hours), int(minutes))))\n",
    "\n",
    "fh = open(\"cities_and_times.pkl\", \"bw\")\n",
    "pickle.dump(cities, fh)"
   ]
  },
  {
   "cell_type": "code",
   "execution_count": 133,
   "id": "7f045273-af6f-42ae-ad18-3e97f8c62aff",
   "metadata": {
    "scrolled": true
   },
   "outputs": [
    {
     "data": {
      "text/plain": [
       "[('Chicago', 'Sun', (1, 52)),\n",
       " ('Columbus', 'Sun', (2, 52)),\n",
       " ('Riyadh', 'Sun', (10, 52)),\n",
       " ('Copenhagen', 'Sun', (8, 52)),\n",
       " ('Kuwait City', 'Sun', (10, 52)),\n",
       " ('Rome', 'Sun', (8, 52)),\n",
       " ('Dallas', 'Sun', (1, 52)),\n",
       " ('Salt Lake City', 'Sun', (1, 52)),\n",
       " ('San Francisco', 'Sun', (0, 52)),\n",
       " ('Amsterdam', 'Sun', (8, 52)),\n",
       " ('Denver', 'Sun', (1, 52)),\n",
       " ('San Salvador', 'Sun', (1, 52)),\n",
       " ('Detroit', 'Sun', (2, 52)),\n",
       " ('Las Vegas', 'Sun', (0, 52)),\n",
       " ('Santiago', 'Sun', (4, 52)),\n",
       " ('Anchorage', 'Sat', (23, 52)),\n",
       " ('Ankara', 'Sun', (10, 52)),\n",
       " ('Lisbon', 'Sun', (7, 52)),\n",
       " ('S찾o Paulo', 'Sun', (5, 52)),\n",
       " ('Dubai', 'Sun', (11, 52)),\n",
       " ('London', 'Sun', (7, 52)),\n",
       " ('Seattle', 'Sun', (0, 52)),\n",
       " ('Dublin', 'Sun', (7, 52)),\n",
       " ('Los Angeles', 'Sun', (0, 52)),\n",
       " ('Athens', 'Sun', (9, 52)),\n",
       " ('Edmonton', 'Sun', (1, 52)),\n",
       " ('Madrid', 'Sun', (8, 52)),\n",
       " ('Shanghai', 'Sun', (15, 52)),\n",
       " ('Atlanta', 'Sun', (2, 52)),\n",
       " ('Frankfurt', 'Sun', (8, 52)),\n",
       " ('Singapore', 'Sun', (15, 52)),\n",
       " ('Auckland', 'Sun', (20, 52)),\n",
       " ('Halifax', 'Sun', (3, 52)),\n",
       " ('Melbourne', 'Sun', (18, 52)),\n",
       " ('Stockholm', 'Sun', (8, 52)),\n",
       " ('Barcelona', 'Sun', (8, 52)),\n",
       " ('Miami', 'Sun', (2, 52)),\n",
       " ('Minneapolis', 'Sun', (1, 52)),\n",
       " ('Sydney', 'Sun', (18, 52)),\n",
       " ('Beirut', 'Sun', (9, 52)),\n",
       " ('Helsinki', 'Sun', (9, 52)),\n",
       " ('Montreal', 'Sun', (2, 52)),\n",
       " ('Berlin', 'Sun', (8, 52)),\n",
       " ('Houston', 'Sun', (1, 52)),\n",
       " ('Moscow', 'Sun', (10, 52)),\n",
       " ('Indianapolis', 'Sun', (2, 52)),\n",
       " ('Boston', 'Sun', (2, 52)),\n",
       " ('Tokyo', 'Sun', (16, 52)),\n",
       " ('Brasilia', 'Sun', (5, 52)),\n",
       " ('Istanbul', 'Sun', (10, 52)),\n",
       " ('Toronto', 'Sun', (2, 52)),\n",
       " ('Vancouver', 'Sun', (0, 52)),\n",
       " ('Brussels', 'Sun', (8, 52)),\n",
       " ('Jerusalem', 'Sun', (9, 52)),\n",
       " ('New Orleans', 'Sun', (1, 52)),\n",
       " ('Vienna', 'Sun', (8, 52)),\n",
       " ('Bucharest', 'Sun', (9, 52)),\n",
       " ('Johannesburg', 'Sun', (9, 52)),\n",
       " ('New York', 'Sun', (2, 52)),\n",
       " ('Warsaw', 'Sun', (8, 52)),\n",
       " ('Budapest', 'Sun', (8, 52)),\n",
       " ('Oslo', 'Sun', (8, 52)),\n",
       " ('Washington DC', 'Sun', (2, 52)),\n",
       " ('Ottawa', 'Sun', (2, 52)),\n",
       " ('Winnipeg', 'Sun', (1, 52)),\n",
       " ('Cairo', 'Sun', (9, 52)),\n",
       " ('Paris', 'Sun', (8, 52)),\n",
       " ('Calgary', 'Sun', (1, 52)),\n",
       " ('Kathmandu', 'Sun', (13, 37)),\n",
       " ('Philadelphia', 'Sun', (2, 52)),\n",
       " ('Zurich', 'Sun', (8, 52)),\n",
       " ('Cape Town', 'Sun', (9, 52)),\n",
       " ('Phoenix', 'Sun', (0, 52)),\n",
       " ('Prague', 'Sun', (8, 52)),\n",
       " ('Casablanca', 'Sun', (7, 52)),\n",
       " ('Reykjavik', 'Sun', (7, 52))]"
      ]
     },
     "execution_count": 133,
     "metadata": {},
     "output_type": "execute_result"
    }
   ],
   "source": [
    "cities"
   ]
  },
  {
   "cell_type": "code",
   "execution_count": 143,
   "id": "cbeadf11-ef43-4d2e-b4aa-ae03a66a0c11",
   "metadata": {
    "scrolled": true
   },
   "outputs": [
    {
     "data": {
      "text/plain": [
       "[('Chicago', 'Sun', (1, 52)),\n",
       " ('Columbus', 'Sun', (2, 52)),\n",
       " ('Riyadh', 'Sun', (10, 52)),\n",
       " ('Copenhagen', 'Sun', (8, 52)),\n",
       " ('Kuwait City', 'Sun', (10, 52)),\n",
       " ('Rome', 'Sun', (8, 52)),\n",
       " ('Dallas', 'Sun', (1, 52)),\n",
       " ('Salt Lake City', 'Sun', (1, 52)),\n",
       " ('San Francisco', 'Sun', (0, 52)),\n",
       " ('Amsterdam', 'Sun', (8, 52)),\n",
       " ('Denver', 'Sun', (1, 52)),\n",
       " ('San Salvador', 'Sun', (1, 52)),\n",
       " ('Detroit', 'Sun', (2, 52)),\n",
       " ('Las Vegas', 'Sun', (0, 52)),\n",
       " ('Santiago', 'Sun', (4, 52)),\n",
       " ('Anchorage', 'Sat', (23, 52)),\n",
       " ('Ankara', 'Sun', (10, 52)),\n",
       " ('Lisbon', 'Sun', (7, 52)),\n",
       " ('S찾o Paulo', 'Sun', (5, 52)),\n",
       " ('Dubai', 'Sun', (11, 52)),\n",
       " ('London', 'Sun', (7, 52)),\n",
       " ('Seattle', 'Sun', (0, 52)),\n",
       " ('Dublin', 'Sun', (7, 52)),\n",
       " ('Los Angeles', 'Sun', (0, 52)),\n",
       " ('Athens', 'Sun', (9, 52)),\n",
       " ('Edmonton', 'Sun', (1, 52)),\n",
       " ('Madrid', 'Sun', (8, 52)),\n",
       " ('Shanghai', 'Sun', (15, 52)),\n",
       " ('Atlanta', 'Sun', (2, 52)),\n",
       " ('Frankfurt', 'Sun', (8, 52)),\n",
       " ('Singapore', 'Sun', (15, 52)),\n",
       " ('Auckland', 'Sun', (20, 52)),\n",
       " ('Halifax', 'Sun', (3, 52)),\n",
       " ('Melbourne', 'Sun', (18, 52)),\n",
       " ('Stockholm', 'Sun', (8, 52)),\n",
       " ('Barcelona', 'Sun', (8, 52)),\n",
       " ('Miami', 'Sun', (2, 52)),\n",
       " ('Minneapolis', 'Sun', (1, 52)),\n",
       " ('Sydney', 'Sun', (18, 52)),\n",
       " ('Beirut', 'Sun', (9, 52)),\n",
       " ('Helsinki', 'Sun', (9, 52)),\n",
       " ('Montreal', 'Sun', (2, 52)),\n",
       " ('Berlin', 'Sun', (8, 52)),\n",
       " ('Houston', 'Sun', (1, 52)),\n",
       " ('Moscow', 'Sun', (10, 52)),\n",
       " ('Indianapolis', 'Sun', (2, 52)),\n",
       " ('Boston', 'Sun', (2, 52)),\n",
       " ('Tokyo', 'Sun', (16, 52)),\n",
       " ('Brasilia', 'Sun', (5, 52)),\n",
       " ('Istanbul', 'Sun', (10, 52)),\n",
       " ('Toronto', 'Sun', (2, 52)),\n",
       " ('Vancouver', 'Sun', (0, 52)),\n",
       " ('Brussels', 'Sun', (8, 52)),\n",
       " ('Jerusalem', 'Sun', (9, 52)),\n",
       " ('New Orleans', 'Sun', (1, 52)),\n",
       " ('Vienna', 'Sun', (8, 52)),\n",
       " ('Bucharest', 'Sun', (9, 52)),\n",
       " ('Johannesburg', 'Sun', (9, 52)),\n",
       " ('New York', 'Sun', (2, 52)),\n",
       " ('Warsaw', 'Sun', (8, 52)),\n",
       " ('Budapest', 'Sun', (8, 52)),\n",
       " ('Oslo', 'Sun', (8, 52)),\n",
       " ('Washington DC', 'Sun', (2, 52)),\n",
       " ('Ottawa', 'Sun', (2, 52)),\n",
       " ('Winnipeg', 'Sun', (1, 52)),\n",
       " ('Cairo', 'Sun', (9, 52)),\n",
       " ('Paris', 'Sun', (8, 52)),\n",
       " ('Calgary', 'Sun', (1, 52)),\n",
       " ('Kathmandu', 'Sun', (13, 37)),\n",
       " ('Philadelphia', 'Sun', (2, 52)),\n",
       " ('Zurich', 'Sun', (8, 52)),\n",
       " ('Cape Town', 'Sun', (9, 52)),\n",
       " ('Phoenix', 'Sun', (0, 52)),\n",
       " ('Prague', 'Sun', (8, 52)),\n",
       " ('Casablanca', 'Sun', (7, 52)),\n",
       " ('Reykjavik', 'Sun', (7, 52))]"
      ]
     },
     "execution_count": 143,
     "metadata": {},
     "output_type": "execute_result"
    }
   ],
   "source": [
    "with open('cities_and_times.pkl', 'rb') as pl:\n",
    "    a = pickle.load(pl)\n",
    "a"
   ]
  },
  {
   "cell_type": "markdown",
   "id": "28b730dd-26bc-4919-a2cc-c61af53019f8",
   "metadata": {
    "jp-MarkdownHeadingCollapsed": true
   },
   "source": [
    "### NUMERICAL OPERATIONS ON NUMPY ARRAYS"
   ]
  },
  {
   "cell_type": "code",
   "execution_count": 144,
   "id": "47f8441f-41a7-4cc5-a04e-80db1c3e5d50",
   "metadata": {},
   "outputs": [],
   "source": [
    "lst = [2,3, 7.9, 3.3, 6.9, 0.11, 10.3, 12.9]\n",
    "v = np.array(lst)"
   ]
  },
  {
   "cell_type": "code",
   "execution_count": 146,
   "id": "db081a7c-44db-4971-b73f-8521fc703c7e",
   "metadata": {},
   "outputs": [
    {
     "data": {
      "text/plain": [
       "array([ 4.  ,  5.  ,  9.9 ,  5.3 ,  8.9 ,  2.11, 12.3 , 14.9 ])"
      ]
     },
     "execution_count": 146,
     "metadata": {},
     "output_type": "execute_result"
    }
   ],
   "source": [
    "v+2"
   ]
  },
  {
   "cell_type": "code",
   "execution_count": 147,
   "id": "c1552a19-f462-471a-b5c7-980027dfa373",
   "metadata": {},
   "outputs": [
    {
     "data": {
      "text/plain": [
       "array([1.41421356, 1.73205081, 2.81069386, 1.81659021, 2.62678511,\n",
       "       0.33166248, 3.20936131, 3.591657  ])"
      ]
     },
     "execution_count": 147,
     "metadata": {},
     "output_type": "execute_result"
    }
   ],
   "source": [
    "v**0.5"
   ]
  },
  {
   "cell_type": "code",
   "execution_count": 148,
   "id": "4c9e111a-a6e2-4383-a257-db4519dc9d31",
   "metadata": {},
   "outputs": [
    {
     "data": {
      "text/plain": [
       "[4.0, 5.0, 9.9, 5.3, 8.9, 2.11, 12.3, 14.9]"
      ]
     },
     "execution_count": 148,
     "metadata": {},
     "output_type": "execute_result"
    }
   ],
   "source": [
    "list(v+2)"
   ]
  },
  {
   "cell_type": "code",
   "execution_count": 149,
   "id": "b8b9aab7-3a17-4d9b-9aa3-e1f4dad8e9ff",
   "metadata": {},
   "outputs": [
    {
     "data": {
      "text/plain": [
       "[4.0, 5.0, 9.9, 5.3, 8.9, 2.11, 12.3, 14.9]"
      ]
     },
     "execution_count": 149,
     "metadata": {},
     "output_type": "execute_result"
    }
   ],
   "source": [
    "[i+2 for i in v]"
   ]
  },
  {
   "cell_type": "code",
   "execution_count": 154,
   "id": "034575c9-375d-4fcf-98d5-23d6bd183d0b",
   "metadata": {},
   "outputs": [
    {
     "data": {
      "text/plain": [
       "[array([ 4.  ,  5.  ,  9.9 ,  5.3 ,  8.9 ,  2.11, 12.3 , 14.9 ]),\n",
       " array([ 4.  ,  5.  ,  9.9 ,  5.3 ,  8.9 ,  2.11, 12.3 , 14.9 ]),\n",
       " array([ 4.  ,  5.  ,  9.9 ,  5.3 ,  8.9 ,  2.11, 12.3 , 14.9 ]),\n",
       " array([ 4.  ,  5.  ,  9.9 ,  5.3 ,  8.9 ,  2.11, 12.3 , 14.9 ]),\n",
       " array([ 4.  ,  5.  ,  9.9 ,  5.3 ,  8.9 ,  2.11, 12.3 , 14.9 ]),\n",
       " array([ 4.  ,  5.  ,  9.9 ,  5.3 ,  8.9 ,  2.11, 12.3 , 14.9 ]),\n",
       " array([ 4.  ,  5.  ,  9.9 ,  5.3 ,  8.9 ,  2.11, 12.3 , 14.9 ]),\n",
       " array([ 4.  ,  5.  ,  9.9 ,  5.3 ,  8.9 ,  2.11, 12.3 , 14.9 ])]"
      ]
     },
     "execution_count": 154,
     "metadata": {},
     "output_type": "execute_result"
    }
   ],
   "source": [
    "def func_sum(x):\n",
    "    return v+2\n",
    "\n",
    "list(map(func_sum, v))"
   ]
  },
  {
   "cell_type": "code",
   "execution_count": 155,
   "id": "6acb8e5f-a65f-4e0e-b5e9-26ca50a02eb1",
   "metadata": {},
   "outputs": [
    {
     "name": "stdout",
     "output_type": "stream",
     "text": [
      "[[12. 13. 14.]\n",
      " [22. 23. 24.]\n",
      " [32. 33. 34.]]\n"
     ]
    }
   ],
   "source": [
    "A = np.array([ [11, 12, 13], [21, 22, 23], [31, 32, 33] ])\n",
    "B = np.ones((3,3))\n",
    "print(A+B)"
   ]
  },
  {
   "cell_type": "code",
   "execution_count": 158,
   "id": "05d97b9c-78c1-4c08-b08c-db9d2998c85d",
   "metadata": {},
   "outputs": [
    {
     "name": "stdout",
     "output_type": "stream",
     "text": [
      "[[11. 12. 13.]\n",
      " [21. 22. 23.]\n",
      " [31. 32. 33.]]\n"
     ]
    }
   ],
   "source": [
    "print(A*B)"
   ]
  },
  {
   "cell_type": "code",
   "execution_count": 159,
   "id": "a9890a0b-3eab-4b8a-a0f8-238deea4eeaf",
   "metadata": {},
   "outputs": [
    {
     "name": "stdout",
     "output_type": "stream",
     "text": [
      "[[36. 36. 36.]\n",
      " [66. 66. 66.]\n",
      " [96. 96. 96.]]\n"
     ]
    }
   ],
   "source": [
    "print(A@B)"
   ]
  },
  {
   "cell_type": "code",
   "execution_count": 160,
   "id": "dceec1b6-6f4c-4dba-b1d0-3d7e96f38a32",
   "metadata": {},
   "outputs": [
    {
     "data": {
      "text/plain": [
       "array([[ 3.66666667,  4.        ,  4.33333333],\n",
       "       [ 7.        ,  7.33333333,  7.66666667],\n",
       "       [10.33333333, 10.66666667, 11.        ]])"
      ]
     },
     "execution_count": 160,
     "metadata": {},
     "output_type": "execute_result"
    }
   ],
   "source": [
    "A = np.array([ [11, 12, 13], [21, 22, 23], [31, 32, 33] ])\n",
    "B = np.ones((3,3))*3\n",
    "A/B"
   ]
  },
  {
   "cell_type": "code",
   "execution_count": 161,
   "id": "0668add6-e264-4773-97b9-7458eb954b84",
   "metadata": {},
   "outputs": [
    {
     "data": {
      "text/plain": [
       "array([[ 1331.,  1728.,  2197.],\n",
       "       [ 9261., 10648., 12167.],\n",
       "       [29791., 32768., 35937.]])"
      ]
     },
     "execution_count": 161,
     "metadata": {},
     "output_type": "execute_result"
    }
   ],
   "source": [
    "A**B"
   ]
  },
  {
   "cell_type": "markdown",
   "id": "ffffb107-bd28-4448-bcd1-b85af3f2a727",
   "metadata": {
    "jp-MarkdownHeadingCollapsed": true
   },
   "source": [
    "#### numpy.dot\n",
    "numpy.dot(a, b, out=None)"
   ]
  },
  {
   "cell_type": "code",
   "execution_count": 163,
   "id": "f5d530e6-3962-4c4c-b4e2-efcb0f8b3cac",
   "metadata": {},
   "outputs": [
    {
     "data": {
      "text/plain": [
       "array([[108., 108., 108.],\n",
       "       [198., 198., 198.],\n",
       "       [288., 288., 288.]])"
      ]
     },
     "execution_count": 163,
     "metadata": {},
     "output_type": "execute_result"
    }
   ],
   "source": [
    "np.dot(A, B)"
   ]
  },
  {
   "cell_type": "code",
   "execution_count": 164,
   "id": "9312b11d-c3f5-40ca-9305-88da5d15a35f",
   "metadata": {},
   "outputs": [
    {
     "data": {
      "text/plain": [
       "array([[108., 108., 108.],\n",
       "       [198., 198., 198.],\n",
       "       [288., 288., 288.]])"
      ]
     },
     "execution_count": 164,
     "metadata": {},
     "output_type": "execute_result"
    }
   ],
   "source": [
    "A@B"
   ]
  },
  {
   "cell_type": "code",
   "execution_count": 165,
   "id": "c17e28ab-840e-448b-94ef-23a8ba26ec77",
   "metadata": {},
   "outputs": [
    {
     "data": {
      "text/plain": [
       "array([[108., 108., 108.],\n",
       "       [198., 198., 198.],\n",
       "       [288., 288., 288.]])"
      ]
     },
     "execution_count": 165,
     "metadata": {},
     "output_type": "execute_result"
    }
   ],
   "source": [
    "A.dot(B)"
   ]
  },
  {
   "cell_type": "code",
   "execution_count": 169,
   "id": "02e13fd6-cac3-4c4c-8b2e-d5aed617c8ad",
   "metadata": {},
   "outputs": [
    {
     "data": {
      "text/plain": [
       "array([[108., 108.],\n",
       "       [198., 198.],\n",
       "       [288., 288.]])"
      ]
     },
     "execution_count": 169,
     "metadata": {},
     "output_type": "execute_result"
    }
   ],
   "source": [
    "A = np.array([ [11, 12, 13], [21, 22, 23], [31, 32, 33] ])\n",
    "B = np.ones((3,2))*3\n",
    "A.dot(B)"
   ]
  },
  {
   "cell_type": "code",
   "execution_count": 170,
   "id": "2f32f4c6-1a53-4f71-b4e8-b30d14d27cca",
   "metadata": {},
   "outputs": [
    {
     "ename": "ValueError",
     "evalue": "shapes (3,2) and (3,3) not aligned: 2 (dim 1) != 3 (dim 0)",
     "output_type": "error",
     "traceback": [
      "\u001b[1;31m---------------------------------------------------------------------------\u001b[0m",
      "\u001b[1;31mValueError\u001b[0m                                Traceback (most recent call last)",
      "Cell \u001b[1;32mIn[170], line 3\u001b[0m\n\u001b[0;32m      1\u001b[0m A \u001b[38;5;241m=\u001b[39m np\u001b[38;5;241m.\u001b[39marray([ [\u001b[38;5;241m11\u001b[39m, \u001b[38;5;241m12\u001b[39m, \u001b[38;5;241m13\u001b[39m], [\u001b[38;5;241m21\u001b[39m, \u001b[38;5;241m22\u001b[39m, \u001b[38;5;241m23\u001b[39m], [\u001b[38;5;241m31\u001b[39m, \u001b[38;5;241m32\u001b[39m, \u001b[38;5;241m33\u001b[39m] ])\n\u001b[0;32m      2\u001b[0m B \u001b[38;5;241m=\u001b[39m np\u001b[38;5;241m.\u001b[39mones((\u001b[38;5;241m3\u001b[39m,\u001b[38;5;241m2\u001b[39m))\u001b[38;5;241m*\u001b[39m\u001b[38;5;241m3\u001b[39m\n\u001b[1;32m----> 3\u001b[0m \u001b[43mB\u001b[49m\u001b[38;5;241;43m.\u001b[39;49m\u001b[43mdot\u001b[49m\u001b[43m(\u001b[49m\u001b[43mA\u001b[49m\u001b[43m)\u001b[49m\n",
      "\u001b[1;31mValueError\u001b[0m: shapes (3,2) and (3,3) not aligned: 2 (dim 1) != 3 (dim 0)"
     ]
    }
   ],
   "source": [
    "A = np.array([ [11, 12, 13], [21, 22, 23], [31, 32, 33] ])\n",
    "B = np.ones((3,2))*3\n",
    "B.dot(A)"
   ]
  },
  {
   "cell_type": "code",
   "execution_count": 171,
   "id": "85effd8d-cb10-49bd-ac99-ded6178bd6ca",
   "metadata": {},
   "outputs": [],
   "source": [
    "import numpy as np\n",
    "X = np.array( [[[3, 1, 2],\n",
    "                [4, 2, 2],\n",
    "                [2, 4, 1]],\n",
    "                [[3, 2, 2],\n",
    "                [4, 4, 3],\n",
    "                [4, 1, 1]],\n",
    "                [[2, 2, 1],\n",
    "                [3, 1, 3],\n",
    "                [3, 2, 3]]])\n",
    "Y = np.array( [[[2, 3, 1],\n",
    "                [2, 2, 4],\n",
    "                [3, 4, 4]],\n",
    "                [[1, 4, 1],\n",
    "                [4, 1, 2],\n",
    "                [4, 1, 2]],\n",
    "                [[1, 2, 3],\n",
    "                [4, 1, 1],\n",
    "                [3, 1, 4]]])"
   ]
  },
  {
   "cell_type": "code",
   "execution_count": 172,
   "id": "f76dfe46-8766-4109-b761-0cbf66838058",
   "metadata": {},
   "outputs": [
    {
     "data": {
      "text/plain": [
       "(3, 3, 3)"
      ]
     },
     "execution_count": 172,
     "metadata": {},
     "output_type": "execute_result"
    }
   ],
   "source": [
    "X.shape"
   ]
  },
  {
   "cell_type": "code",
   "execution_count": 173,
   "id": "ceb329aa-a06d-4999-b374-e6f65d15322e",
   "metadata": {},
   "outputs": [
    {
     "data": {
      "text/plain": [
       "(3, 3, 3)"
      ]
     },
     "execution_count": 173,
     "metadata": {},
     "output_type": "execute_result"
    }
   ],
   "source": [
    "Y.shape"
   ]
  },
  {
   "cell_type": "code",
   "execution_count": 178,
   "id": "14b9039d-e968-4ada-8f55-d25c8ea846aa",
   "metadata": {},
   "outputs": [
    {
     "name": "stdout",
     "output_type": "stream",
     "text": [
      "(3, 3, 3, 3)\n",
      "4\n"
     ]
    }
   ],
   "source": [
    "Z = X.dot(Y)\n",
    "\n",
    "print(Z.shape)\n",
    "print(Z.ndim)"
   ]
  },
  {
   "cell_type": "code",
   "execution_count": 180,
   "id": "4c6b7fa7-4224-4777-8d02-860231e3ecec",
   "metadata": {},
   "outputs": [
    {
     "name": "stdout",
     "output_type": "stream",
     "text": [
      "[[11 12 13]\n",
      " [21 22 23]\n",
      " [31 32 33]]\n",
      "[[3. 3. 3.]\n",
      " [3. 3. 3.]\n",
      " [3. 3. 3.]]\n",
      "[[108. 108. 108.]\n",
      " [198. 198. 198.]\n",
      " [288. 288. 288.]]\n"
     ]
    }
   ],
   "source": [
    "A = np.array([ [11, 12, 13], [21, 22, 23], [31, 32, 33] ])\n",
    "B = np.ones((3,3))*3\n",
    "\n",
    "\n",
    "MA = np.mat(A)\n",
    "MB = np.mat(B)\n",
    "print(MA)\n",
    "print(MB)\n",
    "print(MA*MB)"
   ]
  },
  {
   "cell_type": "markdown",
   "id": "c5ba73bc-a57c-4621-9d2e-289425d46c6c",
   "metadata": {
    "jp-MarkdownHeadingCollapsed": true
   },
   "source": [
    "#### 비교 연산"
   ]
  },
  {
   "cell_type": "code",
   "execution_count": 181,
   "id": "46054bd0-d03e-4e61-89d2-bba55ab90a57",
   "metadata": {},
   "outputs": [
    {
     "data": {
      "text/plain": [
       "array([[ True, False,  True],\n",
       "       [False,  True, False],\n",
       "       [ True,  True, False]])"
      ]
     },
     "execution_count": 181,
     "metadata": {},
     "output_type": "execute_result"
    }
   ],
   "source": [
    "A = np.array([ [11, 12, 13], [21, 22, 23], [31, 32, 33] ])\n",
    "B = np.array([ [11, 102, 13], [201, 22, 203], [31, 32, 303] ])\n",
    "A == B"
   ]
  },
  {
   "cell_type": "code",
   "execution_count": 182,
   "id": "231ea1a7-8f56-415a-a4a4-bdc890ac642e",
   "metadata": {},
   "outputs": [
    {
     "data": {
      "text/plain": [
       "False"
      ]
     },
     "execution_count": 182,
     "metadata": {},
     "output_type": "execute_result"
    }
   ],
   "source": [
    "[ [11, 12, 13], [21, 22, 23], [31, 32, 33] ] == [ [11, 102, 13], [201, 22, 203], [31, 32, 303] ]"
   ]
  },
  {
   "cell_type": "code",
   "execution_count": 184,
   "id": "51271b2f-e932-43ae-aa82-ef6a5c8ea258",
   "metadata": {},
   "outputs": [
    {
     "data": {
      "text/plain": [
       "False"
      ]
     },
     "execution_count": 184,
     "metadata": {},
     "output_type": "execute_result"
    }
   ],
   "source": [
    "np.array_equal(A, B)"
   ]
  },
  {
   "cell_type": "code",
   "execution_count": 185,
   "id": "d3d56a85-1fa6-41c2-886c-664a53517ebc",
   "metadata": {},
   "outputs": [],
   "source": [
    "a = np.array([ [True, True], [False, False]])\n",
    "b = np.array([ [True, False], [True, False]])"
   ]
  },
  {
   "cell_type": "code",
   "execution_count": 187,
   "id": "a6d5536e-1e88-4a07-965d-ce644d24c59c",
   "metadata": {},
   "outputs": [
    {
     "data": {
      "text/plain": [
       "array([[False,  True],\n",
       "       [False, False]])"
      ]
     },
     "execution_count": 187,
     "metadata": {},
     "output_type": "execute_result"
    }
   ],
   "source": [
    "a > b"
   ]
  },
  {
   "cell_type": "code",
   "execution_count": 188,
   "id": "52af649b-05d9-4341-aac1-013f7fcbbbf5",
   "metadata": {},
   "outputs": [
    {
     "data": {
      "text/plain": [
       "array([[ True,  True],\n",
       "       [ True, False]])"
      ]
     },
     "execution_count": 188,
     "metadata": {},
     "output_type": "execute_result"
    }
   ],
   "source": [
    "np.logical_or(a,b)"
   ]
  },
  {
   "cell_type": "code",
   "execution_count": 189,
   "id": "0c5d14cc-dd68-4322-8382-82ff107925c8",
   "metadata": {},
   "outputs": [
    {
     "data": {
      "text/plain": [
       "array([[False,  True],\n",
       "       [ True, False]])"
      ]
     },
     "execution_count": 189,
     "metadata": {},
     "output_type": "execute_result"
    }
   ],
   "source": [
    "np.logical_xor(a,b)"
   ]
  },
  {
   "cell_type": "markdown",
   "id": "d5868fd5-1016-4137-bb72-f959359b3431",
   "metadata": {},
   "source": [
    "### NUMPY ARRAYS: CONCATENATING, FLATTENING AND ADDING DIMENSIONS"
   ]
  },
  {
   "cell_type": "markdown",
   "id": "4e320732-314d-498d-aabd-bd91e2e751b8",
   "metadata": {},
   "source": [
    "#### FLATTEN"
   ]
  },
  {
   "cell_type": "code",
   "execution_count": 190,
   "id": "49966ed2-9c53-4b3d-9943-e3a34879f7bb",
   "metadata": {},
   "outputs": [
    {
     "data": {
      "text/plain": [
       "(3, 4, 2)"
      ]
     },
     "execution_count": 190,
     "metadata": {},
     "output_type": "execute_result"
    }
   ],
   "source": [
    "A = np.array([[[ 0, 1],\n",
    "                [ 2, 3],\n",
    "                [ 4, 5],\n",
    "                [ 6, 7]],\n",
    "                [[ 8, 9],\n",
    "                [10, 11],\n",
    "                [12, 13],\n",
    "                [14, 15]],\n",
    "                [[16, 17],\n",
    "                [18, 19],\n",
    "                [20, 21],\n",
    "                [22, 23]]])\n",
    "A.shape"
   ]
  },
  {
   "cell_type": "code",
   "execution_count": 191,
   "id": "10e6528d-036c-4987-927a-7ae674e1660c",
   "metadata": {},
   "outputs": [
    {
     "data": {
      "text/plain": [
       "array([ 0,  1,  2,  3,  4,  5,  6,  7,  8,  9, 10, 11, 12, 13, 14, 15, 16,\n",
       "       17, 18, 19, 20, 21, 22, 23])"
      ]
     },
     "execution_count": 191,
     "metadata": {},
     "output_type": "execute_result"
    }
   ],
   "source": [
    "Flatten_X = A.flatten()\n",
    "Flatten_X"
   ]
  },
  {
   "cell_type": "markdown",
   "id": "1a996b2b-c6f0-4848-93a3-b99f9c6408ab",
   "metadata": {},
   "source": [
    "#### RAVEL"
   ]
  },
  {
   "cell_type": "code",
   "execution_count": 192,
   "id": "1ac1c8d4-3288-45c4-8ad3-d4c8851d1050",
   "metadata": {},
   "outputs": [
    {
     "data": {
      "text/plain": [
       "array([ 0,  1,  2,  3,  4,  5,  6,  7,  8,  9, 10, 11, 12, 13, 14, 15, 16,\n",
       "       17, 18, 19, 20, 21, 22, 23])"
      ]
     },
     "execution_count": 192,
     "metadata": {},
     "output_type": "execute_result"
    }
   ],
   "source": [
    "Ravel_X = A.ravel()\n",
    "Ravel_X"
   ]
  },
  {
   "cell_type": "markdown",
   "id": "5c70d0db-1d3b-43a8-906f-aac28e98ac51",
   "metadata": {},
   "source": [
    "#### Flatten vs Ravel"
   ]
  },
  {
   "cell_type": "code",
   "execution_count": 195,
   "id": "7094f31e-6c96-4741-a6d0-f77cc2ffb828",
   "metadata": {},
   "outputs": [
    {
     "data": {
      "text/plain": [
       "array([[9, 0, 5],\n",
       "       [2, 1, 6]])"
      ]
     },
     "execution_count": 195,
     "metadata": {},
     "output_type": "execute_result"
    }
   ],
   "source": [
    "a = np.random.randint(0, 10, (2,3))\n",
    "a"
   ]
  },
  {
   "cell_type": "code",
   "execution_count": 197,
   "id": "7398f771-905b-42ac-bfce-e34a3b1158e7",
   "metadata": {},
   "outputs": [
    {
     "name": "stdout",
     "output_type": "stream",
     "text": [
      "변경 전 :[[9 0 5]\n",
      " [2 1 6]]\n",
      "변경 후 : [[9 0 5]\n",
      " [2 1 6]]\n",
      "b : [10  0  5  2  1  6]\n"
     ]
    }
   ],
   "source": [
    "print(f'변경 전 :{a}')\n",
    "b = a.flatten()\n",
    "b[0] = 10\n",
    "\n",
    "print(f'변경 후 : {a}')\n",
    "print(f'b : {b}')"
   ]
  },
  {
   "cell_type": "code",
   "execution_count": 198,
   "id": "43d3d446-3c1c-47aa-bc44-494a617a1f9d",
   "metadata": {},
   "outputs": [
    {
     "name": "stdout",
     "output_type": "stream",
     "text": [
      "변경 전 :[[9 0 5]\n",
      " [2 1 6]]\n",
      "변경 후 : [[10  0  5]\n",
      " [ 2  1  6]]\n",
      "b : [10  0  5  2  1  6]\n"
     ]
    }
   ],
   "source": [
    "print(f'변경 전 :{a}')\n",
    "b = a.ravel()\n",
    "b[0] = 10\n",
    "\n",
    "print(f'변경 후 : {a}')\n",
    "print(f'b : {b}')"
   ]
  },
  {
   "cell_type": "markdown",
   "id": "ac201083-68eb-4050-8047-af16325782b8",
   "metadata": {},
   "source": [
    "#### Reshape\n",
    "* numpy.reshape(a, newshape, order='C')\n"
   ]
  },
  {
   "cell_type": "code",
   "execution_count": 199,
   "id": "a5d1ad0a-19f8-498c-977b-9ac9ecf4a008",
   "metadata": {},
   "outputs": [],
   "source": [
    "arr = np.array([[0, 1],\n",
    "       [2, 3],\n",
    "       [4, 5]])"
   ]
  },
  {
   "cell_type": "code",
   "execution_count": 203,
   "id": "477bd7d5-aeb1-41f9-9596-6541030ed110",
   "metadata": {},
   "outputs": [
    {
     "ename": "ValueError",
     "evalue": "cannot reshape array of size 6 into shape (5,1)",
     "output_type": "error",
     "traceback": [
      "\u001b[1;31m---------------------------------------------------------------------------\u001b[0m",
      "\u001b[1;31mValueError\u001b[0m                                Traceback (most recent call last)",
      "Cell \u001b[1;32mIn[203], line 1\u001b[0m\n\u001b[1;32m----> 1\u001b[0m \u001b[43mnp\u001b[49m\u001b[38;5;241;43m.\u001b[39;49m\u001b[43mreshape\u001b[49m\u001b[43m(\u001b[49m\u001b[43marr\u001b[49m\u001b[43m,\u001b[49m\u001b[43m \u001b[49m\u001b[43m(\u001b[49m\u001b[38;5;241;43m5\u001b[39;49m\u001b[43m,\u001b[49m\u001b[38;5;241;43m1\u001b[39;49m\u001b[43m)\u001b[49m\u001b[43m)\u001b[49m\n",
      "File \u001b[1;32m~\\AppData\\Local\\Programs\\Python\\Python311\\Lib\\site-packages\\numpy\\core\\fromnumeric.py:285\u001b[0m, in \u001b[0;36mreshape\u001b[1;34m(a, newshape, order)\u001b[0m\n\u001b[0;32m    200\u001b[0m \u001b[38;5;129m@array_function_dispatch\u001b[39m(_reshape_dispatcher)\n\u001b[0;32m    201\u001b[0m \u001b[38;5;28;01mdef\u001b[39;00m \u001b[38;5;21mreshape\u001b[39m(a, newshape, order\u001b[38;5;241m=\u001b[39m\u001b[38;5;124m'\u001b[39m\u001b[38;5;124mC\u001b[39m\u001b[38;5;124m'\u001b[39m):\n\u001b[0;32m    202\u001b[0m \u001b[38;5;250m    \u001b[39m\u001b[38;5;124;03m\"\"\"\u001b[39;00m\n\u001b[0;32m    203\u001b[0m \u001b[38;5;124;03m    Gives a new shape to an array without changing its data.\u001b[39;00m\n\u001b[0;32m    204\u001b[0m \n\u001b[1;32m   (...)\u001b[0m\n\u001b[0;32m    283\u001b[0m \u001b[38;5;124;03m           [5, 6]])\u001b[39;00m\n\u001b[0;32m    284\u001b[0m \u001b[38;5;124;03m    \"\"\"\u001b[39;00m\n\u001b[1;32m--> 285\u001b[0m     \u001b[38;5;28;01mreturn\u001b[39;00m \u001b[43m_wrapfunc\u001b[49m\u001b[43m(\u001b[49m\u001b[43ma\u001b[49m\u001b[43m,\u001b[49m\u001b[43m \u001b[49m\u001b[38;5;124;43m'\u001b[39;49m\u001b[38;5;124;43mreshape\u001b[39;49m\u001b[38;5;124;43m'\u001b[39;49m\u001b[43m,\u001b[49m\u001b[43m \u001b[49m\u001b[43mnewshape\u001b[49m\u001b[43m,\u001b[49m\u001b[43m \u001b[49m\u001b[43morder\u001b[49m\u001b[38;5;241;43m=\u001b[39;49m\u001b[43morder\u001b[49m\u001b[43m)\u001b[49m\n",
      "File \u001b[1;32m~\\AppData\\Local\\Programs\\Python\\Python311\\Lib\\site-packages\\numpy\\core\\fromnumeric.py:59\u001b[0m, in \u001b[0;36m_wrapfunc\u001b[1;34m(obj, method, *args, **kwds)\u001b[0m\n\u001b[0;32m     56\u001b[0m     \u001b[38;5;28;01mreturn\u001b[39;00m _wrapit(obj, method, \u001b[38;5;241m*\u001b[39margs, \u001b[38;5;241m*\u001b[39m\u001b[38;5;241m*\u001b[39mkwds)\n\u001b[0;32m     58\u001b[0m \u001b[38;5;28;01mtry\u001b[39;00m:\n\u001b[1;32m---> 59\u001b[0m     \u001b[38;5;28;01mreturn\u001b[39;00m \u001b[43mbound\u001b[49m\u001b[43m(\u001b[49m\u001b[38;5;241;43m*\u001b[39;49m\u001b[43margs\u001b[49m\u001b[43m,\u001b[49m\u001b[43m \u001b[49m\u001b[38;5;241;43m*\u001b[39;49m\u001b[38;5;241;43m*\u001b[39;49m\u001b[43mkwds\u001b[49m\u001b[43m)\u001b[49m\n\u001b[0;32m     60\u001b[0m \u001b[38;5;28;01mexcept\u001b[39;00m \u001b[38;5;167;01mTypeError\u001b[39;00m:\n\u001b[0;32m     61\u001b[0m     \u001b[38;5;66;03m# A TypeError occurs if the object does have such a method in its\u001b[39;00m\n\u001b[0;32m     62\u001b[0m     \u001b[38;5;66;03m# class, but its signature is not identical to that of NumPy's. This\u001b[39;00m\n\u001b[1;32m   (...)\u001b[0m\n\u001b[0;32m     66\u001b[0m     \u001b[38;5;66;03m# Call _wrapit from within the except clause to ensure a potential\u001b[39;00m\n\u001b[0;32m     67\u001b[0m     \u001b[38;5;66;03m# exception has a traceback chain.\u001b[39;00m\n\u001b[0;32m     68\u001b[0m     \u001b[38;5;28;01mreturn\u001b[39;00m _wrapit(obj, method, \u001b[38;5;241m*\u001b[39margs, \u001b[38;5;241m*\u001b[39m\u001b[38;5;241m*\u001b[39mkwds)\n",
      "\u001b[1;31mValueError\u001b[0m: cannot reshape array of size 6 into shape (5,1)"
     ]
    }
   ],
   "source": [
    "np.reshape(arr, (5,1))"
   ]
  },
  {
   "cell_type": "code",
   "execution_count": 202,
   "id": "6de8c960-0171-4fa5-a617-9b05ba153e51",
   "metadata": {},
   "outputs": [
    {
     "data": {
      "text/plain": [
       "array([[0, 1, 2],\n",
       "       [3, 4, 5]])"
      ]
     },
     "execution_count": 202,
     "metadata": {},
     "output_type": "execute_result"
    }
   ],
   "source": [
    "np.reshape(arr, (2,3))"
   ]
  },
  {
   "cell_type": "code",
   "execution_count": 206,
   "id": "ac48a521-75f0-4b97-813e-90986ac2871e",
   "metadata": {},
   "outputs": [
    {
     "data": {
      "text/plain": [
       "array([[0, 1, 2, 3, 4, 5]])"
      ]
     },
     "execution_count": 206,
     "metadata": {},
     "output_type": "execute_result"
    }
   ],
   "source": [
    "arr.reshape(1,6)"
   ]
  },
  {
   "cell_type": "code",
   "execution_count": 207,
   "id": "bf119164-3d14-4bca-a39e-fcfb5f2bfe47",
   "metadata": {},
   "outputs": [],
   "source": [
    "x = np.array(range(24))"
   ]
  },
  {
   "cell_type": "code",
   "execution_count": 208,
   "id": "3df8aba6-6b1e-4690-bec9-9d9b2107b994",
   "metadata": {},
   "outputs": [
    {
     "data": {
      "text/plain": [
       "array([ 0,  1,  2,  3,  4,  5,  6,  7,  8,  9, 10, 11, 12, 13, 14, 15, 16,\n",
       "       17, 18, 19, 20, 21, 22, 23])"
      ]
     },
     "execution_count": 208,
     "metadata": {},
     "output_type": "execute_result"
    }
   ],
   "source": [
    "x"
   ]
  },
  {
   "cell_type": "code",
   "execution_count": 211,
   "id": "76dc53d9-dd3d-48be-ad9c-444eba78cb3b",
   "metadata": {},
   "outputs": [
    {
     "data": {
      "text/plain": [
       "4"
      ]
     },
     "execution_count": 211,
     "metadata": {},
     "output_type": "execute_result"
    }
   ],
   "source": [
    "k = x.reshape(2,3,2,2)\n",
    "k.ndim"
   ]
  },
  {
   "cell_type": "code",
   "execution_count": 214,
   "id": "3f3ef47a-9c05-42dc-bfdf-e5aae9c313e4",
   "metadata": {},
   "outputs": [
    {
     "data": {
      "text/plain": [
       "array([[[ 0,  1,  2,  3],\n",
       "        [ 4,  5,  6,  7],\n",
       "        [ 8,  9, 10, 11]],\n",
       "\n",
       "       [[12, 13, 14, 15],\n",
       "        [16, 17, 18, 19],\n",
       "        [20, 21, 22, 23]],\n",
       "\n",
       "       [[24, 25, 26, 27],\n",
       "        [28, 29, 30, 31],\n",
       "        [32, 33, 34, 35]],\n",
       "\n",
       "       [[36, 37, 38, 39],\n",
       "        [40, 41, 42, 43],\n",
       "        [44, 45, 46, 47]]])"
      ]
     },
     "execution_count": 214,
     "metadata": {},
     "output_type": "execute_result"
    }
   ],
   "source": [
    "x = np.array(range(48))\n",
    "x.reshape(4,3,4)"
   ]
  },
  {
   "cell_type": "code",
   "execution_count": 215,
   "id": "37964318-938a-4d8f-9783-2502ea859af4",
   "metadata": {},
   "outputs": [
    {
     "data": {
      "text/plain": [
       "array([[[ 0,  1,  2,  3],\n",
       "        [ 4,  5,  6,  7]],\n",
       "\n",
       "       [[ 8,  9, 10, 11],\n",
       "        [12, 13, 14, 15]],\n",
       "\n",
       "       [[16, 17, 18, 19],\n",
       "        [20, 21, 22, 23]],\n",
       "\n",
       "       [[24, 25, 26, 27],\n",
       "        [28, 29, 30, 31]],\n",
       "\n",
       "       [[32, 33, 34, 35],\n",
       "        [36, 37, 38, 39]],\n",
       "\n",
       "       [[40, 41, 42, 43],\n",
       "        [44, 45, 46, 47]],\n",
       "\n",
       "       [[48, 49, 50, 51],\n",
       "        [52, 53, 54, 55]],\n",
       "\n",
       "       [[56, 57, 58, 59],\n",
       "        [60, 61, 62, 63]],\n",
       "\n",
       "       [[64, 65, 66, 67],\n",
       "        [68, 69, 70, 71]],\n",
       "\n",
       "       [[72, 73, 74, 75],\n",
       "        [76, 77, 78, 79]]])"
      ]
     },
     "execution_count": 215,
     "metadata": {},
     "output_type": "execute_result"
    }
   ],
   "source": [
    "x = np.array(range(80))\n",
    "x.reshape(10,2,4)"
   ]
  },
  {
   "cell_type": "code",
   "execution_count": 216,
   "id": "04682018-7d83-4c7b-aa25-ecdd4fcb34c9",
   "metadata": {},
   "outputs": [
    {
     "data": {
      "text/plain": [
       "array([[0, 1, 2],\n",
       "       [3, 4, 5]])"
      ]
     },
     "execution_count": 216,
     "metadata": {},
     "output_type": "execute_result"
    }
   ],
   "source": [
    "arr_data = arr.reshape((2, 3))\n",
    "arr_data"
   ]
  },
  {
   "cell_type": "code",
   "execution_count": 217,
   "id": "b5697319-b57e-4818-8584-62400acab81f",
   "metadata": {},
   "outputs": [
    {
     "data": {
      "text/plain": [
       "array([[0],\n",
       "       [1],\n",
       "       [2],\n",
       "       [3],\n",
       "       [4],\n",
       "       [5]])"
      ]
     },
     "execution_count": 217,
     "metadata": {},
     "output_type": "execute_result"
    }
   ],
   "source": [
    "arr_data.reshape(-1, 1)"
   ]
  },
  {
   "cell_type": "code",
   "execution_count": 218,
   "id": "ebe2d73f-8c53-479c-8e47-fa16392660cb",
   "metadata": {},
   "outputs": [
    {
     "data": {
      "text/plain": [
       "array([[0, 1, 2, 3, 4, 5]])"
      ]
     },
     "execution_count": 218,
     "metadata": {},
     "output_type": "execute_result"
    }
   ],
   "source": [
    "arr_data.reshape(1, -1)"
   ]
  },
  {
   "cell_type": "markdown",
   "id": "ebaa703b-1e7d-4f0e-a703-2a9dd9f54ec3",
   "metadata": {},
   "source": [
    "#### CONCATENATING ARRAYS\n",
    "* numpy.concatenate((a1, a2, ...), axis=0, out=None, dtype=None, casting=\"same_kind\")"
   ]
  },
  {
   "cell_type": "code",
   "execution_count": 220,
   "id": "5cb81054-8057-4b28-80de-97392fc81757",
   "metadata": {},
   "outputs": [
    {
     "ename": "AxisError",
     "evalue": "axis 1 is out of bounds for array of dimension 1",
     "output_type": "error",
     "traceback": [
      "\u001b[1;31m---------------------------------------------------------------------------\u001b[0m",
      "\u001b[1;31mAxisError\u001b[0m                                 Traceback (most recent call last)",
      "Cell \u001b[1;32mIn[220], line 4\u001b[0m\n\u001b[0;32m      2\u001b[0m y \u001b[38;5;241m=\u001b[39m np\u001b[38;5;241m.\u001b[39marray([\u001b[38;5;241m18\u001b[39m,\u001b[38;5;241m7\u001b[39m,\u001b[38;5;241m6\u001b[39m])\n\u001b[0;32m      3\u001b[0m z \u001b[38;5;241m=\u001b[39m np\u001b[38;5;241m.\u001b[39marray([\u001b[38;5;241m1\u001b[39m,\u001b[38;5;241m3\u001b[39m,\u001b[38;5;241m5\u001b[39m])\n\u001b[1;32m----> 4\u001b[0m \u001b[43mnp\u001b[49m\u001b[38;5;241;43m.\u001b[39;49m\u001b[43mconcatenate\u001b[49m\u001b[43m(\u001b[49m\u001b[43m(\u001b[49m\u001b[43mx\u001b[49m\u001b[43m,\u001b[49m\u001b[43m \u001b[49m\u001b[43my\u001b[49m\u001b[43m,\u001b[49m\u001b[43m \u001b[49m\u001b[43mz\u001b[49m\u001b[43m)\u001b[49m\u001b[43m,\u001b[49m\u001b[43m \u001b[49m\u001b[43maxis\u001b[49m\u001b[43m \u001b[49m\u001b[38;5;241;43m=\u001b[39;49m\u001b[43m \u001b[49m\u001b[38;5;241;43m1\u001b[39;49m\u001b[43m)\u001b[49m\n",
      "\u001b[1;31mAxisError\u001b[0m: axis 1 is out of bounds for array of dimension 1"
     ]
    }
   ],
   "source": [
    "x = np.array([11,22])\n",
    "y = np.array([18,7,6])\n",
    "z = np.array([1,3,5])\n",
    "np.concatenate((x, y, z), axis = 1)"
   ]
  },
  {
   "cell_type": "code",
   "execution_count": 221,
   "id": "c07f6b1e-0934-4f67-b9c0-30f9ffd3b1fc",
   "metadata": {},
   "outputs": [],
   "source": [
    "x = np.array(range(24))\n",
    "x = x.reshape((3,4,2))\n",
    "y = np.array(range(100,124))\n",
    "y = y.reshape((3,4,2))"
   ]
  },
  {
   "cell_type": "code",
   "execution_count": 222,
   "id": "847b4ca2-1882-4fa7-926d-7bb4dfa8c6b9",
   "metadata": {},
   "outputs": [
    {
     "name": "stdout",
     "output_type": "stream",
     "text": [
      "[[[ 0  1]\n",
      "  [ 2  3]\n",
      "  [ 4  5]\n",
      "  [ 6  7]]\n",
      "\n",
      " [[ 8  9]\n",
      "  [10 11]\n",
      "  [12 13]\n",
      "  [14 15]]\n",
      "\n",
      " [[16 17]\n",
      "  [18 19]\n",
      "  [20 21]\n",
      "  [22 23]]]\n",
      "[[[100 101]\n",
      "  [102 103]\n",
      "  [104 105]\n",
      "  [106 107]]\n",
      "\n",
      " [[108 109]\n",
      "  [110 111]\n",
      "  [112 113]\n",
      "  [114 115]]\n",
      "\n",
      " [[116 117]\n",
      "  [118 119]\n",
      "  [120 121]\n",
      "  [122 123]]]\n"
     ]
    }
   ],
   "source": [
    "print(x)\n",
    "print(y)"
   ]
  },
  {
   "cell_type": "code",
   "execution_count": 224,
   "id": "b5c7a620-8bf8-4a97-9769-944452c46085",
   "metadata": {},
   "outputs": [
    {
     "data": {
      "text/plain": [
       "array([[[  0,   1],\n",
       "        [  2,   3],\n",
       "        [  4,   5],\n",
       "        [  6,   7],\n",
       "        [100, 101],\n",
       "        [102, 103],\n",
       "        [104, 105],\n",
       "        [106, 107]],\n",
       "\n",
       "       [[  8,   9],\n",
       "        [ 10,  11],\n",
       "        [ 12,  13],\n",
       "        [ 14,  15],\n",
       "        [108, 109],\n",
       "        [110, 111],\n",
       "        [112, 113],\n",
       "        [114, 115]],\n",
       "\n",
       "       [[ 16,  17],\n",
       "        [ 18,  19],\n",
       "        [ 20,  21],\n",
       "        [ 22,  23],\n",
       "        [116, 117],\n",
       "        [118, 119],\n",
       "        [120, 121],\n",
       "        [122, 123]]])"
      ]
     },
     "execution_count": 224,
     "metadata": {},
     "output_type": "execute_result"
    }
   ],
   "source": [
    "np.concatenate((x, y), axis = 1)"
   ]
  },
  {
   "cell_type": "markdown",
   "id": "dfa57898-7439-4c7d-b9f4-14e0de2c68a2",
   "metadata": {},
   "source": [
    "#### ADDING NEW DIMENSIONS"
   ]
  },
  {
   "cell_type": "code",
   "execution_count": 225,
   "id": "6f012cdc-dade-462b-8de3-77fef8408a09",
   "metadata": {},
   "outputs": [
    {
     "name": "stdout",
     "output_type": "stream",
     "text": [
      "[[ 2]\n",
      " [ 5]\n",
      " [18]\n",
      " [14]\n",
      " [ 4]]\n"
     ]
    }
   ],
   "source": [
    "x = np.array([2,5,18,14,4])\n",
    "y = x[:, np.newaxis]\n",
    "print(y)"
   ]
  },
  {
   "cell_type": "markdown",
   "id": "b3f0d9e2-4197-4593-90c8-0c4495717325",
   "metadata": {},
   "source": [
    "#### VECTOR STACKING\n"
   ]
  },
  {
   "cell_type": "code",
   "execution_count": 226,
   "id": "3f3c960f-fb84-43d5-a3ca-9446d2eb77e7",
   "metadata": {},
   "outputs": [],
   "source": [
    "A = np.array([3, 4, 5])\n",
    "B = np.array([1,9,0])"
   ]
  },
  {
   "cell_type": "code",
   "execution_count": 228,
   "id": "18ef078f-43f0-4d6d-934d-2ffc5211e5fd",
   "metadata": {},
   "outputs": [
    {
     "data": {
      "text/plain": [
       "array([[3, 1],\n",
       "       [4, 9],\n",
       "       [5, 0]])"
      ]
     },
     "execution_count": 228,
     "metadata": {},
     "output_type": "execute_result"
    }
   ],
   "source": [
    "np.column_stack((A, B))"
   ]
  },
  {
   "cell_type": "markdown",
   "id": "085ba7a8-9daa-41ad-8b8c-841ad8160b55",
   "metadata": {},
   "source": [
    "#### NUMPY: BOOLEAN INDEXING"
   ]
  },
  {
   "cell_type": "code",
   "execution_count": 231,
   "id": "58252393-da07-4c20-bd7a-9bbc0e1037e5",
   "metadata": {},
   "outputs": [
    {
     "data": {
      "text/plain": [
       "4"
      ]
     },
     "execution_count": 231,
     "metadata": {},
     "output_type": "execute_result"
    }
   ],
   "source": [
    "x = np.array([2,5,18,18,18, 18, 14,4])\n",
    "(x == 18).sum()"
   ]
  },
  {
   "cell_type": "markdown",
   "id": "ad6b85eb-bd6f-4de9-94c5-03bef0f70380",
   "metadata": {},
   "source": [
    "#### FANCY INDEXING"
   ]
  },
  {
   "cell_type": "code",
   "execution_count": 232,
   "id": "2f952ea1-5c64-4c62-b3d9-7a457d4f9727",
   "metadata": {},
   "outputs": [
    {
     "data": {
      "text/plain": [
       "array([ True, False,  True, False, False, False,  True])"
      ]
     },
     "execution_count": 232,
     "metadata": {},
     "output_type": "execute_result"
    }
   ],
   "source": [
    "C = np.array([123,188,190,99,77,88,100])\n",
    "A = np.array([4,7,2,8,6,9,5])\n",
    "A <= 5"
   ]
  },
  {
   "cell_type": "code",
   "execution_count": 233,
   "id": "b0ba8b38-fb26-4576-aa2d-d1a012d241c1",
   "metadata": {},
   "outputs": [
    {
     "data": {
      "text/plain": [
       "array([123, 190, 100])"
      ]
     },
     "execution_count": 233,
     "metadata": {},
     "output_type": "execute_result"
    }
   ],
   "source": [
    "C[[ True, False,  True, False, False, False,  True]]"
   ]
  },
  {
   "cell_type": "markdown",
   "id": "83619e65-077a-4192-9d7c-6600bb2cdb90",
   "metadata": {},
   "source": [
    "#### WEIGHTED RANDOM CHOICE WITH NUMPY"
   ]
  },
  {
   "cell_type": "code",
   "execution_count": 265,
   "id": "6ce10f98-fe17-4f21-9e85-e62701e3b780",
   "metadata": {},
   "outputs": [
    {
     "data": {
      "text/plain": [
       "'scientist'"
      ]
     },
     "execution_count": 265,
     "metadata": {},
     "output_type": "execute_result"
    }
   ],
   "source": [
    "from numpy.random import choice\n",
    "professions = [\"scientist\",\n",
    "\"philosopher\",\n",
    "\"engineer\",\n",
    "\"priest\",\n",
    "\"programmer\"]\n",
    "probabilities = [0.2, 0.05, 0.3, 0.15, 0.3]\n",
    "choice(professions, p=probabilities)"
   ]
  },
  {
   "cell_type": "code",
   "execution_count": 266,
   "id": "ae31b115-312d-4805-8b13-e2450cacc059",
   "metadata": {},
   "outputs": [
    {
     "name": "stdout",
     "output_type": "stream",
     "text": [
      "[0.33826638 0.32135307 0.21141649 0.12896406]\n",
      "Python\n",
      "Java\n",
      "C++\n",
      "Python\n",
      "Python\n",
      "Java\n",
      "Java\n",
      "Java\n",
      "C\n",
      "Java\n"
     ]
    }
   ],
   "source": [
    "programming_languages = [\"Java\", \"C\", \"Python\", \"C++\"]\n",
    "weights = np.array([16, 15.2, 10, 6.1])\n",
    "# normalization\n",
    "weights /= sum(weights)\n",
    "print(weights)\n",
    "for i in range(10):\n",
    "    print(choice(programming_languages, p=weights))"
   ]
  }
 ],
 "metadata": {
  "kernelspec": {
   "display_name": "Python 3 (ipykernel)",
   "language": "python",
   "name": "python3"
  },
  "language_info": {
   "codemirror_mode": {
    "name": "ipython",
    "version": 3
   },
   "file_extension": ".py",
   "mimetype": "text/x-python",
   "name": "python",
   "nbconvert_exporter": "python",
   "pygments_lexer": "ipython3",
   "version": "3.11.4"
  }
 },
 "nbformat": 4,
 "nbformat_minor": 5
}
