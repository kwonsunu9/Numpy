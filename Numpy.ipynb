{
 "cells": [
  {
   "cell_type": "code",
   "execution_count": 1,
   "id": "e48aa587-5e67-4355-ae27-34c2962bf827",
   "metadata": {},
   "outputs": [],
   "source": [
    "import numpy as np"
   ]
  },
  {
   "cell_type": "code",
   "execution_count": 4,
   "id": "5d3c8382-b08b-4cac-8eca-d5e37126a40c",
   "metadata": {},
   "outputs": [
    {
     "data": {
      "text/plain": [
       "list"
      ]
     },
     "execution_count": 4,
     "metadata": {},
     "output_type": "execute_result"
    }
   ],
   "source": [
    "data_list = [1, 2, 3, 4, 5]\n",
    "type(data_list)"
   ]
  },
  {
   "cell_type": "code",
   "execution_count": 10,
   "id": "1c8f0160-483d-4ae0-88a0-19f83686d2f6",
   "metadata": {},
   "outputs": [
    {
     "name": "stdout",
     "output_type": "stream",
     "text": [
      "[1, 2, 3, 4, 5, 1, 2, 3, 4, 5, 1, 2, 3, 4, 5]\n"
     ]
    }
   ],
   "source": [
    "print(data_list*3)"
   ]
  },
  {
   "cell_type": "code",
   "execution_count": 9,
   "id": "22a2a82b-37f4-4e70-9a8e-87d8f4722ae9",
   "metadata": {},
   "outputs": [
    {
     "ename": "AttributeError",
     "evalue": "'list' object has no attribute 'shape'",
     "output_type": "error",
     "traceback": [
      "\u001b[1;31m---------------------------------------------------------------------------\u001b[0m",
      "\u001b[1;31mAttributeError\u001b[0m                            Traceback (most recent call last)",
      "Cell \u001b[1;32mIn[9], line 1\u001b[0m\n\u001b[1;32m----> 1\u001b[0m \u001b[43mdata_list\u001b[49m\u001b[38;5;241;43m.\u001b[39;49m\u001b[43mshape\u001b[49m\n",
      "\u001b[1;31mAttributeError\u001b[0m: 'list' object has no attribute 'shape'"
     ]
    }
   ],
   "source": [
    "data_list.shape"
   ]
  },
  {
   "cell_type": "code",
   "execution_count": 12,
   "id": "a80a8eb1-d934-4980-85c7-9ba23adeac89",
   "metadata": {},
   "outputs": [],
   "source": [
    "arr_data = np.array(data_list)"
   ]
  },
  {
   "cell_type": "code",
   "execution_count": 13,
   "id": "b82a61eb-07a0-4e79-bac0-7482519f2adc",
   "metadata": {},
   "outputs": [
    {
     "data": {
      "text/plain": [
       "array([ 3,  6,  9, 12, 15])"
      ]
     },
     "execution_count": 13,
     "metadata": {},
     "output_type": "execute_result"
    }
   ],
   "source": [
    "arr_data*3"
   ]
  },
  {
   "cell_type": "code",
   "execution_count": 15,
   "id": "c80a1f2c-cebe-4655-9bdf-8a6ee18a0faa",
   "metadata": {},
   "outputs": [
    {
     "data": {
      "text/plain": [
       "[1, 2, 3, 4, 5, 1, 2, 3, 4, 5]"
      ]
     },
     "execution_count": 15,
     "metadata": {},
     "output_type": "execute_result"
    }
   ],
   "source": [
    "data_list + data_list"
   ]
  },
  {
   "cell_type": "code",
   "execution_count": 16,
   "id": "d555410a-9ae6-4a3d-ae58-94b3aeac3419",
   "metadata": {},
   "outputs": [
    {
     "data": {
      "text/plain": [
       "array([ 2,  4,  6,  8, 10])"
      ]
     },
     "execution_count": 16,
     "metadata": {},
     "output_type": "execute_result"
    }
   ],
   "source": [
    "arr_data + arr_data"
   ]
  },
  {
   "cell_type": "markdown",
   "id": "ca4c726e-60d7-4093-b18f-fb5825cc1132",
   "metadata": {},
   "source": [
    "#### numpy.arange ####\n",
    "* numpy.arange([start, ]stop, [step, ]dtype=None, *, like=None)"
   ]
  },
  {
   "cell_type": "code",
   "execution_count": 17,
   "id": "26a3457e-f485-4378-a5b0-b4ce5ea4aae1",
   "metadata": {},
   "outputs": [
    {
     "data": {
      "text/plain": [
       "array([0, 0, 0, 0, 0, 0, 0, 0, 0, 0])"
      ]
     },
     "execution_count": 17,
     "metadata": {},
     "output_type": "execute_result"
    }
   ],
   "source": [
    "'''\n",
    "또 다른 안정성 문제는 numpy.arange. 배열을 채우는 데 사용되는 실제 단계 값은 step 이 아니라 입니다. \n",
    "캐스팅으로 인해 또는 시작이 단계 보다 훨씬 클 때 부동 소수점을 사용하여 정밀도 손실이 발생할 수 있습니다. \n",
    "이로 인해 예기치 않은 동작이 발생할 수 있습니다.\n",
    "'''\n",
    "np.arange(0, 5, 0.5, dtype=int)"
   ]
  },
  {
   "cell_type": "code",
   "execution_count": 18,
   "id": "1df1c1f2-f600-47d1-9b76-6c49fcf50aa1",
   "metadata": {},
   "outputs": [
    {
     "data": {
      "text/plain": [
       "array([0. , 0.5, 1. , 1.5, 2. , 2.5, 3. , 3.5, 4. , 4.5])"
      ]
     },
     "execution_count": 18,
     "metadata": {},
     "output_type": "execute_result"
    }
   ],
   "source": [
    "np.arange(0, 5, 0.5)"
   ]
  },
  {
   "cell_type": "code",
   "execution_count": 22,
   "id": "dbdc11d9-9ce9-4ff1-a7b7-61ec0b85b728",
   "metadata": {},
   "outputs": [
    {
     "data": {
      "text/plain": [
       "array([1, 3, 5, 7, 9])"
      ]
     },
     "execution_count": 22,
     "metadata": {},
     "output_type": "execute_result"
    }
   ],
   "source": [
    "np.arange(1, 11, 2)"
   ]
  },
  {
   "cell_type": "code",
   "execution_count": 23,
   "id": "d01a4590-2e5f-4a8e-b46b-c2d6087e59e8",
   "metadata": {},
   "outputs": [
    {
     "data": {
      "text/plain": [
       "range(1, 10)"
      ]
     },
     "execution_count": 23,
     "metadata": {},
     "output_type": "execute_result"
    }
   ],
   "source": [
    "range(1, 10)"
   ]
  },
  {
   "cell_type": "code",
   "execution_count": 24,
   "id": "0ce93474-9ded-47dd-918f-d289915522dd",
   "metadata": {},
   "outputs": [
    {
     "data": {
      "text/plain": [
       "[1, 2, 3, 4, 5, 6, 7, 8, 9]"
      ]
     },
     "execution_count": 24,
     "metadata": {},
     "output_type": "execute_result"
    }
   ],
   "source": [
    "list(range(1,10))"
   ]
  },
  {
   "cell_type": "code",
   "execution_count": 25,
   "id": "1922b450-6164-42c3-95c5-e6dba9e650cb",
   "metadata": {},
   "outputs": [
    {
     "data": {
      "text/plain": [
       "array([1, 2, 3, 4, 5, 6, 7, 8, 9])"
      ]
     },
     "execution_count": 25,
     "metadata": {},
     "output_type": "execute_result"
    }
   ],
   "source": [
    "np.array(list(range(1,10)))"
   ]
  },
  {
   "cell_type": "markdown",
   "id": "babea0fc-67f2-4f26-81c8-91b769781018",
   "metadata": {},
   "source": [
    "#### numpy.linspace\n",
    "* numpy.linspace(start, stop, num=50, endpoint=True, retstep=False, dtype=None, axis=0)e"
   ]
  },
  {
   "cell_type": "code",
   "execution_count": 26,
   "id": "737b0f10-cff2-4866-b22d-14e21d0cf3f7",
   "metadata": {
    "scrolled": true
   },
   "outputs": [
    {
     "data": {
      "text/plain": [
       "array([2.        , 2.02040816, 2.04081633, 2.06122449, 2.08163265,\n",
       "       2.10204082, 2.12244898, 2.14285714, 2.16326531, 2.18367347,\n",
       "       2.20408163, 2.2244898 , 2.24489796, 2.26530612, 2.28571429,\n",
       "       2.30612245, 2.32653061, 2.34693878, 2.36734694, 2.3877551 ,\n",
       "       2.40816327, 2.42857143, 2.44897959, 2.46938776, 2.48979592,\n",
       "       2.51020408, 2.53061224, 2.55102041, 2.57142857, 2.59183673,\n",
       "       2.6122449 , 2.63265306, 2.65306122, 2.67346939, 2.69387755,\n",
       "       2.71428571, 2.73469388, 2.75510204, 2.7755102 , 2.79591837,\n",
       "       2.81632653, 2.83673469, 2.85714286, 2.87755102, 2.89795918,\n",
       "       2.91836735, 2.93877551, 2.95918367, 2.97959184, 3.        ])"
      ]
     },
     "execution_count": 26,
     "metadata": {},
     "output_type": "execute_result"
    }
   ],
   "source": [
    "np.linspace(2.0, 3.0)"
   ]
  },
  {
   "cell_type": "code",
   "execution_count": 27,
   "id": "3e2319b0-82dd-40b9-ae96-9243f8e7ac58",
   "metadata": {},
   "outputs": [
    {
     "data": {
      "text/plain": [
       "array([2.  , 2.25, 2.5 , 2.75, 3.  ])"
      ]
     },
     "execution_count": 27,
     "metadata": {},
     "output_type": "execute_result"
    }
   ],
   "source": [
    "np.linspace(2.0, 3.0, num = 5)"
   ]
  },
  {
   "cell_type": "code",
   "execution_count": 29,
   "id": "cd56c6be-e00e-42f4-b140-b493a574f06d",
   "metadata": {},
   "outputs": [
    {
     "data": {
      "text/plain": [
       "array([2. , 2.2, 2.4, 2.6, 2.8])"
      ]
     },
     "execution_count": 29,
     "metadata": {},
     "output_type": "execute_result"
    }
   ],
   "source": [
    "np.linspace(2.0, 3.0, num = 5, endpoint=False)"
   ]
  },
  {
   "cell_type": "code",
   "execution_count": 30,
   "id": "8b821f5a-a1ec-4520-ae5b-7a507c222692",
   "metadata": {},
   "outputs": [
    {
     "data": {
      "text/plain": [
       "(array([2.  , 2.25, 2.5 , 2.75, 3.  ]), 0.25)"
      ]
     },
     "execution_count": 30,
     "metadata": {},
     "output_type": "execute_result"
    }
   ],
   "source": [
    "np.linspace(2.0, 3.0, num = 5, retstep = True)"
   ]
  },
  {
   "cell_type": "markdown",
   "id": "700cbebe-8013-4ce8-87f8-14d0c4f16111",
   "metadata": {},
   "source": [
    "#### 0 dimentional , one dimentional , 2 by 2 dimentional ,...\n"
   ]
  },
  {
   "cell_type": "code",
   "execution_count": 31,
   "id": "3bffbad9-f9d8-458f-b1d7-b7920b36704b",
   "metadata": {},
   "outputs": [
    {
     "data": {
      "text/plain": [
       "array(32)"
      ]
     },
     "execution_count": 31,
     "metadata": {},
     "output_type": "execute_result"
    }
   ],
   "source": [
    "np.array(32)"
   ]
  },
  {
   "cell_type": "code",
   "execution_count": 32,
   "id": "e95c4f49-a800-4a54-a631-089f4d315068",
   "metadata": {},
   "outputs": [
    {
     "data": {
      "text/plain": [
       "numpy.ndarray"
      ]
     },
     "execution_count": 32,
     "metadata": {},
     "output_type": "execute_result"
    }
   ],
   "source": [
    "type(np.array(32))"
   ]
  },
  {
   "cell_type": "code",
   "execution_count": 33,
   "id": "9bd20010-377d-4ea8-9854-81e635e12227",
   "metadata": {},
   "outputs": [
    {
     "data": {
      "text/plain": [
       "0"
      ]
     },
     "execution_count": 33,
     "metadata": {},
     "output_type": "execute_result"
    }
   ],
   "source": [
    "np.ndim(np.array(32))"
   ]
  },
  {
   "cell_type": "code",
   "execution_count": 34,
   "id": "a67790fd-b7f4-4449-97a3-e40cdc3ca4b9",
   "metadata": {},
   "outputs": [],
   "source": [
    "# 1 차원\n",
    "f = np.array([1, 2, 3, 4, 5])"
   ]
  },
  {
   "cell_type": "code",
   "execution_count": 35,
   "id": "bc3c4427-2a29-4637-ad7f-656d502438ca",
   "metadata": {},
   "outputs": [
    {
     "data": {
      "text/plain": [
       "numpy.ndarray"
      ]
     },
     "execution_count": 35,
     "metadata": {},
     "output_type": "execute_result"
    }
   ],
   "source": [
    "type(f)"
   ]
  },
  {
   "cell_type": "code",
   "execution_count": 36,
   "id": "11bbc361-0bad-4dcb-95ef-5a374c34cf05",
   "metadata": {},
   "outputs": [
    {
     "data": {
      "text/plain": [
       "1"
      ]
     },
     "execution_count": 36,
     "metadata": {},
     "output_type": "execute_result"
    }
   ],
   "source": [
    "np.ndim(f)"
   ]
  },
  {
   "cell_type": "code",
   "execution_count": 37,
   "id": "b615ba1c-6970-4fad-8e84-03089a0d060f",
   "metadata": {},
   "outputs": [],
   "source": [
    "d = np.array([[1,3], [2,2]])"
   ]
  },
  {
   "cell_type": "code",
   "execution_count": 38,
   "id": "7faa75be-bce9-4a7e-aa5b-4fe3d274da00",
   "metadata": {},
   "outputs": [
    {
     "data": {
      "text/plain": [
       "numpy.ndarray"
      ]
     },
     "execution_count": 38,
     "metadata": {},
     "output_type": "execute_result"
    }
   ],
   "source": [
    "type(d)"
   ]
  },
  {
   "cell_type": "code",
   "execution_count": 39,
   "id": "86cc19c1-25bd-499d-895b-277a3c9a49f1",
   "metadata": {},
   "outputs": [
    {
     "data": {
      "text/plain": [
       "2"
      ]
     },
     "execution_count": 39,
     "metadata": {},
     "output_type": "execute_result"
    }
   ],
   "source": [
    "np.ndim(d)"
   ]
  },
  {
   "cell_type": "code",
   "execution_count": 41,
   "id": "4fc80bf3-e085-44ae-8ddb-626f8d4ebdbe",
   "metadata": {},
   "outputs": [
    {
     "data": {
      "text/plain": [
       "(2, 2)"
      ]
     },
     "execution_count": 41,
     "metadata": {},
     "output_type": "execute_result"
    }
   ],
   "source": [
    "# 차원 확인\n",
    "d.shape"
   ]
  },
  {
   "cell_type": "code",
   "execution_count": 42,
   "id": "d53d8187-6d18-4df6-8dd2-ebe556eff34a",
   "metadata": {},
   "outputs": [],
   "source": [
    "c = np.array([ [[111, 112, 113], [121, 122, 123]],\n",
    "[[211, 212, 213], [221, 222, 223]],\n",
    "[[311, 312, 313], [321, 322, 323]],\n",
    "[[411, 412, 413], [421, 422, 423]] ])"
   ]
  },
  {
   "cell_type": "code",
   "execution_count": 43,
   "id": "580548bc-fad5-458b-8ce2-32a2d34b3163",
   "metadata": {},
   "outputs": [
    {
     "data": {
      "text/plain": [
       "(4, 2, 3)"
      ]
     },
     "execution_count": 43,
     "metadata": {},
     "output_type": "execute_result"
    }
   ],
   "source": [
    "c.shape"
   ]
  },
  {
   "cell_type": "code",
   "execution_count": 44,
   "id": "aa7578fc-0ee7-4389-a11e-36f29f180e26",
   "metadata": {},
   "outputs": [
    {
     "data": {
      "text/plain": [
       "array([[[111, 112, 113],\n",
       "        [121, 122, 123]],\n",
       "\n",
       "       [[211, 212, 213],\n",
       "        [221, 222, 223]],\n",
       "\n",
       "       [[311, 312, 313],\n",
       "        [321, 322, 323]],\n",
       "\n",
       "       [[411, 412, 413],\n",
       "        [421, 422, 423]]])"
      ]
     },
     "execution_count": 44,
     "metadata": {},
     "output_type": "execute_result"
    }
   ],
   "source": [
    "c"
   ]
  },
  {
   "cell_type": "markdown",
   "id": "ee5a7e78-727b-479f-a7ad-77237cf1c006",
   "metadata": {},
   "source": [
    "#### Indexing and slicing"
   ]
  },
  {
   "cell_type": "code",
   "execution_count": 45,
   "id": "9d63ec1f-1bcd-461c-b6e4-e7aea02bd8fc",
   "metadata": {},
   "outputs": [],
   "source": [
    "A = np.array([ [3.4, 8.7, 9.9],\n",
    "[1.1, -7.8, -0.7],\n",
    "[4.1, 12.3, 4.8]])"
   ]
  },
  {
   "cell_type": "code",
   "execution_count": 46,
   "id": "687275c9-3431-4313-8883-01afed8dc4b6",
   "metadata": {},
   "outputs": [
    {
     "data": {
      "text/plain": [
       "(3, 3)"
      ]
     },
     "execution_count": 46,
     "metadata": {},
     "output_type": "execute_result"
    }
   ],
   "source": [
    "A.shape"
   ]
  },
  {
   "cell_type": "code",
   "execution_count": 51,
   "id": "da816dc4-8e71-46e6-bd10-9778fb058b61",
   "metadata": {},
   "outputs": [
    {
     "data": {
      "text/plain": [
       "1.1"
      ]
     },
     "execution_count": 51,
     "metadata": {},
     "output_type": "execute_result"
    }
   ],
   "source": [
    "# 1.1 출력하기\n",
    "A[1,0]"
   ]
  },
  {
   "cell_type": "code",
   "execution_count": 58,
   "id": "3fd7152f-ceec-4a79-921c-c7bcbe6fa6ef",
   "metadata": {},
   "outputs": [
    {
     "data": {
      "text/plain": [
       "array([-7.8, -0.7])"
      ]
     },
     "execution_count": 58,
     "metadata": {},
     "output_type": "execute_result"
    }
   ],
   "source": [
    "# -7.8 ~ -0.7까지 출력\n",
    "A[1][1:]"
   ]
  },
  {
   "cell_type": "code",
   "execution_count": 79,
   "id": "0bff0087-1d43-4642-81b5-d745e2a558d1",
   "metadata": {},
   "outputs": [],
   "source": [
    "A = np.array([\n",
    "[11, 12, 13, 14, 15],\n",
    "[21, 22, 23, 24, 25],\n",
    "[31, 32, 33, 34, 35],\n",
    "[41, 42, 43, 44, 45],\n",
    "[51, 52, 53, 54, 55]])"
   ]
  },
  {
   "cell_type": "code",
   "execution_count": 72,
   "id": "d264b329-9ea0-4270-ade3-a8e90fbd3c23",
   "metadata": {},
   "outputs": [
    {
     "data": {
      "text/plain": [
       "array([[13, 14, 15],\n",
       "       [23, 24, 25],\n",
       "       [33, 34, 35]])"
      ]
     },
     "execution_count": 72,
     "metadata": {},
     "output_type": "execute_result"
    }
   ],
   "source": [
    "A[0:3, 2:5]"
   ]
  },
  {
   "cell_type": "code",
   "execution_count": 81,
   "id": "8f7876d4-d0f5-459b-936a-16abea0315f9",
   "metadata": {},
   "outputs": [
    {
     "data": {
      "text/plain": [
       "array([[22, 23, 24],\n",
       "       [32, 33, 34],\n",
       "       [42, 43, 44],\n",
       "       [52, 53, 54]])"
      ]
     },
     "execution_count": 81,
     "metadata": {},
     "output_type": "execute_result"
    }
   ],
   "source": [
    "A[1:,1:4]"
   ]
  },
  {
   "cell_type": "code",
   "execution_count": 85,
   "id": "b3cf38c7-9a67-425a-8d89-a1d8dfa402cc",
   "metadata": {},
   "outputs": [],
   "source": [
    "A =np.array([[ 0, 1, 2, 3, 4, 5, 6],\n",
    "[ 7, 8, 9, 10, 11, 12, 13],\n",
    "[14, 15, 16, 17, 18, 19, 20],\n",
    "[21, 22, 23, 24, 25, 26, 27]])"
   ]
  },
  {
   "cell_type": "code",
   "execution_count": 86,
   "id": "58bd8924-cb2d-4ae6-af41-b00c425e7e4f",
   "metadata": {},
   "outputs": [
    {
     "data": {
      "text/plain": [
       "array([[ 0,  3,  6],\n",
       "       [14, 17, 20]])"
      ]
     },
     "execution_count": 86,
     "metadata": {},
     "output_type": "execute_result"
    }
   ],
   "source": [
    "A[0:3:2,0:7:3]"
   ]
  },
  {
   "cell_type": "code",
   "execution_count": 87,
   "id": "93790225-9a27-45e4-993b-c4396503410b",
   "metadata": {},
   "outputs": [
    {
     "data": {
      "text/plain": [
       "array([[ 0,  3,  6],\n",
       "       [14, 17, 20]])"
      ]
     },
     "execution_count": 87,
     "metadata": {},
     "output_type": "execute_result"
    }
   ],
   "source": [
    "A[[0,2],::3]"
   ]
  },
  {
   "cell_type": "code",
   "execution_count": 88,
   "id": "d0c9318c-9c5c-4fe8-b5d8-3717f4076645",
   "metadata": {},
   "outputs": [
    {
     "data": {
      "text/plain": [
       "array([[ 0,  3,  6],\n",
       "       [14, 17, 20]])"
      ]
     },
     "execution_count": 88,
     "metadata": {},
     "output_type": "execute_result"
    }
   ],
   "source": [
    "A[::2,::3]"
   ]
  }
 ],
 "metadata": {
  "kernelspec": {
   "display_name": "Python 3 (ipykernel)",
   "language": "python",
   "name": "python3"
  },
  "language_info": {
   "codemirror_mode": {
    "name": "ipython",
    "version": 3
   },
   "file_extension": ".py",
   "mimetype": "text/x-python",
   "name": "python",
   "nbconvert_exporter": "python",
   "pygments_lexer": "ipython3",
   "version": "3.11.4"
  }
 },
 "nbformat": 4,
 "nbformat_minor": 5
}
