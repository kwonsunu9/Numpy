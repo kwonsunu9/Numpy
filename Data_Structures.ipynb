{
 "cells": [
  {
   "cell_type": "markdown",
   "id": "0d85306e-c215-4100-a9ea-f5a6b152183f",
   "metadata": {
    "jp-MarkdownHeadingCollapsed": true
   },
   "source": [
    "# Series\n",
    "* pandas.Series\r",
    "* \n",
    "class pandas.Series(data=None, index=None, dtype=None, name=None, copy=None, fastpath=False\r\n"
   ]
  },
  {
   "cell_type": "code",
   "execution_count": 2,
   "id": "a0487aaf-0217-4c21-a2d9-1b00208ea4d9",
   "metadata": {},
   "outputs": [],
   "source": [
    "import pandas as pd"
   ]
  },
  {
   "cell_type": "code",
   "execution_count": 3,
   "id": "1e08ac2d-7c2c-4129-add1-4512b5d234ef",
   "metadata": {},
   "outputs": [
    {
     "data": {
      "text/plain": [
       "a    1\n",
       "b    2\n",
       "c    3\n",
       "dtype: int64"
      ]
     },
     "execution_count": 3,
     "metadata": {},
     "output_type": "execute_result"
    }
   ],
   "source": [
    "d = {'a': 1, 'b': 2, 'c': 3}\n",
    "ser = pd.Series(data=d, index=['a', 'b', 'c'])\n",
    "ser"
   ]
  },
  {
   "cell_type": "code",
   "execution_count": 4,
   "id": "4a329717-f231-4080-ae69-6a061c4e6987",
   "metadata": {},
   "outputs": [
    {
     "data": {
      "text/plain": [
       "a    1\n",
       "b    2\n",
       "c    3\n",
       "dtype: int64"
      ]
     },
     "execution_count": 4,
     "metadata": {},
     "output_type": "execute_result"
    }
   ],
   "source": [
    "d = {'a': 1, 'b': 2, 'c': 3}\n",
    "ser = pd.Series(data=d)\n",
    "ser"
   ]
  },
  {
   "cell_type": "code",
   "execution_count": 7,
   "id": "f7c879d1-946a-4bff-9a8a-8cffd53582ff",
   "metadata": {},
   "outputs": [
    {
     "data": {
      "text/plain": [
       "A   NaN\n",
       "B   NaN\n",
       "C   NaN\n",
       "dtype: float64"
      ]
     },
     "execution_count": 7,
     "metadata": {},
     "output_type": "execute_result"
    }
   ],
   "source": [
    "pd.Series(d, index=['A', 'B', 'C'])"
   ]
  },
  {
   "cell_type": "code",
   "execution_count": 10,
   "id": "494ba31d-a1fa-4192-af6d-87714a943a22",
   "metadata": {},
   "outputs": [],
   "source": [
    "d1 = [1,2,3]\n",
    "ser1 = pd.Series(d1, index = ['A', 'B', 'C'])"
   ]
  },
  {
   "cell_type": "code",
   "execution_count": 11,
   "id": "b818025d-89d1-4dfc-83bd-a9c4735aee4c",
   "metadata": {},
   "outputs": [
    {
     "data": {
      "text/plain": [
       "Index(['A', 'B', 'C'], dtype='object')"
      ]
     },
     "execution_count": 11,
     "metadata": {},
     "output_type": "execute_result"
    }
   ],
   "source": [
    "ser1.index"
   ]
  },
  {
   "cell_type": "code",
   "execution_count": 13,
   "id": "09e41999-5b4f-4fed-bc35-bee94da98021",
   "metadata": {},
   "outputs": [
    {
     "data": {
      "text/plain": [
       "A    1\n",
       "B    2\n",
       "C    3\n",
       "dtype: int64"
      ]
     },
     "execution_count": 13,
     "metadata": {},
     "output_type": "execute_result"
    }
   ],
   "source": [
    "ser1.T"
   ]
  },
  {
   "cell_type": "code",
   "execution_count": 18,
   "id": "0ed07be2-d60b-4fe6-b853-797b9460f34c",
   "metadata": {},
   "outputs": [
    {
     "name": "stdout",
     "output_type": "stream",
     "text": [
      "apples      20\n",
      "oranges     33\n",
      "cherries    52\n",
      "pears       10\n",
      "dtype: int64\n",
      "Index(['apples', 'oranges', 'cherries', 'pears'], dtype='object')\n"
     ]
    }
   ],
   "source": [
    "fruits = ['apples', 'oranges', 'cherries', 'pears']\n",
    "quantities = [20, 33, 52, 10]\n",
    "ser2 = pd.Series(quantities, index = fruits)\n",
    "print(ser2)\n",
    "print(ser2.index)"
   ]
  },
  {
   "cell_type": "code",
   "execution_count": 29,
   "id": "49b7f8e7-c672-40ae-b57c-ce5248d59bce",
   "metadata": {},
   "outputs": [
    {
     "data": {
      "text/plain": [
       "apples       29\n",
       "oranges     132\n",
       "cherries     54\n",
       "pears        37\n",
       "dtype: int64"
      ]
     },
     "execution_count": 29,
     "metadata": {},
     "output_type": "execute_result"
    }
   ],
   "source": [
    "fruits = ['apples', 'oranges', 'cherries', 'pears']\n",
    "quantities1 = [20, 33, 52, 10]\n",
    "quantities2 = [9, 99, 2, 27]\n",
    "ser3 = pd.Series(quantities2, index = fruits)\n",
    "ser2 + ser3"
   ]
  },
  {
   "cell_type": "code",
   "execution_count": 28,
   "id": "124fb5bb-af6b-4917-8be4-3d6147ab4ab4",
   "metadata": {},
   "outputs": [
    {
     "data": {
      "text/plain": [
       "apples       180\n",
       "oranges     3267\n",
       "cherries     104\n",
       "pears        270\n",
       "dtype: int64"
      ]
     },
     "execution_count": 28,
     "metadata": {},
     "output_type": "execute_result"
    }
   ],
   "source": [
    "ser2 * ser3"
   ]
  },
  {
   "cell_type": "code",
   "execution_count": 30,
   "id": "0febb7e6-0575-40e1-9a32-e8e302fe9551",
   "metadata": {},
   "outputs": [
    {
     "name": "stdout",
     "output_type": "stream",
     "text": [
      "raspberries    20\n",
      "oranges        33\n",
      "cherries       52\n",
      "pears          10\n",
      "dtype: int64\n",
      "Index(['raspberries', 'oranges', 'cherries', 'pears'], dtype='object')\n"
     ]
    }
   ],
   "source": [
    "fruits2 = ['raspberries', 'oranges', 'cherries', 'pears']\n",
    "quantities = [20, 33, 52, 10]\n",
    "ser2 = pd.Series(quantities, index = fruits2)\n",
    "print(ser2)\n",
    "print(ser2.index)"
   ]
  },
  {
   "cell_type": "code",
   "execution_count": 31,
   "id": "9cfabee0-9375-4d9f-8917-a4e857e2486e",
   "metadata": {},
   "outputs": [
    {
     "data": {
      "text/plain": [
       "apples           NaN\n",
       "cherries        54.0\n",
       "oranges        132.0\n",
       "pears           37.0\n",
       "raspberries      NaN\n",
       "dtype: float64"
      ]
     },
     "execution_count": 31,
     "metadata": {},
     "output_type": "execute_result"
    }
   ],
   "source": [
    "ser2 + ser3"
   ]
  },
  {
   "cell_type": "code",
   "execution_count": 32,
   "id": "f9e4e4a3-877f-4165-893d-ebdaeef66558",
   "metadata": {},
   "outputs": [
    {
     "data": {
      "text/plain": [
       "apples     NaN\n",
       "armut      NaN\n",
       "cherries   NaN\n",
       "elma       NaN\n",
       "kiraz      NaN\n",
       "oranges    NaN\n",
       "pears      NaN\n",
       "portakal   NaN\n",
       "dtype: float64"
      ]
     },
     "execution_count": 32,
     "metadata": {},
     "output_type": "execute_result"
    }
   ],
   "source": [
    "fruits2 = ['raspberries', 'oranges', 'cherries', 'pears']\n",
    "fruits_tr = ['elma', 'portakal', 'kiraz', 'armut']\n",
    "ser4 = pd.Series(quantities2, index = fruits_tr)\n",
    "ser3 + ser4"
   ]
  },
  {
   "cell_type": "markdown",
   "id": "41187501-6606-4d03-acad-91f8a78a9cd1",
   "metadata": {},
   "source": [
    "#### Indexing"
   ]
  },
  {
   "cell_type": "code",
   "execution_count": 34,
   "id": "b258f1bf-c9e7-4ca3-8d97-4fb3e329809b",
   "metadata": {},
   "outputs": [
    {
     "data": {
      "text/plain": [
       "33"
      ]
     },
     "execution_count": 34,
     "metadata": {},
     "output_type": "execute_result"
    }
   ],
   "source": [
    "ser2['oranges']"
   ]
  },
  {
   "cell_type": "code",
   "execution_count": 37,
   "id": "11637592-b412-4c09-8f4b-6d47e52457a3",
   "metadata": {},
   "outputs": [
    {
     "data": {
      "text/plain": [
       "oranges    33\n",
       "pears      10\n",
       "dtype: int64"
      ]
     },
     "execution_count": 37,
     "metadata": {},
     "output_type": "execute_result"
    }
   ],
   "source": [
    "ser2[['oranges', 'pears']]"
   ]
  },
  {
   "cell_type": "code",
   "execution_count": 42,
   "id": "53c645b6-f04a-4bd1-9252-79a3060a09e3",
   "metadata": {},
   "outputs": [
    {
     "data": {
      "text/plain": [
       "portakal    99\n",
       "kiraz        2\n",
       "armut       27\n",
       "dtype: int64"
      ]
     },
     "execution_count": 42,
     "metadata": {},
     "output_type": "execute_result"
    }
   ],
   "source": [
    "ser4['portakal':'armut']"
   ]
  },
  {
   "cell_type": "code",
   "execution_count": 44,
   "id": "502d85c3-c802-4093-97c8-dc9f714c56e9",
   "metadata": {},
   "outputs": [
    {
     "name": "stdout",
     "output_type": "stream",
     "text": [
      "raspberries     84\n",
      "oranges        136\n",
      "cherries       212\n",
      "pears           44\n",
      "dtype: int64\n"
     ]
    }
   ],
   "source": [
    "import numpy as np\n",
    "print((ser2 +1)*4 )"
   ]
  },
  {
   "cell_type": "code",
   "execution_count": 45,
   "id": "4378e424-ae26-423b-a9ae-92130a2fa055",
   "metadata": {},
   "outputs": [
    {
     "name": "stdout",
     "output_type": "stream",
     "text": [
      "apples      0.412118\n",
      "oranges    -0.999207\n",
      "cherries    0.909297\n",
      "pears       0.956376\n",
      "dtype: float64\n"
     ]
    }
   ],
   "source": [
    "print(np.sin(ser3))"
   ]
  },
  {
   "cell_type": "markdown",
   "id": "056701bd-bbf6-4385-809d-e37b54dd5fc9",
   "metadata": {},
   "source": [
    "#### pandas.Series.apply\n",
    "* Series.apply(func, convert_dtype=True, args=(), **kwargs)"
   ]
  },
  {
   "cell_type": "code",
   "execution_count": 48,
   "id": "944b17f6-41d3-42a7-ba38-7ce2a062afaa",
   "metadata": {},
   "outputs": [],
   "source": [
    "s = pd.Series([30, 21, 12],\n",
    "              index=['Andong', 'New York', 'Helsinki'])"
   ]
  },
  {
   "cell_type": "code",
   "execution_count": 49,
   "id": "b1ff801f-3b28-4ccf-8c08-ef2460bfbdf2",
   "metadata": {},
   "outputs": [
    {
     "data": {
      "text/plain": [
       "Andong      900\n",
       "New York    441\n",
       "Helsinki    144\n",
       "dtype: int64"
      ]
     },
     "execution_count": 49,
     "metadata": {},
     "output_type": "execute_result"
    }
   ],
   "source": [
    "def square(x):\n",
    "    return x ** 2\n",
    "s.apply(square)"
   ]
  },
  {
   "cell_type": "code",
   "execution_count": 50,
   "id": "813eedc8-68d8-44bc-8924-3a3b6f07550a",
   "metadata": {},
   "outputs": [
    {
     "data": {
      "text/plain": [
       "Andong      900\n",
       "New York    441\n",
       "Helsinki    144\n",
       "dtype: int64"
      ]
     },
     "execution_count": 50,
     "metadata": {},
     "output_type": "execute_result"
    }
   ],
   "source": [
    "s.apply(lambda x: x**2)"
   ]
  },
  {
   "cell_type": "code",
   "execution_count": 52,
   "id": "c6c578b6-0857-4e59-ac2a-2d07b2d400b9",
   "metadata": {},
   "outputs": [
    {
     "data": {
      "text/plain": [
       "Andong      5.477226\n",
       "New York    4.582576\n",
       "Helsinki    3.464102\n",
       "dtype: float64"
      ]
     },
     "execution_count": 52,
     "metadata": {},
     "output_type": "execute_result"
    }
   ],
   "source": [
    "s.apply(np.sqrt)"
   ]
  },
  {
   "cell_type": "markdown",
   "id": "3dcb35d0-b0a8-43d9-93a9-462306b4fd03",
   "metadata": {},
   "source": [
    "#### Create Series from dict"
   ]
  },
  {
   "cell_type": "code",
   "execution_count": 58,
   "id": "53b1590a-9fd1-4fc4-a728-2c6a9098faac",
   "metadata": {},
   "outputs": [
    {
     "data": {
      "text/plain": [
       "London       8615246\n",
       "Berlin       3562166\n",
       "Madrid       3165235\n",
       "Rome         2874038\n",
       "Paris        2273305\n",
       "Vienna       1805681\n",
       "Bucharest    1803425\n",
       "Hamburg      1760433\n",
       "Budapest     1754000\n",
       "Warsaw       1740119\n",
       "Barcelona    1602386\n",
       "Munich       1493900\n",
       "Milan        1350680\n",
       "dtype: int64"
      ]
     },
     "execution_count": 58,
     "metadata": {},
     "output_type": "execute_result"
    }
   ],
   "source": [
    "cities = {\"London\": 8615246,\n",
    "\"Berlin\": 3562166,\n",
    "\"Madrid\": 3165235,\n",
    "\"Rome\": 2874038,\n",
    "\"Paris\": 2273305,\n",
    "\"Vienna\": 1805681,\n",
    "\"Bucharest\": 1803425,\n",
    "\"Hamburg\": 1760433,\n",
    "\"Budapest\": 1754000,\n",
    "\"Warsaw\": 1740119,\n",
    "\"Barcelona\": 1602386,\n",
    "\"Munich\": 1493900,\n",
    "\"Milan\": 1350680}\n",
    "city_series = pd.Series(cities)\n",
    "city_series"
   ]
  },
  {
   "cell_type": "markdown",
   "id": "51743d63-1f70-4458-bcd7-0ae284a7df8e",
   "metadata": {},
   "source": [
    "#### NaN - Missing Data"
   ]
  },
  {
   "cell_type": "code",
   "execution_count": 61,
   "id": "592e7bf7-0495-44ec-ab44-b3f71edc89b9",
   "metadata": {},
   "outputs": [
    {
     "data": {
      "text/plain": [
       "London       8615246.0\n",
       "Paris        2273305.0\n",
       "Zurich             NaN\n",
       "Berlin       3562166.0\n",
       "Stuttgart          NaN\n",
       "Hamburg      1760433.0\n",
       "dtype: float64"
      ]
     },
     "execution_count": 61,
     "metadata": {},
     "output_type": "execute_result"
    }
   ],
   "source": [
    "my_cities = [\"London\", \"Paris\", \"Zurich\", \"Berlin\",\n",
    "\"Stuttgart\", \"Hamburg\"]\n",
    "my_city_series = pd.Series(cities, index = my_cities)\n",
    "my_city_series"
   ]
  },
  {
   "cell_type": "markdown",
   "id": "e7eea635-ccec-42e1-8ae0-221cec265d41",
   "metadata": {},
   "source": [
    "* isnull and notnull"
   ]
  },
  {
   "cell_type": "code",
   "execution_count": 62,
   "id": "deb71e76-ca27-43ea-9f0c-9e09a6eeeb87",
   "metadata": {},
   "outputs": [
    {
     "data": {
      "text/plain": [
       "London       False\n",
       "Paris        False\n",
       "Zurich        True\n",
       "Berlin       False\n",
       "Stuttgart     True\n",
       "Hamburg      False\n",
       "dtype: bool"
      ]
     },
     "execution_count": 62,
     "metadata": {},
     "output_type": "execute_result"
    }
   ],
   "source": [
    "my_city_series.isnull()"
   ]
  },
  {
   "cell_type": "code",
   "execution_count": 63,
   "id": "d2f5e75a-1be5-4930-90b6-507a226f88f2",
   "metadata": {},
   "outputs": [
    {
     "data": {
      "text/plain": [
       "London        True\n",
       "Paris         True\n",
       "Zurich       False\n",
       "Berlin        True\n",
       "Stuttgart    False\n",
       "Hamburg       True\n",
       "dtype: bool"
      ]
     },
     "execution_count": 63,
     "metadata": {},
     "output_type": "execute_result"
    }
   ],
   "source": [
    "my_city_series.notnull()"
   ]
  },
  {
   "cell_type": "code",
   "execution_count": 65,
   "id": "3a63f25f-528e-43ea-bcc7-3d2a2efecd7e",
   "metadata": {},
   "outputs": [
    {
     "data": {
      "text/plain": [
       "2"
      ]
     },
     "execution_count": 65,
     "metadata": {},
     "output_type": "execute_result"
    }
   ],
   "source": [
    "my_city_series.isnull().sum()"
   ]
  },
  {
   "cell_type": "code",
   "execution_count": 66,
   "id": "9b4648fd-5008-486f-8c72-120ec80c9fb0",
   "metadata": {},
   "outputs": [
    {
     "data": {
      "text/plain": [
       "London     8615246.0\n",
       "Paris      2273305.0\n",
       "Berlin     3562166.0\n",
       "Hamburg    1760433.0\n",
       "dtype: float64"
      ]
     },
     "execution_count": 66,
     "metadata": {},
     "output_type": "execute_result"
    }
   ],
   "source": [
    "my_city_series.dropna()"
   ]
  },
  {
   "cell_type": "code",
   "execution_count": 67,
   "id": "8c244eff-e1b0-4c07-b94c-44552704fc00",
   "metadata": {},
   "outputs": [
    {
     "data": {
      "text/plain": [
       "London       8615246.0\n",
       "Paris        2273305.0\n",
       "Zurich             0.0\n",
       "Berlin       3562166.0\n",
       "Stuttgart          0.0\n",
       "Hamburg      1760433.0\n",
       "dtype: float64"
      ]
     },
     "execution_count": 67,
     "metadata": {},
     "output_type": "execute_result"
    }
   ],
   "source": [
    "my_city_series.fillna(0)"
   ]
  },
  {
   "cell_type": "code",
   "execution_count": 68,
   "id": "bdac77e0-e1f9-4b35-973e-7125015679b4",
   "metadata": {},
   "outputs": [
    {
     "data": {
      "text/plain": [
       "London       8615246.0\n",
       "Paris        2273305.0\n",
       "Zurich            None\n",
       "Berlin       3562166.0\n",
       "Stuttgart         None\n",
       "Hamburg      1760433.0\n",
       "dtype: object"
      ]
     },
     "execution_count": 68,
     "metadata": {},
     "output_type": "execute_result"
    }
   ],
   "source": [
    "my_city_series.fillna('None')"
   ]
  },
  {
   "cell_type": "markdown",
   "id": "3101aa43-e057-43b1-8202-f64195f1c33e",
   "metadata": {},
   "source": [
    "# Data Frame"
   ]
  },
  {
   "cell_type": "markdown",
   "id": "b4f32cea-1069-4741-abfb-962b3edb12d6",
   "metadata": {
    "jp-MarkdownHeadingCollapsed": true
   },
   "source": [
    "#### pandas.concat\r",
    "*\n",
    "pandas.concat(objs, *, axis=0, join='outer', ignore_index=False, keys=None, levels=None, names=None, verify_integrity=False, sort=False, copy=None)"
   ]
  },
  {
   "cell_type": "code",
   "execution_count": 72,
   "id": "5d804c0c-21e8-4286-925b-930e98b0628c",
   "metadata": {},
   "outputs": [
    {
     "data": {
      "text/plain": [
       "2014    2409.14\n",
       "2015    2941.01\n",
       "2016    3496.83\n",
       "2017    3119.55\n",
       "2014    1203.45\n",
       "2015    3441.62\n",
       "2016    3007.83\n",
       "2017    3619.53\n",
       "2014    3412.12\n",
       "2015    3491.16\n",
       "2016    3457.19\n",
       "2017    1963.10\n",
       "dtype: float64"
      ]
     },
     "execution_count": 72,
     "metadata": {},
     "output_type": "execute_result"
    }
   ],
   "source": [
    "years = range(2014, 2018)\n",
    "shop1 = pd.Series([2409.14, 2941.01, 3496.83, 3119.55], index=years)\n",
    "shop2 = pd.Series([1203.45, 3441.62, 3007.83, 3619.53], index=years)\n",
    "shop3 = pd.Series([3412.12, 3491.16, 3457.19, 1963.10], index=years)\n",
    "pd.concat([shop1, shop2, shop3], axis = 0)"
   ]
  },
  {
   "cell_type": "code",
   "execution_count": 74,
   "id": "4993619f-5058-4c5c-8ac6-2a2ba5f0f93e",
   "metadata": {},
   "outputs": [
    {
     "data": {
      "text/html": [
       "<div>\n",
       "<style scoped>\n",
       "    .dataframe tbody tr th:only-of-type {\n",
       "        vertical-align: middle;\n",
       "    }\n",
       "\n",
       "    .dataframe tbody tr th {\n",
       "        vertical-align: top;\n",
       "    }\n",
       "\n",
       "    .dataframe thead th {\n",
       "        text-align: right;\n",
       "    }\n",
       "</style>\n",
       "<table border=\"1\" class=\"dataframe\">\n",
       "  <thead>\n",
       "    <tr style=\"text-align: right;\">\n",
       "      <th></th>\n",
       "      <th>0</th>\n",
       "      <th>1</th>\n",
       "      <th>2</th>\n",
       "    </tr>\n",
       "  </thead>\n",
       "  <tbody>\n",
       "    <tr>\n",
       "      <th>2014</th>\n",
       "      <td>2409.14</td>\n",
       "      <td>1203.45</td>\n",
       "      <td>3412.12</td>\n",
       "    </tr>\n",
       "    <tr>\n",
       "      <th>2015</th>\n",
       "      <td>2941.01</td>\n",
       "      <td>3441.62</td>\n",
       "      <td>3491.16</td>\n",
       "    </tr>\n",
       "    <tr>\n",
       "      <th>2016</th>\n",
       "      <td>3496.83</td>\n",
       "      <td>3007.83</td>\n",
       "      <td>3457.19</td>\n",
       "    </tr>\n",
       "    <tr>\n",
       "      <th>2017</th>\n",
       "      <td>3119.55</td>\n",
       "      <td>3619.53</td>\n",
       "      <td>1963.10</td>\n",
       "    </tr>\n",
       "  </tbody>\n",
       "</table>\n",
       "</div>"
      ],
      "text/plain": [
       "            0        1        2\n",
       "2014  2409.14  1203.45  3412.12\n",
       "2015  2941.01  3441.62  3491.16\n",
       "2016  3496.83  3007.83  3457.19\n",
       "2017  3119.55  3619.53  1963.10"
      ]
     },
     "execution_count": 74,
     "metadata": {},
     "output_type": "execute_result"
    }
   ],
   "source": [
    "shop_df = pd.concat([shop1, shop2, shop3], axis = 1)\n",
    "shop_df"
   ]
  },
  {
   "cell_type": "code",
   "execution_count": 75,
   "id": "e8db5e8c-a1bb-43a2-af13-12b5ac95970d",
   "metadata": {},
   "outputs": [
    {
     "data": {
      "text/plain": [
       "RangeIndex(start=0, stop=3, step=1)"
      ]
     },
     "execution_count": 75,
     "metadata": {},
     "output_type": "execute_result"
    }
   ],
   "source": [
    "shop_df.columns"
   ]
  },
  {
   "cell_type": "code",
   "execution_count": 77,
   "id": "79252a5b-2c89-4ef3-9e1f-0a3d8b3bece6",
   "metadata": {},
   "outputs": [
    {
     "data": {
      "text/plain": [
       "RangeIndex(start=2014, stop=2018, step=1)"
      ]
     },
     "execution_count": 77,
     "metadata": {},
     "output_type": "execute_result"
    }
   ],
   "source": [
    "shop_df.index"
   ]
  },
  {
   "cell_type": "code",
   "execution_count": 78,
   "id": "30d3c80c-751b-4707-838c-4ef0dfbfd667",
   "metadata": {},
   "outputs": [
    {
     "name": "stdout",
     "output_type": "stream",
     "text": [
      "<class 'pandas.core.frame.DataFrame'>\n",
      "RangeIndex: 4 entries, 2014 to 2017\n",
      "Data columns (total 3 columns):\n",
      " #   Column  Non-Null Count  Dtype  \n",
      "---  ------  --------------  -----  \n",
      " 0   0       4 non-null      float64\n",
      " 1   1       4 non-null      float64\n",
      " 2   2       4 non-null      float64\n",
      "dtypes: float64(3)\n",
      "memory usage: 228.0 bytes\n"
     ]
    }
   ],
   "source": [
    "shop_df.info()"
   ]
  },
  {
   "cell_type": "code",
   "execution_count": 79,
   "id": "4ac92434-c864-44d0-92db-72856ba42949",
   "metadata": {},
   "outputs": [
    {
     "data": {
      "text/html": [
       "<div>\n",
       "<style scoped>\n",
       "    .dataframe tbody tr th:only-of-type {\n",
       "        vertical-align: middle;\n",
       "    }\n",
       "\n",
       "    .dataframe tbody tr th {\n",
       "        vertical-align: top;\n",
       "    }\n",
       "\n",
       "    .dataframe thead th {\n",
       "        text-align: right;\n",
       "    }\n",
       "</style>\n",
       "<table border=\"1\" class=\"dataframe\">\n",
       "  <thead>\n",
       "    <tr style=\"text-align: right;\">\n",
       "      <th></th>\n",
       "      <th>0</th>\n",
       "      <th>1</th>\n",
       "      <th>2</th>\n",
       "    </tr>\n",
       "  </thead>\n",
       "  <tbody>\n",
       "    <tr>\n",
       "      <th>count</th>\n",
       "      <td>4.000000</td>\n",
       "      <td>4.000000</td>\n",
       "      <td>4.000000</td>\n",
       "    </tr>\n",
       "    <tr>\n",
       "      <th>mean</th>\n",
       "      <td>2991.632500</td>\n",
       "      <td>2818.107500</td>\n",
       "      <td>3080.892500</td>\n",
       "    </tr>\n",
       "    <tr>\n",
       "      <th>std</th>\n",
       "      <td>452.197431</td>\n",
       "      <td>1106.670582</td>\n",
       "      <td>745.897884</td>\n",
       "    </tr>\n",
       "    <tr>\n",
       "      <th>min</th>\n",
       "      <td>2409.140000</td>\n",
       "      <td>1203.450000</td>\n",
       "      <td>1963.100000</td>\n",
       "    </tr>\n",
       "    <tr>\n",
       "      <th>25%</th>\n",
       "      <td>2808.042500</td>\n",
       "      <td>2556.735000</td>\n",
       "      <td>3049.865000</td>\n",
       "    </tr>\n",
       "    <tr>\n",
       "      <th>50%</th>\n",
       "      <td>3030.280000</td>\n",
       "      <td>3224.725000</td>\n",
       "      <td>3434.655000</td>\n",
       "    </tr>\n",
       "    <tr>\n",
       "      <th>75%</th>\n",
       "      <td>3213.870000</td>\n",
       "      <td>3486.097500</td>\n",
       "      <td>3465.682500</td>\n",
       "    </tr>\n",
       "    <tr>\n",
       "      <th>max</th>\n",
       "      <td>3496.830000</td>\n",
       "      <td>3619.530000</td>\n",
       "      <td>3491.160000</td>\n",
       "    </tr>\n",
       "  </tbody>\n",
       "</table>\n",
       "</div>"
      ],
      "text/plain": [
       "                 0            1            2\n",
       "count     4.000000     4.000000     4.000000\n",
       "mean   2991.632500  2818.107500  3080.892500\n",
       "std     452.197431  1106.670582   745.897884\n",
       "min    2409.140000  1203.450000  1963.100000\n",
       "25%    2808.042500  2556.735000  3049.865000\n",
       "50%    3030.280000  3224.725000  3434.655000\n",
       "75%    3213.870000  3486.097500  3465.682500\n",
       "max    3496.830000  3619.530000  3491.160000"
      ]
     },
     "execution_count": 79,
     "metadata": {},
     "output_type": "execute_result"
    }
   ],
   "source": [
    "shop_df.describe()"
   ]
  },
  {
   "cell_type": "markdown",
   "id": "d9857db7-7e96-40b1-8415-1f937d09d34a",
   "metadata": {
    "jp-MarkdownHeadingCollapsed": true
   },
   "source": [
    "#### pandas.DataFrame\r",
    "*\n",
    "class pandas.DataFrame(data=None, index=None, columns=None, dtype=None, copy=None)"
   ]
  },
  {
   "cell_type": "code",
   "execution_count": 92,
   "id": "ae6aa402-1391-45db-a392-5bba2aa7a617",
   "metadata": {},
   "outputs": [],
   "source": [
    "cities = {\"name\": [\"London\", \"Berlin\", \"Madrid\", \"Rome\",\n",
    "            \"Paris\", \"Vienna\", \"Bucharest\", \"Hamburg\",\n",
    "            \"Budapest\", \"Warsaw\", \"Barcelona\",\n",
    "            \"Munich\", \"Milan\"],\n",
    "            \"population\": [8615246, 3562166, 3165235, 2874038,\n",
    "            2273305, 1805681, 1803425, 1760433,\n",
    "            1754000, 1740119, 1602386, 1493900,\n",
    "            1350680],\n",
    "            \"country\": [\"England\", \"Germany\", \"Spain\", \"Italy\",\n",
    "            \"France\", \"Austria\", \"Romania\",\n",
    "            \"Germany\", \"Hungary\", \"Poland\", \"Spain\",\n",
    "            \"Germany\", \"Italy\"]}\n"
   ]
  },
  {
   "cell_type": "code",
   "execution_count": 93,
   "id": "7c39b55f-e0b3-4c3f-bba5-e1e66f32354e",
   "metadata": {},
   "outputs": [],
   "source": [
    "city_df = pd.DataFrame(cities, index = cities['name'])"
   ]
  },
  {
   "cell_type": "code",
   "execution_count": 94,
   "id": "c6b07a9f-1d3b-449c-b518-1c15d1e21419",
   "metadata": {},
   "outputs": [
    {
     "data": {
      "text/html": [
       "<div>\n",
       "<style scoped>\n",
       "    .dataframe tbody tr th:only-of-type {\n",
       "        vertical-align: middle;\n",
       "    }\n",
       "\n",
       "    .dataframe tbody tr th {\n",
       "        vertical-align: top;\n",
       "    }\n",
       "\n",
       "    .dataframe thead th {\n",
       "        text-align: right;\n",
       "    }\n",
       "</style>\n",
       "<table border=\"1\" class=\"dataframe\">\n",
       "  <thead>\n",
       "    <tr style=\"text-align: right;\">\n",
       "      <th></th>\n",
       "      <th>name</th>\n",
       "      <th>population</th>\n",
       "      <th>country</th>\n",
       "    </tr>\n",
       "  </thead>\n",
       "  <tbody>\n",
       "    <tr>\n",
       "      <th>London</th>\n",
       "      <td>London</td>\n",
       "      <td>8615246</td>\n",
       "      <td>England</td>\n",
       "    </tr>\n",
       "    <tr>\n",
       "      <th>Berlin</th>\n",
       "      <td>Berlin</td>\n",
       "      <td>3562166</td>\n",
       "      <td>Germany</td>\n",
       "    </tr>\n",
       "    <tr>\n",
       "      <th>Madrid</th>\n",
       "      <td>Madrid</td>\n",
       "      <td>3165235</td>\n",
       "      <td>Spain</td>\n",
       "    </tr>\n",
       "    <tr>\n",
       "      <th>Rome</th>\n",
       "      <td>Rome</td>\n",
       "      <td>2874038</td>\n",
       "      <td>Italy</td>\n",
       "    </tr>\n",
       "    <tr>\n",
       "      <th>Paris</th>\n",
       "      <td>Paris</td>\n",
       "      <td>2273305</td>\n",
       "      <td>France</td>\n",
       "    </tr>\n",
       "    <tr>\n",
       "      <th>Vienna</th>\n",
       "      <td>Vienna</td>\n",
       "      <td>1805681</td>\n",
       "      <td>Austria</td>\n",
       "    </tr>\n",
       "    <tr>\n",
       "      <th>Bucharest</th>\n",
       "      <td>Bucharest</td>\n",
       "      <td>1803425</td>\n",
       "      <td>Romania</td>\n",
       "    </tr>\n",
       "    <tr>\n",
       "      <th>Hamburg</th>\n",
       "      <td>Hamburg</td>\n",
       "      <td>1760433</td>\n",
       "      <td>Germany</td>\n",
       "    </tr>\n",
       "    <tr>\n",
       "      <th>Budapest</th>\n",
       "      <td>Budapest</td>\n",
       "      <td>1754000</td>\n",
       "      <td>Hungary</td>\n",
       "    </tr>\n",
       "    <tr>\n",
       "      <th>Warsaw</th>\n",
       "      <td>Warsaw</td>\n",
       "      <td>1740119</td>\n",
       "      <td>Poland</td>\n",
       "    </tr>\n",
       "    <tr>\n",
       "      <th>Barcelona</th>\n",
       "      <td>Barcelona</td>\n",
       "      <td>1602386</td>\n",
       "      <td>Spain</td>\n",
       "    </tr>\n",
       "    <tr>\n",
       "      <th>Munich</th>\n",
       "      <td>Munich</td>\n",
       "      <td>1493900</td>\n",
       "      <td>Germany</td>\n",
       "    </tr>\n",
       "    <tr>\n",
       "      <th>Milan</th>\n",
       "      <td>Milan</td>\n",
       "      <td>1350680</td>\n",
       "      <td>Italy</td>\n",
       "    </tr>\n",
       "  </tbody>\n",
       "</table>\n",
       "</div>"
      ],
      "text/plain": [
       "                name  population  country\n",
       "London        London     8615246  England\n",
       "Berlin        Berlin     3562166  Germany\n",
       "Madrid        Madrid     3165235    Spain\n",
       "Rome            Rome     2874038    Italy\n",
       "Paris          Paris     2273305   France\n",
       "Vienna        Vienna     1805681  Austria\n",
       "Bucharest  Bucharest     1803425  Romania\n",
       "Hamburg      Hamburg     1760433  Germany\n",
       "Budapest    Budapest     1754000  Hungary\n",
       "Warsaw        Warsaw     1740119   Poland\n",
       "Barcelona  Barcelona     1602386    Spain\n",
       "Munich        Munich     1493900  Germany\n",
       "Milan          Milan     1350680    Italy"
      ]
     },
     "execution_count": 94,
     "metadata": {},
     "output_type": "execute_result"
    }
   ],
   "source": [
    "city_df"
   ]
  },
  {
   "cell_type": "code",
   "execution_count": 95,
   "id": "c1d3af92-dbeb-4497-abcb-f34e38c0d076",
   "metadata": {},
   "outputs": [
    {
     "data": {
      "text/html": [
       "<div>\n",
       "<style scoped>\n",
       "    .dataframe tbody tr th:only-of-type {\n",
       "        vertical-align: middle;\n",
       "    }\n",
       "\n",
       "    .dataframe tbody tr th {\n",
       "        vertical-align: top;\n",
       "    }\n",
       "\n",
       "    .dataframe thead th {\n",
       "        text-align: right;\n",
       "    }\n",
       "</style>\n",
       "<table border=\"1\" class=\"dataframe\">\n",
       "  <thead>\n",
       "    <tr style=\"text-align: right;\">\n",
       "      <th></th>\n",
       "      <th>name</th>\n",
       "      <th>population</th>\n",
       "      <th>country</th>\n",
       "    </tr>\n",
       "  </thead>\n",
       "  <tbody>\n",
       "    <tr>\n",
       "      <th>first</th>\n",
       "      <td>London</td>\n",
       "      <td>8615246</td>\n",
       "      <td>England</td>\n",
       "    </tr>\n",
       "    <tr>\n",
       "      <th>second</th>\n",
       "      <td>Berlin</td>\n",
       "      <td>3562166</td>\n",
       "      <td>Germany</td>\n",
       "    </tr>\n",
       "    <tr>\n",
       "      <th>third</th>\n",
       "      <td>Madrid</td>\n",
       "      <td>3165235</td>\n",
       "      <td>Spain</td>\n",
       "    </tr>\n",
       "    <tr>\n",
       "      <th>fourth</th>\n",
       "      <td>Rome</td>\n",
       "      <td>2874038</td>\n",
       "      <td>Italy</td>\n",
       "    </tr>\n",
       "    <tr>\n",
       "      <th>fifth</th>\n",
       "      <td>Paris</td>\n",
       "      <td>2273305</td>\n",
       "      <td>France</td>\n",
       "    </tr>\n",
       "    <tr>\n",
       "      <th>sixth</th>\n",
       "      <td>Vienna</td>\n",
       "      <td>1805681</td>\n",
       "      <td>Austria</td>\n",
       "    </tr>\n",
       "    <tr>\n",
       "      <th>seventh</th>\n",
       "      <td>Bucharest</td>\n",
       "      <td>1803425</td>\n",
       "      <td>Romania</td>\n",
       "    </tr>\n",
       "    <tr>\n",
       "      <th>eigth</th>\n",
       "      <td>Hamburg</td>\n",
       "      <td>1760433</td>\n",
       "      <td>Germany</td>\n",
       "    </tr>\n",
       "    <tr>\n",
       "      <th>ninth</th>\n",
       "      <td>Budapest</td>\n",
       "      <td>1754000</td>\n",
       "      <td>Hungary</td>\n",
       "    </tr>\n",
       "    <tr>\n",
       "      <th>tenth</th>\n",
       "      <td>Warsaw</td>\n",
       "      <td>1740119</td>\n",
       "      <td>Poland</td>\n",
       "    </tr>\n",
       "    <tr>\n",
       "      <th>eleventh</th>\n",
       "      <td>Barcelona</td>\n",
       "      <td>1602386</td>\n",
       "      <td>Spain</td>\n",
       "    </tr>\n",
       "    <tr>\n",
       "      <th>twelvth</th>\n",
       "      <td>Munich</td>\n",
       "      <td>1493900</td>\n",
       "      <td>Germany</td>\n",
       "    </tr>\n",
       "    <tr>\n",
       "      <th>thirteenth</th>\n",
       "      <td>Milan</td>\n",
       "      <td>1350680</td>\n",
       "      <td>Italy</td>\n",
       "    </tr>\n",
       "  </tbody>\n",
       "</table>\n",
       "</div>"
      ],
      "text/plain": [
       "                 name  population  country\n",
       "first          London     8615246  England\n",
       "second         Berlin     3562166  Germany\n",
       "third          Madrid     3165235    Spain\n",
       "fourth           Rome     2874038    Italy\n",
       "fifth           Paris     2273305   France\n",
       "sixth          Vienna     1805681  Austria\n",
       "seventh     Bucharest     1803425  Romania\n",
       "eigth         Hamburg     1760433  Germany\n",
       "ninth        Budapest     1754000  Hungary\n",
       "tenth          Warsaw     1740119   Poland\n",
       "eleventh    Barcelona     1602386    Spain\n",
       "twelvth        Munich     1493900  Germany\n",
       "thirteenth      Milan     1350680    Italy"
      ]
     },
     "execution_count": 95,
     "metadata": {},
     "output_type": "execute_result"
    }
   ],
   "source": [
    "ordinals = [\"first\", \"second\", \"third\", \"fourth\",\n",
    "\"fifth\", \"sixth\", \"seventh\", \"eigth\",\n",
    "\"ninth\", \"tenth\", \"eleventh\", \"twelvth\",\n",
    "\"thirteenth\"]\n",
    "city_df = pd.DataFrame(cities, index = ordinals)\n",
    "city_df"
   ]
  },
  {
   "cell_type": "code",
   "execution_count": 101,
   "id": "0ec349da-d678-4067-9dfe-92232d207fd2",
   "metadata": {},
   "outputs": [
    {
     "data": {
      "text/html": [
       "<div>\n",
       "<style scoped>\n",
       "    .dataframe tbody tr th:only-of-type {\n",
       "        vertical-align: middle;\n",
       "    }\n",
       "\n",
       "    .dataframe tbody tr th {\n",
       "        vertical-align: top;\n",
       "    }\n",
       "\n",
       "    .dataframe thead th {\n",
       "        text-align: right;\n",
       "    }\n",
       "</style>\n",
       "<table border=\"1\" class=\"dataframe\">\n",
       "  <thead>\n",
       "    <tr style=\"text-align: right;\">\n",
       "      <th></th>\n",
       "      <th>name</th>\n",
       "      <th>country</th>\n",
       "      <th>population</th>\n",
       "      <th>countryfwef</th>\n",
       "    </tr>\n",
       "  </thead>\n",
       "  <tbody>\n",
       "    <tr>\n",
       "      <th>first</th>\n",
       "      <td>London</td>\n",
       "      <td>England</td>\n",
       "      <td>8615246</td>\n",
       "      <td>NaN</td>\n",
       "    </tr>\n",
       "    <tr>\n",
       "      <th>second</th>\n",
       "      <td>Berlin</td>\n",
       "      <td>Germany</td>\n",
       "      <td>3562166</td>\n",
       "      <td>NaN</td>\n",
       "    </tr>\n",
       "    <tr>\n",
       "      <th>third</th>\n",
       "      <td>Madrid</td>\n",
       "      <td>Spain</td>\n",
       "      <td>3165235</td>\n",
       "      <td>NaN</td>\n",
       "    </tr>\n",
       "    <tr>\n",
       "      <th>fourth</th>\n",
       "      <td>Rome</td>\n",
       "      <td>Italy</td>\n",
       "      <td>2874038</td>\n",
       "      <td>NaN</td>\n",
       "    </tr>\n",
       "    <tr>\n",
       "      <th>fifth</th>\n",
       "      <td>Paris</td>\n",
       "      <td>France</td>\n",
       "      <td>2273305</td>\n",
       "      <td>NaN</td>\n",
       "    </tr>\n",
       "  </tbody>\n",
       "</table>\n",
       "</div>"
      ],
      "text/plain": [
       "          name  country  population countryfwef\n",
       "first   London  England     8615246         NaN\n",
       "second  Berlin  Germany     3562166         NaN\n",
       "third   Madrid    Spain     3165235         NaN\n",
       "fourth    Rome    Italy     2874038         NaN\n",
       "fifth    Paris   France     2273305         NaN"
      ]
     },
     "execution_count": 101,
     "metadata": {},
     "output_type": "execute_result"
    }
   ],
   "source": [
    "columns_name = [\"name\", \"country\", \"population\", \"countryfwef\"]\n",
    "city_df = pd.DataFrame(cities, index = ordinals, columns=columns_name)\n",
    "city_df.head()"
   ]
  },
  {
   "cell_type": "code",
   "execution_count": 99,
   "id": "3a3031d4-8096-4290-9c35-411a62039d88",
   "metadata": {},
   "outputs": [
    {
     "data": {
      "text/html": [
       "<div>\n",
       "<style scoped>\n",
       "    .dataframe tbody tr th:only-of-type {\n",
       "        vertical-align: middle;\n",
       "    }\n",
       "\n",
       "    .dataframe tbody tr th {\n",
       "        vertical-align: top;\n",
       "    }\n",
       "\n",
       "    .dataframe thead th {\n",
       "        text-align: right;\n",
       "    }\n",
       "</style>\n",
       "<table border=\"1\" class=\"dataframe\">\n",
       "  <thead>\n",
       "    <tr style=\"text-align: right;\">\n",
       "      <th></th>\n",
       "      <th>0</th>\n",
       "      <th>1</th>\n",
       "    </tr>\n",
       "  </thead>\n",
       "  <tbody>\n",
       "    <tr>\n",
       "      <th>0</th>\n",
       "      <td>a</td>\n",
       "      <td>1</td>\n",
       "    </tr>\n",
       "    <tr>\n",
       "      <th>1</th>\n",
       "      <td>b</td>\n",
       "      <td>2</td>\n",
       "    </tr>\n",
       "  </tbody>\n",
       "</table>\n",
       "</div>"
      ],
      "text/plain": [
       "   0  1\n",
       "0  a  1\n",
       "1  b  2"
      ]
     },
     "execution_count": 99,
     "metadata": {},
     "output_type": "execute_result"
    }
   ],
   "source": [
    "data = [(\"a\",1), (\"b\",2)]\n",
    "pd.DataFrame(data)"
   ]
  },
  {
   "cell_type": "code",
   "execution_count": 102,
   "id": "110f0998-59ff-43ba-a3d6-bbec46a6d0e9",
   "metadata": {},
   "outputs": [
    {
     "data": {
      "text/html": [
       "<div>\n",
       "<style scoped>\n",
       "    .dataframe tbody tr th:only-of-type {\n",
       "        vertical-align: middle;\n",
       "    }\n",
       "\n",
       "    .dataframe tbody tr th {\n",
       "        vertical-align: top;\n",
       "    }\n",
       "\n",
       "    .dataframe thead th {\n",
       "        text-align: right;\n",
       "    }\n",
       "</style>\n",
       "<table border=\"1\" class=\"dataframe\">\n",
       "  <thead>\n",
       "    <tr style=\"text-align: right;\">\n",
       "      <th></th>\n",
       "      <th>name</th>\n",
       "      <th>country</th>\n",
       "      <th>population</th>\n",
       "      <th>countryfwef</th>\n",
       "    </tr>\n",
       "  </thead>\n",
       "  <tbody>\n",
       "    <tr>\n",
       "      <th>ninth</th>\n",
       "      <td>Budapest</td>\n",
       "      <td>Hungary</td>\n",
       "      <td>1754000</td>\n",
       "      <td>NaN</td>\n",
       "    </tr>\n",
       "    <tr>\n",
       "      <th>tenth</th>\n",
       "      <td>Warsaw</td>\n",
       "      <td>Poland</td>\n",
       "      <td>1740119</td>\n",
       "      <td>NaN</td>\n",
       "    </tr>\n",
       "    <tr>\n",
       "      <th>eleventh</th>\n",
       "      <td>Barcelona</td>\n",
       "      <td>Spain</td>\n",
       "      <td>1602386</td>\n",
       "      <td>NaN</td>\n",
       "    </tr>\n",
       "    <tr>\n",
       "      <th>twelvth</th>\n",
       "      <td>Munich</td>\n",
       "      <td>Germany</td>\n",
       "      <td>1493900</td>\n",
       "      <td>NaN</td>\n",
       "    </tr>\n",
       "    <tr>\n",
       "      <th>thirteenth</th>\n",
       "      <td>Milan</td>\n",
       "      <td>Italy</td>\n",
       "      <td>1350680</td>\n",
       "      <td>NaN</td>\n",
       "    </tr>\n",
       "  </tbody>\n",
       "</table>\n",
       "</div>"
      ],
      "text/plain": [
       "                 name  country  population countryfwef\n",
       "ninth        Budapest  Hungary     1754000         NaN\n",
       "tenth          Warsaw   Poland     1740119         NaN\n",
       "eleventh    Barcelona    Spain     1602386         NaN\n",
       "twelvth        Munich  Germany     1493900         NaN\n",
       "thirteenth      Milan    Italy     1350680         NaN"
      ]
     },
     "execution_count": 102,
     "metadata": {},
     "output_type": "execute_result"
    }
   ],
   "source": [
    "city_df.tail()"
   ]
  },
  {
   "cell_type": "code",
   "execution_count": 103,
   "id": "3571ce8a-e61a-430e-bce8-69a0b3bd9c70",
   "metadata": {},
   "outputs": [
    {
     "data": {
      "text/html": [
       "<div>\n",
       "<style scoped>\n",
       "    .dataframe tbody tr th:only-of-type {\n",
       "        vertical-align: middle;\n",
       "    }\n",
       "\n",
       "    .dataframe tbody tr th {\n",
       "        vertical-align: top;\n",
       "    }\n",
       "\n",
       "    .dataframe thead th {\n",
       "        text-align: right;\n",
       "    }\n",
       "</style>\n",
       "<table border=\"1\" class=\"dataframe\">\n",
       "  <thead>\n",
       "    <tr style=\"text-align: right;\">\n",
       "      <th></th>\n",
       "      <th>name</th>\n",
       "      <th>country</th>\n",
       "      <th>population</th>\n",
       "      <th>countryfwef</th>\n",
       "    </tr>\n",
       "  </thead>\n",
       "  <tbody>\n",
       "    <tr>\n",
       "      <th>first</th>\n",
       "      <td>London</td>\n",
       "      <td>England</td>\n",
       "      <td>8615246</td>\n",
       "      <td>NaN</td>\n",
       "    </tr>\n",
       "    <tr>\n",
       "      <th>second</th>\n",
       "      <td>Berlin</td>\n",
       "      <td>Germany</td>\n",
       "      <td>3562166</td>\n",
       "      <td>NaN</td>\n",
       "    </tr>\n",
       "    <tr>\n",
       "      <th>third</th>\n",
       "      <td>Madrid</td>\n",
       "      <td>Spain</td>\n",
       "      <td>3165235</td>\n",
       "      <td>NaN</td>\n",
       "    </tr>\n",
       "  </tbody>\n",
       "</table>\n",
       "</div>"
      ],
      "text/plain": [
       "          name  country  population countryfwef\n",
       "first   London  England     8615246         NaN\n",
       "second  Berlin  Germany     3562166         NaN\n",
       "third   Madrid    Spain     3165235         NaN"
      ]
     },
     "execution_count": 103,
     "metadata": {},
     "output_type": "execute_result"
    }
   ],
   "source": [
    "city_df.head(3)"
   ]
  },
  {
   "cell_type": "code",
   "execution_count": 104,
   "id": "0662f804-ce9f-4af2-9efd-544fdaea0f5e",
   "metadata": {},
   "outputs": [
    {
     "data": {
      "text/plain": [
       "first            London\n",
       "second           Berlin\n",
       "third            Madrid\n",
       "fourth             Rome\n",
       "fifth             Paris\n",
       "sixth            Vienna\n",
       "seventh       Bucharest\n",
       "eigth           Hamburg\n",
       "ninth          Budapest\n",
       "tenth            Warsaw\n",
       "eleventh      Barcelona\n",
       "twelvth          Munich\n",
       "thirteenth        Milan\n",
       "Name: name, dtype: object"
      ]
     },
     "execution_count": 104,
     "metadata": {},
     "output_type": "execute_result"
    }
   ],
   "source": [
    "city_df[\"name\"]"
   ]
  },
  {
   "cell_type": "code",
   "execution_count": 106,
   "id": "b2fc95d8-ebe5-4ae2-85fb-369d8f99d114",
   "metadata": {},
   "outputs": [],
   "source": [
    "city_df[\"male-population\"] = [1, 2, 3, 4, 5, 6, 7, 8, 9, 10, 11, 12, 13]"
   ]
  },
  {
   "cell_type": "code",
   "execution_count": 107,
   "id": "0941d0a6-148f-42ac-a936-53693a519bba",
   "metadata": {},
   "outputs": [
    {
     "data": {
      "text/html": [
       "<div>\n",
       "<style scoped>\n",
       "    .dataframe tbody tr th:only-of-type {\n",
       "        vertical-align: middle;\n",
       "    }\n",
       "\n",
       "    .dataframe tbody tr th {\n",
       "        vertical-align: top;\n",
       "    }\n",
       "\n",
       "    .dataframe thead th {\n",
       "        text-align: right;\n",
       "    }\n",
       "</style>\n",
       "<table border=\"1\" class=\"dataframe\">\n",
       "  <thead>\n",
       "    <tr style=\"text-align: right;\">\n",
       "      <th></th>\n",
       "      <th>name</th>\n",
       "      <th>country</th>\n",
       "      <th>population</th>\n",
       "      <th>countryfwef</th>\n",
       "      <th>male-population</th>\n",
       "    </tr>\n",
       "  </thead>\n",
       "  <tbody>\n",
       "    <tr>\n",
       "      <th>first</th>\n",
       "      <td>London</td>\n",
       "      <td>England</td>\n",
       "      <td>8615246</td>\n",
       "      <td>NaN</td>\n",
       "      <td>1</td>\n",
       "    </tr>\n",
       "    <tr>\n",
       "      <th>second</th>\n",
       "      <td>Berlin</td>\n",
       "      <td>Germany</td>\n",
       "      <td>3562166</td>\n",
       "      <td>NaN</td>\n",
       "      <td>2</td>\n",
       "    </tr>\n",
       "    <tr>\n",
       "      <th>third</th>\n",
       "      <td>Madrid</td>\n",
       "      <td>Spain</td>\n",
       "      <td>3165235</td>\n",
       "      <td>NaN</td>\n",
       "      <td>3</td>\n",
       "    </tr>\n",
       "    <tr>\n",
       "      <th>fourth</th>\n",
       "      <td>Rome</td>\n",
       "      <td>Italy</td>\n",
       "      <td>2874038</td>\n",
       "      <td>NaN</td>\n",
       "      <td>4</td>\n",
       "    </tr>\n",
       "    <tr>\n",
       "      <th>fifth</th>\n",
       "      <td>Paris</td>\n",
       "      <td>France</td>\n",
       "      <td>2273305</td>\n",
       "      <td>NaN</td>\n",
       "      <td>5</td>\n",
       "    </tr>\n",
       "  </tbody>\n",
       "</table>\n",
       "</div>"
      ],
      "text/plain": [
       "          name  country  population countryfwef  male-population\n",
       "first   London  England     8615246         NaN                1\n",
       "second  Berlin  Germany     3562166         NaN                2\n",
       "third   Madrid    Spain     3165235         NaN                3\n",
       "fourth    Rome    Italy     2874038         NaN                4\n",
       "fifth    Paris   France     2273305         NaN                5"
      ]
     },
     "execution_count": 107,
     "metadata": {},
     "output_type": "execute_result"
    }
   ],
   "source": [
    "city_df.head()"
   ]
  },
  {
   "cell_type": "markdown",
   "id": "adad23c5-6dd8-4924-90fe-168d0cf0486f",
   "metadata": {
    "jp-MarkdownHeadingCollapsed": true
   },
   "source": [
    "#### pandas.Series.rename\r",
    "*\n",
    "Series.rename(index=None, *, axis=None, copy=None, inplace=False, level=None, errors='ignore')"
   ]
  },
  {
   "cell_type": "code",
   "execution_count": 108,
   "id": "555a829b-b952-4a12-b565-49762bfeca42",
   "metadata": {},
   "outputs": [],
   "source": [
    "city_df.rename(columns= {'name' : 'a',\n",
    "                         'country' : 'b',\n",
    "                         'population': 'c'\n",
    "                        }, inplace= True)"
   ]
  },
  {
   "cell_type": "code",
   "execution_count": 109,
   "id": "f1ee1637-309b-4d2d-a89f-ac4f054b6d00",
   "metadata": {},
   "outputs": [
    {
     "data": {
      "text/html": [
       "<div>\n",
       "<style scoped>\n",
       "    .dataframe tbody tr th:only-of-type {\n",
       "        vertical-align: middle;\n",
       "    }\n",
       "\n",
       "    .dataframe tbody tr th {\n",
       "        vertical-align: top;\n",
       "    }\n",
       "\n",
       "    .dataframe thead th {\n",
       "        text-align: right;\n",
       "    }\n",
       "</style>\n",
       "<table border=\"1\" class=\"dataframe\">\n",
       "  <thead>\n",
       "    <tr style=\"text-align: right;\">\n",
       "      <th></th>\n",
       "      <th>a</th>\n",
       "      <th>b</th>\n",
       "      <th>c</th>\n",
       "      <th>countryfwef</th>\n",
       "      <th>male-population</th>\n",
       "    </tr>\n",
       "  </thead>\n",
       "  <tbody>\n",
       "    <tr>\n",
       "      <th>first</th>\n",
       "      <td>London</td>\n",
       "      <td>England</td>\n",
       "      <td>8615246</td>\n",
       "      <td>NaN</td>\n",
       "      <td>1</td>\n",
       "    </tr>\n",
       "    <tr>\n",
       "      <th>second</th>\n",
       "      <td>Berlin</td>\n",
       "      <td>Germany</td>\n",
       "      <td>3562166</td>\n",
       "      <td>NaN</td>\n",
       "      <td>2</td>\n",
       "    </tr>\n",
       "    <tr>\n",
       "      <th>third</th>\n",
       "      <td>Madrid</td>\n",
       "      <td>Spain</td>\n",
       "      <td>3165235</td>\n",
       "      <td>NaN</td>\n",
       "      <td>3</td>\n",
       "    </tr>\n",
       "    <tr>\n",
       "      <th>fourth</th>\n",
       "      <td>Rome</td>\n",
       "      <td>Italy</td>\n",
       "      <td>2874038</td>\n",
       "      <td>NaN</td>\n",
       "      <td>4</td>\n",
       "    </tr>\n",
       "    <tr>\n",
       "      <th>fifth</th>\n",
       "      <td>Paris</td>\n",
       "      <td>France</td>\n",
       "      <td>2273305</td>\n",
       "      <td>NaN</td>\n",
       "      <td>5</td>\n",
       "    </tr>\n",
       "    <tr>\n",
       "      <th>sixth</th>\n",
       "      <td>Vienna</td>\n",
       "      <td>Austria</td>\n",
       "      <td>1805681</td>\n",
       "      <td>NaN</td>\n",
       "      <td>6</td>\n",
       "    </tr>\n",
       "    <tr>\n",
       "      <th>seventh</th>\n",
       "      <td>Bucharest</td>\n",
       "      <td>Romania</td>\n",
       "      <td>1803425</td>\n",
       "      <td>NaN</td>\n",
       "      <td>7</td>\n",
       "    </tr>\n",
       "    <tr>\n",
       "      <th>eigth</th>\n",
       "      <td>Hamburg</td>\n",
       "      <td>Germany</td>\n",
       "      <td>1760433</td>\n",
       "      <td>NaN</td>\n",
       "      <td>8</td>\n",
       "    </tr>\n",
       "    <tr>\n",
       "      <th>ninth</th>\n",
       "      <td>Budapest</td>\n",
       "      <td>Hungary</td>\n",
       "      <td>1754000</td>\n",
       "      <td>NaN</td>\n",
       "      <td>9</td>\n",
       "    </tr>\n",
       "    <tr>\n",
       "      <th>tenth</th>\n",
       "      <td>Warsaw</td>\n",
       "      <td>Poland</td>\n",
       "      <td>1740119</td>\n",
       "      <td>NaN</td>\n",
       "      <td>10</td>\n",
       "    </tr>\n",
       "    <tr>\n",
       "      <th>eleventh</th>\n",
       "      <td>Barcelona</td>\n",
       "      <td>Spain</td>\n",
       "      <td>1602386</td>\n",
       "      <td>NaN</td>\n",
       "      <td>11</td>\n",
       "    </tr>\n",
       "    <tr>\n",
       "      <th>twelvth</th>\n",
       "      <td>Munich</td>\n",
       "      <td>Germany</td>\n",
       "      <td>1493900</td>\n",
       "      <td>NaN</td>\n",
       "      <td>12</td>\n",
       "    </tr>\n",
       "    <tr>\n",
       "      <th>thirteenth</th>\n",
       "      <td>Milan</td>\n",
       "      <td>Italy</td>\n",
       "      <td>1350680</td>\n",
       "      <td>NaN</td>\n",
       "      <td>13</td>\n",
       "    </tr>\n",
       "  </tbody>\n",
       "</table>\n",
       "</div>"
      ],
      "text/plain": [
       "                    a        b        c countryfwef  male-population\n",
       "first          London  England  8615246         NaN                1\n",
       "second         Berlin  Germany  3562166         NaN                2\n",
       "third          Madrid    Spain  3165235         NaN                3\n",
       "fourth           Rome    Italy  2874038         NaN                4\n",
       "fifth           Paris   France  2273305         NaN                5\n",
       "sixth          Vienna  Austria  1805681         NaN                6\n",
       "seventh     Bucharest  Romania  1803425         NaN                7\n",
       "eigth         Hamburg  Germany  1760433         NaN                8\n",
       "ninth        Budapest  Hungary  1754000         NaN                9\n",
       "tenth          Warsaw   Poland  1740119         NaN               10\n",
       "eleventh    Barcelona    Spain  1602386         NaN               11\n",
       "twelvth        Munich  Germany  1493900         NaN               12\n",
       "thirteenth      Milan    Italy  1350680         NaN               13"
      ]
     },
     "execution_count": 109,
     "metadata": {},
     "output_type": "execute_result"
    }
   ],
   "source": [
    "city_df"
   ]
  },
  {
   "cell_type": "markdown",
   "id": "5e220be6-dc7b-47ba-accb-e4f7e97d9c66",
   "metadata": {
    "jp-MarkdownHeadingCollapsed": true
   },
   "source": [
    "#### pandas.DataFrame.set_index\r",
    "*\n",
    "DataFrame.set_index(keys, *, drop=True, append=False, inplace=False, verify_integrity=False)"
   ]
  },
  {
   "cell_type": "code",
   "execution_count": 115,
   "id": "61c93225-1f6f-4182-907b-7d5c00fa560f",
   "metadata": {},
   "outputs": [
    {
     "data": {
      "text/html": [
       "<div>\n",
       "<style scoped>\n",
       "    .dataframe tbody tr th:only-of-type {\n",
       "        vertical-align: middle;\n",
       "    }\n",
       "\n",
       "    .dataframe tbody tr th {\n",
       "        vertical-align: top;\n",
       "    }\n",
       "\n",
       "    .dataframe thead th {\n",
       "        text-align: right;\n",
       "    }\n",
       "</style>\n",
       "<table border=\"1\" class=\"dataframe\">\n",
       "  <thead>\n",
       "    <tr style=\"text-align: right;\">\n",
       "      <th></th>\n",
       "      <th>b</th>\n",
       "      <th>c</th>\n",
       "      <th>countryfwef</th>\n",
       "      <th>male-population</th>\n",
       "    </tr>\n",
       "    <tr>\n",
       "      <th>a</th>\n",
       "      <th></th>\n",
       "      <th></th>\n",
       "      <th></th>\n",
       "      <th></th>\n",
       "    </tr>\n",
       "  </thead>\n",
       "  <tbody>\n",
       "    <tr>\n",
       "      <th>London</th>\n",
       "      <td>England</td>\n",
       "      <td>8615246</td>\n",
       "      <td>NaN</td>\n",
       "      <td>1</td>\n",
       "    </tr>\n",
       "    <tr>\n",
       "      <th>Berlin</th>\n",
       "      <td>Germany</td>\n",
       "      <td>3562166</td>\n",
       "      <td>NaN</td>\n",
       "      <td>2</td>\n",
       "    </tr>\n",
       "    <tr>\n",
       "      <th>Madrid</th>\n",
       "      <td>Spain</td>\n",
       "      <td>3165235</td>\n",
       "      <td>NaN</td>\n",
       "      <td>3</td>\n",
       "    </tr>\n",
       "    <tr>\n",
       "      <th>Rome</th>\n",
       "      <td>Italy</td>\n",
       "      <td>2874038</td>\n",
       "      <td>NaN</td>\n",
       "      <td>4</td>\n",
       "    </tr>\n",
       "    <tr>\n",
       "      <th>Paris</th>\n",
       "      <td>France</td>\n",
       "      <td>2273305</td>\n",
       "      <td>NaN</td>\n",
       "      <td>5</td>\n",
       "    </tr>\n",
       "    <tr>\n",
       "      <th>Vienna</th>\n",
       "      <td>Austria</td>\n",
       "      <td>1805681</td>\n",
       "      <td>NaN</td>\n",
       "      <td>6</td>\n",
       "    </tr>\n",
       "    <tr>\n",
       "      <th>Bucharest</th>\n",
       "      <td>Romania</td>\n",
       "      <td>1803425</td>\n",
       "      <td>NaN</td>\n",
       "      <td>7</td>\n",
       "    </tr>\n",
       "    <tr>\n",
       "      <th>Hamburg</th>\n",
       "      <td>Germany</td>\n",
       "      <td>1760433</td>\n",
       "      <td>NaN</td>\n",
       "      <td>8</td>\n",
       "    </tr>\n",
       "    <tr>\n",
       "      <th>Budapest</th>\n",
       "      <td>Hungary</td>\n",
       "      <td>1754000</td>\n",
       "      <td>NaN</td>\n",
       "      <td>9</td>\n",
       "    </tr>\n",
       "    <tr>\n",
       "      <th>Warsaw</th>\n",
       "      <td>Poland</td>\n",
       "      <td>1740119</td>\n",
       "      <td>NaN</td>\n",
       "      <td>10</td>\n",
       "    </tr>\n",
       "    <tr>\n",
       "      <th>Barcelona</th>\n",
       "      <td>Spain</td>\n",
       "      <td>1602386</td>\n",
       "      <td>NaN</td>\n",
       "      <td>11</td>\n",
       "    </tr>\n",
       "    <tr>\n",
       "      <th>Munich</th>\n",
       "      <td>Germany</td>\n",
       "      <td>1493900</td>\n",
       "      <td>NaN</td>\n",
       "      <td>12</td>\n",
       "    </tr>\n",
       "    <tr>\n",
       "      <th>Milan</th>\n",
       "      <td>Italy</td>\n",
       "      <td>1350680</td>\n",
       "      <td>NaN</td>\n",
       "      <td>13</td>\n",
       "    </tr>\n",
       "  </tbody>\n",
       "</table>\n",
       "</div>"
      ],
      "text/plain": [
       "                 b        c countryfwef  male-population\n",
       "a                                                       \n",
       "London     England  8615246         NaN                1\n",
       "Berlin     Germany  3562166         NaN                2\n",
       "Madrid       Spain  3165235         NaN                3\n",
       "Rome         Italy  2874038         NaN                4\n",
       "Paris       France  2273305         NaN                5\n",
       "Vienna     Austria  1805681         NaN                6\n",
       "Bucharest  Romania  1803425         NaN                7\n",
       "Hamburg    Germany  1760433         NaN                8\n",
       "Budapest   Hungary  1754000         NaN                9\n",
       "Warsaw      Poland  1740119         NaN               10\n",
       "Barcelona    Spain  1602386         NaN               11\n",
       "Munich     Germany  1493900         NaN               12\n",
       "Milan        Italy  1350680         NaN               13"
      ]
     },
     "execution_count": 115,
     "metadata": {},
     "output_type": "execute_result"
    }
   ],
   "source": [
    "df1 = city_df.set_index('a')\n",
    "df1"
   ]
  },
  {
   "cell_type": "markdown",
   "id": "d39f70c8-0f8f-4014-8096-462377d4ca54",
   "metadata": {
    "jp-MarkdownHeadingCollapsed": true
   },
   "source": [
    "#### index values로 ROWS 값 찾기"
   ]
  },
  {
   "cell_type": "markdown",
   "id": "4a72ce87-b5a2-4ffa-8262-9109952b22d6",
   "metadata": {
    "jp-MarkdownHeadingCollapsed": true
   },
   "source": [
    "#### pandas.DataFrame.loc\r",
    "*\n",
    "property DataFrame.loc"
   ]
  },
  {
   "cell_type": "code",
   "execution_count": 118,
   "id": "532479ca-e22f-4792-8302-a3a82c7ed346",
   "metadata": {},
   "outputs": [
    {
     "data": {
      "text/html": [
       "<div>\n",
       "<style scoped>\n",
       "    .dataframe tbody tr th:only-of-type {\n",
       "        vertical-align: middle;\n",
       "    }\n",
       "\n",
       "    .dataframe tbody tr th {\n",
       "        vertical-align: top;\n",
       "    }\n",
       "\n",
       "    .dataframe thead th {\n",
       "        text-align: right;\n",
       "    }\n",
       "</style>\n",
       "<table border=\"1\" class=\"dataframe\">\n",
       "  <thead>\n",
       "    <tr style=\"text-align: right;\">\n",
       "      <th></th>\n",
       "      <th>name</th>\n",
       "      <th>population</th>\n",
       "    </tr>\n",
       "  </thead>\n",
       "  <tbody>\n",
       "    <tr>\n",
       "      <th>England</th>\n",
       "      <td>London</td>\n",
       "      <td>8615246</td>\n",
       "    </tr>\n",
       "    <tr>\n",
       "      <th>Germany</th>\n",
       "      <td>Berlin</td>\n",
       "      <td>3562166</td>\n",
       "    </tr>\n",
       "    <tr>\n",
       "      <th>Spain</th>\n",
       "      <td>Madrid</td>\n",
       "      <td>3165235</td>\n",
       "    </tr>\n",
       "    <tr>\n",
       "      <th>Italy</th>\n",
       "      <td>Rome</td>\n",
       "      <td>2874038</td>\n",
       "    </tr>\n",
       "    <tr>\n",
       "      <th>France</th>\n",
       "      <td>Paris</td>\n",
       "      <td>2273305</td>\n",
       "    </tr>\n",
       "    <tr>\n",
       "      <th>Austria</th>\n",
       "      <td>Vienna</td>\n",
       "      <td>1805681</td>\n",
       "    </tr>\n",
       "    <tr>\n",
       "      <th>Romania</th>\n",
       "      <td>Bucharest</td>\n",
       "      <td>1803425</td>\n",
       "    </tr>\n",
       "    <tr>\n",
       "      <th>Germany</th>\n",
       "      <td>Hamburg</td>\n",
       "      <td>1760433</td>\n",
       "    </tr>\n",
       "    <tr>\n",
       "      <th>Hungary</th>\n",
       "      <td>Budapest</td>\n",
       "      <td>1754000</td>\n",
       "    </tr>\n",
       "    <tr>\n",
       "      <th>Poland</th>\n",
       "      <td>Warsaw</td>\n",
       "      <td>1740119</td>\n",
       "    </tr>\n",
       "    <tr>\n",
       "      <th>Spain</th>\n",
       "      <td>Barcelona</td>\n",
       "      <td>1602386</td>\n",
       "    </tr>\n",
       "    <tr>\n",
       "      <th>Germany</th>\n",
       "      <td>Munich</td>\n",
       "      <td>1493900</td>\n",
       "    </tr>\n",
       "    <tr>\n",
       "      <th>Italy</th>\n",
       "      <td>Milan</td>\n",
       "      <td>1350680</td>\n",
       "    </tr>\n",
       "  </tbody>\n",
       "</table>\n",
       "</div>"
      ],
      "text/plain": [
       "              name  population\n",
       "England     London     8615246\n",
       "Germany     Berlin     3562166\n",
       "Spain       Madrid     3165235\n",
       "Italy         Rome     2874038\n",
       "France       Paris     2273305\n",
       "Austria     Vienna     1805681\n",
       "Romania  Bucharest     1803425\n",
       "Germany    Hamburg     1760433\n",
       "Hungary   Budapest     1754000\n",
       "Poland      Warsaw     1740119\n",
       "Spain    Barcelona     1602386\n",
       "Germany     Munich     1493900\n",
       "Italy        Milan     1350680"
      ]
     },
     "execution_count": 118,
     "metadata": {},
     "output_type": "execute_result"
    }
   ],
   "source": [
    "city_frame = pd.DataFrame(cities, columns=['name', 'population'], index = cities['country'])\n",
    "city_frame"
   ]
  },
  {
   "cell_type": "code",
   "execution_count": 120,
   "id": "a3696405-a957-40bf-bad5-69cc71028c82",
   "metadata": {},
   "outputs": [
    {
     "data": {
      "text/html": [
       "<div>\n",
       "<style scoped>\n",
       "    .dataframe tbody tr th:only-of-type {\n",
       "        vertical-align: middle;\n",
       "    }\n",
       "\n",
       "    .dataframe tbody tr th {\n",
       "        vertical-align: top;\n",
       "    }\n",
       "\n",
       "    .dataframe thead th {\n",
       "        text-align: right;\n",
       "    }\n",
       "</style>\n",
       "<table border=\"1\" class=\"dataframe\">\n",
       "  <thead>\n",
       "    <tr style=\"text-align: right;\">\n",
       "      <th></th>\n",
       "      <th>name</th>\n",
       "      <th>population</th>\n",
       "    </tr>\n",
       "  </thead>\n",
       "  <tbody>\n",
       "    <tr>\n",
       "      <th>Germany</th>\n",
       "      <td>Berlin</td>\n",
       "      <td>3562166</td>\n",
       "    </tr>\n",
       "    <tr>\n",
       "      <th>Germany</th>\n",
       "      <td>Hamburg</td>\n",
       "      <td>1760433</td>\n",
       "    </tr>\n",
       "    <tr>\n",
       "      <th>Germany</th>\n",
       "      <td>Munich</td>\n",
       "      <td>1493900</td>\n",
       "    </tr>\n",
       "  </tbody>\n",
       "</table>\n",
       "</div>"
      ],
      "text/plain": [
       "            name  population\n",
       "Germany   Berlin     3562166\n",
       "Germany  Hamburg     1760433\n",
       "Germany   Munich     1493900"
      ]
     },
     "execution_count": 120,
     "metadata": {},
     "output_type": "execute_result"
    }
   ],
   "source": [
    "city_frame.loc[\"Germany\"]"
   ]
  },
  {
   "cell_type": "code",
   "execution_count": 127,
   "id": "2ae5378b-c588-47cc-a5f7-365593e96940",
   "metadata": {},
   "outputs": [
    {
     "data": {
      "text/html": [
       "<div>\n",
       "<style scoped>\n",
       "    .dataframe tbody tr th:only-of-type {\n",
       "        vertical-align: middle;\n",
       "    }\n",
       "\n",
       "    .dataframe tbody tr th {\n",
       "        vertical-align: top;\n",
       "    }\n",
       "\n",
       "    .dataframe thead th {\n",
       "        text-align: right;\n",
       "    }\n",
       "</style>\n",
       "<table border=\"1\" class=\"dataframe\">\n",
       "  <thead>\n",
       "    <tr style=\"text-align: right;\">\n",
       "      <th></th>\n",
       "      <th>name</th>\n",
       "      <th>population</th>\n",
       "    </tr>\n",
       "  </thead>\n",
       "  <tbody>\n",
       "    <tr>\n",
       "      <th>England</th>\n",
       "      <td>London</td>\n",
       "      <td>8615246</td>\n",
       "    </tr>\n",
       "    <tr>\n",
       "      <th>Germany</th>\n",
       "      <td>Berlin</td>\n",
       "      <td>3562166</td>\n",
       "    </tr>\n",
       "    <tr>\n",
       "      <th>Spain</th>\n",
       "      <td>Madrid</td>\n",
       "      <td>3165235</td>\n",
       "    </tr>\n",
       "    <tr>\n",
       "      <th>Italy</th>\n",
       "      <td>Rome</td>\n",
       "      <td>2874038</td>\n",
       "    </tr>\n",
       "    <tr>\n",
       "      <th>France</th>\n",
       "      <td>Paris</td>\n",
       "      <td>2273305</td>\n",
       "    </tr>\n",
       "    <tr>\n",
       "      <th>Austria</th>\n",
       "      <td>Vienna</td>\n",
       "      <td>1805681</td>\n",
       "    </tr>\n",
       "    <tr>\n",
       "      <th>Romania</th>\n",
       "      <td>Bucharest</td>\n",
       "      <td>1803425</td>\n",
       "    </tr>\n",
       "    <tr>\n",
       "      <th>Germany</th>\n",
       "      <td>Hamburg</td>\n",
       "      <td>1760433</td>\n",
       "    </tr>\n",
       "    <tr>\n",
       "      <th>Hungary</th>\n",
       "      <td>Budapest</td>\n",
       "      <td>1754000</td>\n",
       "    </tr>\n",
       "    <tr>\n",
       "      <th>Poland</th>\n",
       "      <td>Warsaw</td>\n",
       "      <td>1740119</td>\n",
       "    </tr>\n",
       "    <tr>\n",
       "      <th>Spain</th>\n",
       "      <td>Barcelona</td>\n",
       "      <td>1602386</td>\n",
       "    </tr>\n",
       "    <tr>\n",
       "      <th>Germany</th>\n",
       "      <td>Munich</td>\n",
       "      <td>1493900</td>\n",
       "    </tr>\n",
       "    <tr>\n",
       "      <th>Italy</th>\n",
       "      <td>Milan</td>\n",
       "      <td>1350680</td>\n",
       "    </tr>\n",
       "  </tbody>\n",
       "</table>\n",
       "</div>"
      ],
      "text/plain": [
       "              name  population\n",
       "England     London     8615246\n",
       "Germany     Berlin     3562166\n",
       "Spain       Madrid     3165235\n",
       "Italy         Rome     2874038\n",
       "France       Paris     2273305\n",
       "Austria     Vienna     1805681\n",
       "Romania  Bucharest     1803425\n",
       "Germany    Hamburg     1760433\n",
       "Hungary   Budapest     1754000\n",
       "Poland      Warsaw     1740119\n",
       "Spain    Barcelona     1602386\n",
       "Germany     Munich     1493900\n",
       "Italy        Milan     1350680"
      ]
     },
     "execution_count": 127,
     "metadata": {},
     "output_type": "execute_result"
    }
   ],
   "source": [
    "city_frame.loc[city_frame['population'] > 200000]"
   ]
  },
  {
   "cell_type": "code",
   "execution_count": 132,
   "id": "0bb5943d-69b3-45b7-95e5-75f80d206d9a",
   "metadata": {},
   "outputs": [
    {
     "data": {
      "text/html": [
       "<div>\n",
       "<style scoped>\n",
       "    .dataframe tbody tr th:only-of-type {\n",
       "        vertical-align: middle;\n",
       "    }\n",
       "\n",
       "    .dataframe tbody tr th {\n",
       "        vertical-align: top;\n",
       "    }\n",
       "\n",
       "    .dataframe thead th {\n",
       "        text-align: right;\n",
       "    }\n",
       "</style>\n",
       "<table border=\"1\" class=\"dataframe\">\n",
       "  <thead>\n",
       "    <tr style=\"text-align: right;\">\n",
       "      <th></th>\n",
       "      <th>name</th>\n",
       "      <th>population</th>\n",
       "    </tr>\n",
       "  </thead>\n",
       "  <tbody>\n",
       "    <tr>\n",
       "      <th>Italy</th>\n",
       "      <td>Rome</td>\n",
       "      <td>2874038</td>\n",
       "    </tr>\n",
       "    <tr>\n",
       "      <th>France</th>\n",
       "      <td>Paris</td>\n",
       "      <td>2273305</td>\n",
       "    </tr>\n",
       "  </tbody>\n",
       "</table>\n",
       "</div>"
      ],
      "text/plain": [
       "         name  population\n",
       "Italy    Rome     2874038\n",
       "France  Paris     2273305"
      ]
     },
     "execution_count": 132,
     "metadata": {},
     "output_type": "execute_result"
    }
   ],
   "source": [
    "city_frame.loc[(city_frame.population > 2000000) & (city_frame.population < 3000000)]"
   ]
  },
  {
   "cell_type": "code",
   "execution_count": 137,
   "id": "a703dacc-f01a-427d-b10c-1a0c420c84c3",
   "metadata": {},
   "outputs": [
    {
     "data": {
      "text/html": [
       "<div>\n",
       "<style scoped>\n",
       "    .dataframe tbody tr th:only-of-type {\n",
       "        vertical-align: middle;\n",
       "    }\n",
       "\n",
       "    .dataframe tbody tr th {\n",
       "        vertical-align: top;\n",
       "    }\n",
       "\n",
       "    .dataframe thead th {\n",
       "        text-align: right;\n",
       "    }\n",
       "</style>\n",
       "<table border=\"1\" class=\"dataframe\">\n",
       "  <thead>\n",
       "    <tr style=\"text-align: right;\">\n",
       "      <th></th>\n",
       "      <th>name</th>\n",
       "      <th>population</th>\n",
       "    </tr>\n",
       "  </thead>\n",
       "  <tbody>\n",
       "    <tr>\n",
       "      <th>Italy</th>\n",
       "      <td>Rome</td>\n",
       "      <td>2874038</td>\n",
       "    </tr>\n",
       "  </tbody>\n",
       "</table>\n",
       "</div>"
      ],
      "text/plain": [
       "       name  population\n",
       "Italy  Rome     2874038"
      ]
     },
     "execution_count": 137,
     "metadata": {},
     "output_type": "execute_result"
    }
   ],
   "source": [
    "city_frame.loc[(city_frame.population > 2000000) & city_frame['name'].str.contains(\"m\")]"
   ]
  },
  {
   "cell_type": "code",
   "execution_count": 138,
   "id": "a5649c4d-b0af-49c1-b93b-da27524c78ef",
   "metadata": {},
   "outputs": [],
   "source": [
    "city_frame.loc[\"Hungary\"] = [\"Seoul\", 2100000]"
   ]
  },
  {
   "cell_type": "code",
   "execution_count": 139,
   "id": "52467456-c187-4bd7-9b07-37a07412765e",
   "metadata": {},
   "outputs": [
    {
     "data": {
      "text/html": [
       "<div>\n",
       "<style scoped>\n",
       "    .dataframe tbody tr th:only-of-type {\n",
       "        vertical-align: middle;\n",
       "    }\n",
       "\n",
       "    .dataframe tbody tr th {\n",
       "        vertical-align: top;\n",
       "    }\n",
       "\n",
       "    .dataframe thead th {\n",
       "        text-align: right;\n",
       "    }\n",
       "</style>\n",
       "<table border=\"1\" class=\"dataframe\">\n",
       "  <thead>\n",
       "    <tr style=\"text-align: right;\">\n",
       "      <th></th>\n",
       "      <th>name</th>\n",
       "      <th>population</th>\n",
       "    </tr>\n",
       "  </thead>\n",
       "  <tbody>\n",
       "    <tr>\n",
       "      <th>England</th>\n",
       "      <td>London</td>\n",
       "      <td>8615246</td>\n",
       "    </tr>\n",
       "    <tr>\n",
       "      <th>Germany</th>\n",
       "      <td>Berlin</td>\n",
       "      <td>3562166</td>\n",
       "    </tr>\n",
       "    <tr>\n",
       "      <th>Spain</th>\n",
       "      <td>Madrid</td>\n",
       "      <td>3165235</td>\n",
       "    </tr>\n",
       "    <tr>\n",
       "      <th>Italy</th>\n",
       "      <td>Rome</td>\n",
       "      <td>2874038</td>\n",
       "    </tr>\n",
       "    <tr>\n",
       "      <th>France</th>\n",
       "      <td>Paris</td>\n",
       "      <td>2273305</td>\n",
       "    </tr>\n",
       "    <tr>\n",
       "      <th>Austria</th>\n",
       "      <td>Vienna</td>\n",
       "      <td>1805681</td>\n",
       "    </tr>\n",
       "    <tr>\n",
       "      <th>Romania</th>\n",
       "      <td>Bucharest</td>\n",
       "      <td>1803425</td>\n",
       "    </tr>\n",
       "    <tr>\n",
       "      <th>Germany</th>\n",
       "      <td>Hamburg</td>\n",
       "      <td>1760433</td>\n",
       "    </tr>\n",
       "    <tr>\n",
       "      <th>Hungary</th>\n",
       "      <td>Seoul</td>\n",
       "      <td>2100000</td>\n",
       "    </tr>\n",
       "    <tr>\n",
       "      <th>Poland</th>\n",
       "      <td>Warsaw</td>\n",
       "      <td>1740119</td>\n",
       "    </tr>\n",
       "    <tr>\n",
       "      <th>Spain</th>\n",
       "      <td>Barcelona</td>\n",
       "      <td>1602386</td>\n",
       "    </tr>\n",
       "    <tr>\n",
       "      <th>Germany</th>\n",
       "      <td>Munich</td>\n",
       "      <td>1493900</td>\n",
       "    </tr>\n",
       "    <tr>\n",
       "      <th>Italy</th>\n",
       "      <td>Milan</td>\n",
       "      <td>1350680</td>\n",
       "    </tr>\n",
       "  </tbody>\n",
       "</table>\n",
       "</div>"
      ],
      "text/plain": [
       "              name  population\n",
       "England     London     8615246\n",
       "Germany     Berlin     3562166\n",
       "Spain       Madrid     3165235\n",
       "Italy         Rome     2874038\n",
       "France       Paris     2273305\n",
       "Austria     Vienna     1805681\n",
       "Romania  Bucharest     1803425\n",
       "Germany    Hamburg     1760433\n",
       "Hungary      Seoul     2100000\n",
       "Poland      Warsaw     1740119\n",
       "Spain    Barcelona     1602386\n",
       "Germany     Munich     1493900\n",
       "Italy        Milan     1350680"
      ]
     },
     "execution_count": 139,
     "metadata": {},
     "output_type": "execute_result"
    }
   ],
   "source": [
    "city_frame"
   ]
  },
  {
   "cell_type": "code",
   "execution_count": 145,
   "id": "03c1fc80-ff9a-4965-8af2-c80d1872d036",
   "metadata": {},
   "outputs": [
    {
     "data": {
      "text/plain": [
       "Germany    3562166\n",
       "Germany    1760433\n",
       "Germany    1493900\n",
       "Name: population, dtype: int64"
      ]
     },
     "execution_count": 145,
     "metadata": {},
     "output_type": "execute_result"
    }
   ],
   "source": [
    "city_frame.loc[\"Germany\", \"population\"]"
   ]
  },
  {
   "cell_type": "markdown",
   "id": "72ad5437-147f-4197-98a6-483b81efe4d2",
   "metadata": {
    "jp-MarkdownHeadingCollapsed": true
   },
   "source": [
    "#### ACCESSING ROWS VIA POSITION\n",
    "* pandas.DataFrame.iloc"
   ]
  },
  {
   "cell_type": "code",
   "execution_count": 143,
   "id": "d16dcf64-78a2-4bc5-b30b-c08f65f2ebc1",
   "metadata": {},
   "outputs": [
    {
     "data": {
      "text/html": [
       "<div>\n",
       "<style scoped>\n",
       "    .dataframe tbody tr th:only-of-type {\n",
       "        vertical-align: middle;\n",
       "    }\n",
       "\n",
       "    .dataframe tbody tr th {\n",
       "        vertical-align: top;\n",
       "    }\n",
       "\n",
       "    .dataframe thead th {\n",
       "        text-align: right;\n",
       "    }\n",
       "</style>\n",
       "<table border=\"1\" class=\"dataframe\">\n",
       "  <thead>\n",
       "    <tr style=\"text-align: right;\">\n",
       "      <th></th>\n",
       "      <th>name</th>\n",
       "      <th>population</th>\n",
       "    </tr>\n",
       "  </thead>\n",
       "  <tbody>\n",
       "    <tr>\n",
       "      <th>Spain</th>\n",
       "      <td>Madrid</td>\n",
       "      <td>3165235</td>\n",
       "    </tr>\n",
       "    <tr>\n",
       "      <th>France</th>\n",
       "      <td>Paris</td>\n",
       "      <td>2273305</td>\n",
       "    </tr>\n",
       "  </tbody>\n",
       "</table>\n",
       "</div>"
      ],
      "text/plain": [
       "          name  population\n",
       "Spain   Madrid     3165235\n",
       "France   Paris     2273305"
      ]
     },
     "execution_count": 143,
     "metadata": {},
     "output_type": "execute_result"
    }
   ],
   "source": [
    "city_frame.iloc[2:5:2]"
   ]
  },
  {
   "cell_type": "code",
   "execution_count": 149,
   "id": "62087cf7-eb3c-4507-9076-3a3c5de194f9",
   "metadata": {},
   "outputs": [
    {
     "data": {
      "text/plain": [
       "8615246"
      ]
     },
     "execution_count": 149,
     "metadata": {},
     "output_type": "execute_result"
    }
   ],
   "source": [
    "city_frame.iloc[0, 1]"
   ]
  },
  {
   "cell_type": "code",
   "execution_count": 153,
   "id": "0258cf05-2afb-467c-9df0-c037842d8e86",
   "metadata": {},
   "outputs": [
    {
     "data": {
      "text/html": [
       "<div>\n",
       "<style scoped>\n",
       "    .dataframe tbody tr th:only-of-type {\n",
       "        vertical-align: middle;\n",
       "    }\n",
       "\n",
       "    .dataframe tbody tr th {\n",
       "        vertical-align: top;\n",
       "    }\n",
       "\n",
       "    .dataframe thead th {\n",
       "        text-align: right;\n",
       "    }\n",
       "</style>\n",
       "<table border=\"1\" class=\"dataframe\">\n",
       "  <thead>\n",
       "    <tr style=\"text-align: right;\">\n",
       "      <th></th>\n",
       "      <th>population</th>\n",
       "    </tr>\n",
       "  </thead>\n",
       "  <tbody>\n",
       "    <tr>\n",
       "      <th>Germany</th>\n",
       "      <td>3562166</td>\n",
       "    </tr>\n",
       "    <tr>\n",
       "      <th>Italy</th>\n",
       "      <td>2874038</td>\n",
       "    </tr>\n",
       "    <tr>\n",
       "      <th>Austria</th>\n",
       "      <td>1805681</td>\n",
       "    </tr>\n",
       "    <tr>\n",
       "      <th>Germany</th>\n",
       "      <td>1760433</td>\n",
       "    </tr>\n",
       "    <tr>\n",
       "      <th>Poland</th>\n",
       "      <td>1740119</td>\n",
       "    </tr>\n",
       "  </tbody>\n",
       "</table>\n",
       "</div>"
      ],
      "text/plain": [
       "         population\n",
       "Germany     3562166\n",
       "Italy       2874038\n",
       "Austria     1805681\n",
       "Germany     1760433\n",
       "Poland      1740119"
      ]
     },
     "execution_count": 153,
     "metadata": {},
     "output_type": "execute_result"
    }
   ],
   "source": [
    "city_frame.iloc[1:10:2, [1]]"
   ]
  },
  {
   "cell_type": "code",
   "execution_count": 156,
   "id": "ca179f84-5971-40d3-a0ac-aa264eb1e6fa",
   "metadata": {},
   "outputs": [
    {
     "data": {
      "text/html": [
       "<div>\n",
       "<style scoped>\n",
       "    .dataframe tbody tr th:only-of-type {\n",
       "        vertical-align: middle;\n",
       "    }\n",
       "\n",
       "    .dataframe tbody tr th {\n",
       "        vertical-align: top;\n",
       "    }\n",
       "\n",
       "    .dataframe thead th {\n",
       "        text-align: right;\n",
       "    }\n",
       "</style>\n",
       "<table border=\"1\" class=\"dataframe\">\n",
       "  <thead>\n",
       "    <tr style=\"text-align: right;\">\n",
       "      <th></th>\n",
       "      <th>population</th>\n",
       "    </tr>\n",
       "  </thead>\n",
       "  <tbody>\n",
       "    <tr>\n",
       "      <th>Germany</th>\n",
       "      <td>3562166</td>\n",
       "    </tr>\n",
       "    <tr>\n",
       "      <th>Spain</th>\n",
       "      <td>3165235</td>\n",
       "    </tr>\n",
       "    <tr>\n",
       "      <th>Italy</th>\n",
       "      <td>2874038</td>\n",
       "    </tr>\n",
       "    <tr>\n",
       "      <th>France</th>\n",
       "      <td>2273305</td>\n",
       "    </tr>\n",
       "    <tr>\n",
       "      <th>Austria</th>\n",
       "      <td>1805681</td>\n",
       "    </tr>\n",
       "  </tbody>\n",
       "</table>\n",
       "</div>"
      ],
      "text/plain": [
       "         population\n",
       "Germany     3562166\n",
       "Spain       3165235\n",
       "Italy       2874038\n",
       "France      2273305\n",
       "Austria     1805681"
      ]
     },
     "execution_count": 156,
     "metadata": {},
     "output_type": "execute_result"
    }
   ],
   "source": [
    "city_frame.iloc[1:6, [1]]"
   ]
  },
  {
   "cell_type": "markdown",
   "id": "405bff5d-d8c4-44a6-90f1-97fbec9674bd",
   "metadata": {
    "jp-MarkdownHeadingCollapsed": true
   },
   "source": [
    "#### SUM AND CUMULATIVE SUM"
   ]
  },
  {
   "cell_type": "code",
   "execution_count": 157,
   "id": "f991a107-5fc6-47ed-998c-d267e304dfaf",
   "metadata": {},
   "outputs": [
    {
     "name": "stdout",
     "output_type": "stream",
     "text": [
      "      Zürich  Freiburg  München  Konstanz  Saarbrücken\n",
      "2014  709.32    792.53   962.12    952.01       904.47\n",
      "2015  835.92    770.47   701.28    701.18       969.25\n",
      "2016  867.82    868.72   976.80    973.44       943.45\n",
      "2017  807.37    953.36   844.90    821.84       720.77\n",
      "2018  841.81    748.19   724.17    958.36       763.78\n"
     ]
    }
   ],
   "source": [
    "years = range(2014, 2019)\n",
    "cities = [\"Zürich\", \"Freiburg\", \"München\", \"Konstanz\", \"Saarbrücken\"]\n",
    "shops = pd.DataFrame(index=years) # 빈 데이터 프레임 생성\n",
    "for city in cities:\n",
    "    shops.insert(loc=len(shops.columns),\n",
    "    column=city,\n",
    "    value=(np.random.uniform(0.7, 1, (5,)) * 1000).round(2))\n",
    "print(shops)"
   ]
  },
  {
   "cell_type": "markdown",
   "id": "39e22e94-239f-4f5d-bb91-0c70212ae6e3",
   "metadata": {
    "jp-MarkdownHeadingCollapsed": true
   },
   "source": [
    "#### pandas.DataFrame.sum\r",
    "*\n",
    "DataFrame.sum(axis=None, skipna=True, numeric_only=False, min_count=0, **kwargs)"
   ]
  },
  {
   "cell_type": "code",
   "execution_count": 159,
   "id": "2bb87496-c981-4133-ba26-6f860e03697e",
   "metadata": {},
   "outputs": [
    {
     "data": {
      "text/plain": [
       "Zürich         4062.24\n",
       "Freiburg       4133.27\n",
       "München        4209.27\n",
       "Konstanz       4406.83\n",
       "Saarbrücken    4301.72\n",
       "dtype: float64"
      ]
     },
     "execution_count": 159,
     "metadata": {},
     "output_type": "execute_result"
    }
   ],
   "source": [
    "shops.sum()"
   ]
  },
  {
   "cell_type": "code",
   "execution_count": 160,
   "id": "1b412fac-7c5d-4883-9293-c74ca8c5c3f2",
   "metadata": {},
   "outputs": [
    {
     "data": {
      "text/plain": [
       "2014    4320.45\n",
       "2015    3978.10\n",
       "2016    4630.23\n",
       "2017    4148.24\n",
       "2018    4036.31\n",
       "dtype: float64"
      ]
     },
     "execution_count": 160,
     "metadata": {},
     "output_type": "execute_result"
    }
   ],
   "source": [
    "shops.sum(axis = 1)"
   ]
  },
  {
   "cell_type": "code",
   "execution_count": 167,
   "id": "b4abf427-94b4-466b-a9f5-82a127524a17",
   "metadata": {},
   "outputs": [],
   "source": [
    "s = shops.iloc[:,[0,1,-1]]"
   ]
  },
  {
   "cell_type": "code",
   "execution_count": 168,
   "id": "6d99c57c-0d12-4a89-9931-d910478f93fe",
   "metadata": {},
   "outputs": [
    {
     "data": {
      "text/plain": [
       "Zürich         4062.24\n",
       "Freiburg       4133.27\n",
       "Saarbrücken    4301.72\n",
       "dtype: float64"
      ]
     },
     "execution_count": 168,
     "metadata": {},
     "output_type": "execute_result"
    }
   ],
   "source": [
    "s.sum()"
   ]
  },
  {
   "cell_type": "code",
   "execution_count": 169,
   "id": "8bbf0bee-7261-4540-9feb-74dc0b62c5d6",
   "metadata": {},
   "outputs": [
    {
     "data": {
      "text/html": [
       "<div>\n",
       "<style scoped>\n",
       "    .dataframe tbody tr th:only-of-type {\n",
       "        vertical-align: middle;\n",
       "    }\n",
       "\n",
       "    .dataframe tbody tr th {\n",
       "        vertical-align: top;\n",
       "    }\n",
       "\n",
       "    .dataframe thead th {\n",
       "        text-align: right;\n",
       "    }\n",
       "</style>\n",
       "<table border=\"1\" class=\"dataframe\">\n",
       "  <thead>\n",
       "    <tr style=\"text-align: right;\">\n",
       "      <th></th>\n",
       "      <th>Zürich</th>\n",
       "      <th>Freiburg</th>\n",
       "      <th>München</th>\n",
       "      <th>Konstanz</th>\n",
       "      <th>Saarbrücken</th>\n",
       "    </tr>\n",
       "  </thead>\n",
       "  <tbody>\n",
       "    <tr>\n",
       "      <th>2014</th>\n",
       "      <td>709.32</td>\n",
       "      <td>1501.85</td>\n",
       "      <td>2463.97</td>\n",
       "      <td>3415.98</td>\n",
       "      <td>4320.45</td>\n",
       "    </tr>\n",
       "    <tr>\n",
       "      <th>2015</th>\n",
       "      <td>835.92</td>\n",
       "      <td>1606.39</td>\n",
       "      <td>2307.67</td>\n",
       "      <td>3008.85</td>\n",
       "      <td>3978.10</td>\n",
       "    </tr>\n",
       "    <tr>\n",
       "      <th>2016</th>\n",
       "      <td>867.82</td>\n",
       "      <td>1736.54</td>\n",
       "      <td>2713.34</td>\n",
       "      <td>3686.78</td>\n",
       "      <td>4630.23</td>\n",
       "    </tr>\n",
       "    <tr>\n",
       "      <th>2017</th>\n",
       "      <td>807.37</td>\n",
       "      <td>1760.73</td>\n",
       "      <td>2605.63</td>\n",
       "      <td>3427.47</td>\n",
       "      <td>4148.24</td>\n",
       "    </tr>\n",
       "    <tr>\n",
       "      <th>2018</th>\n",
       "      <td>841.81</td>\n",
       "      <td>1590.00</td>\n",
       "      <td>2314.17</td>\n",
       "      <td>3272.53</td>\n",
       "      <td>4036.31</td>\n",
       "    </tr>\n",
       "  </tbody>\n",
       "</table>\n",
       "</div>"
      ],
      "text/plain": [
       "      Zürich  Freiburg  München  Konstanz  Saarbrücken\n",
       "2014  709.32   1501.85  2463.97   3415.98      4320.45\n",
       "2015  835.92   1606.39  2307.67   3008.85      3978.10\n",
       "2016  867.82   1736.54  2713.34   3686.78      4630.23\n",
       "2017  807.37   1760.73  2605.63   3427.47      4148.24\n",
       "2018  841.81   1590.00  2314.17   3272.53      4036.31"
      ]
     },
     "execution_count": 169,
     "metadata": {},
     "output_type": "execute_result"
    }
   ],
   "source": [
    "shops.cumsum(axis = 1)"
   ]
  },
  {
   "cell_type": "code",
   "execution_count": 176,
   "id": "dc3044f4-82da-4287-82a2-c62c29e88d57",
   "metadata": {},
   "outputs": [
    {
     "data": {
      "text/plain": [
       "2014     709.32\n",
       "2015    1545.24\n",
       "2016    2413.06\n",
       "2017    3220.43\n",
       "2018    4062.24\n",
       "Name: Zürich, dtype: float64"
      ]
     },
     "execution_count": 176,
     "metadata": {},
     "output_type": "execute_result"
    }
   ],
   "source": [
    "df = shops.reindex(columns= [\"Zürich\", \"Freiburg\", \"München\", \"Konstanz\", \"Saarbrücken\", \"sum_Zurich\"])\n",
    "df[\"Zürich\"].cumsum()"
   ]
  },
  {
   "cell_type": "code",
   "execution_count": 177,
   "id": "d1d574c5-202a-48cb-83d5-c783c8670476",
   "metadata": {},
   "outputs": [],
   "source": [
    "df[\"cumsum_Zurich\"] = shops[\"Zürich\"].cumsum()"
   ]
  },
  {
   "cell_type": "code",
   "execution_count": 178,
   "id": "000365b8-4074-4c47-ae33-68f0b44905fa",
   "metadata": {},
   "outputs": [
    {
     "data": {
      "text/html": [
       "<div>\n",
       "<style scoped>\n",
       "    .dataframe tbody tr th:only-of-type {\n",
       "        vertical-align: middle;\n",
       "    }\n",
       "\n",
       "    .dataframe tbody tr th {\n",
       "        vertical-align: top;\n",
       "    }\n",
       "\n",
       "    .dataframe thead th {\n",
       "        text-align: right;\n",
       "    }\n",
       "</style>\n",
       "<table border=\"1\" class=\"dataframe\">\n",
       "  <thead>\n",
       "    <tr style=\"text-align: right;\">\n",
       "      <th></th>\n",
       "      <th>Zürich</th>\n",
       "      <th>Freiburg</th>\n",
       "      <th>München</th>\n",
       "      <th>Konstanz</th>\n",
       "      <th>Saarbrücken</th>\n",
       "      <th>sum_Zurich</th>\n",
       "      <th>cumsum_Zurich</th>\n",
       "    </tr>\n",
       "  </thead>\n",
       "  <tbody>\n",
       "    <tr>\n",
       "      <th>2014</th>\n",
       "      <td>709.32</td>\n",
       "      <td>792.53</td>\n",
       "      <td>962.12</td>\n",
       "      <td>952.01</td>\n",
       "      <td>904.47</td>\n",
       "      <td>NaN</td>\n",
       "      <td>709.32</td>\n",
       "    </tr>\n",
       "    <tr>\n",
       "      <th>2015</th>\n",
       "      <td>835.92</td>\n",
       "      <td>770.47</td>\n",
       "      <td>701.28</td>\n",
       "      <td>701.18</td>\n",
       "      <td>969.25</td>\n",
       "      <td>NaN</td>\n",
       "      <td>1545.24</td>\n",
       "    </tr>\n",
       "    <tr>\n",
       "      <th>2016</th>\n",
       "      <td>867.82</td>\n",
       "      <td>868.72</td>\n",
       "      <td>976.80</td>\n",
       "      <td>973.44</td>\n",
       "      <td>943.45</td>\n",
       "      <td>NaN</td>\n",
       "      <td>2413.06</td>\n",
       "    </tr>\n",
       "    <tr>\n",
       "      <th>2017</th>\n",
       "      <td>807.37</td>\n",
       "      <td>953.36</td>\n",
       "      <td>844.90</td>\n",
       "      <td>821.84</td>\n",
       "      <td>720.77</td>\n",
       "      <td>NaN</td>\n",
       "      <td>3220.43</td>\n",
       "    </tr>\n",
       "    <tr>\n",
       "      <th>2018</th>\n",
       "      <td>841.81</td>\n",
       "      <td>748.19</td>\n",
       "      <td>724.17</td>\n",
       "      <td>958.36</td>\n",
       "      <td>763.78</td>\n",
       "      <td>NaN</td>\n",
       "      <td>4062.24</td>\n",
       "    </tr>\n",
       "  </tbody>\n",
       "</table>\n",
       "</div>"
      ],
      "text/plain": [
       "      Zürich  Freiburg  München  Konstanz  Saarbrücken  sum_Zurich  \\\n",
       "2014  709.32    792.53   962.12    952.01       904.47         NaN   \n",
       "2015  835.92    770.47   701.28    701.18       969.25         NaN   \n",
       "2016  867.82    868.72   976.80    973.44       943.45         NaN   \n",
       "2017  807.37    953.36   844.90    821.84       720.77         NaN   \n",
       "2018  841.81    748.19   724.17    958.36       763.78         NaN   \n",
       "\n",
       "      cumsum_Zurich  \n",
       "2014         709.32  \n",
       "2015        1545.24  \n",
       "2016        2413.06  \n",
       "2017        3220.43  \n",
       "2018        4062.24  "
      ]
     },
     "execution_count": 178,
     "metadata": {},
     "output_type": "execute_result"
    }
   ],
   "source": [
    "df"
   ]
  },
  {
   "cell_type": "code",
   "execution_count": 181,
   "id": "7e474f51-0c14-456c-93f8-7e3da0a63ad5",
   "metadata": {},
   "outputs": [
    {
     "data": {
      "text/html": [
       "<div>\n",
       "<style scoped>\n",
       "    .dataframe tbody tr th:only-of-type {\n",
       "        vertical-align: middle;\n",
       "    }\n",
       "\n",
       "    .dataframe tbody tr th {\n",
       "        vertical-align: top;\n",
       "    }\n",
       "\n",
       "    .dataframe thead th {\n",
       "        text-align: right;\n",
       "    }\n",
       "</style>\n",
       "<table border=\"1\" class=\"dataframe\">\n",
       "  <thead>\n",
       "    <tr style=\"text-align: right;\">\n",
       "      <th></th>\n",
       "      <th>Zürich</th>\n",
       "      <th>Freiburg</th>\n",
       "      <th>München</th>\n",
       "      <th>Konstanz</th>\n",
       "      <th>Saarbrücken</th>\n",
       "    </tr>\n",
       "  </thead>\n",
       "  <tbody>\n",
       "    <tr>\n",
       "      <th>2014</th>\n",
       "      <td>709.32</td>\n",
       "      <td>792.53</td>\n",
       "      <td>962.12</td>\n",
       "      <td>952.01</td>\n",
       "      <td>904.47</td>\n",
       "    </tr>\n",
       "    <tr>\n",
       "      <th>2015</th>\n",
       "      <td>1545.24</td>\n",
       "      <td>1563.00</td>\n",
       "      <td>1663.40</td>\n",
       "      <td>1653.19</td>\n",
       "      <td>1873.72</td>\n",
       "    </tr>\n",
       "    <tr>\n",
       "      <th>2016</th>\n",
       "      <td>2413.06</td>\n",
       "      <td>2431.72</td>\n",
       "      <td>2640.20</td>\n",
       "      <td>2626.63</td>\n",
       "      <td>2817.17</td>\n",
       "    </tr>\n",
       "    <tr>\n",
       "      <th>2017</th>\n",
       "      <td>3220.43</td>\n",
       "      <td>3385.08</td>\n",
       "      <td>3485.10</td>\n",
       "      <td>3448.47</td>\n",
       "      <td>3537.94</td>\n",
       "    </tr>\n",
       "    <tr>\n",
       "      <th>2018</th>\n",
       "      <td>4062.24</td>\n",
       "      <td>4133.27</td>\n",
       "      <td>4209.27</td>\n",
       "      <td>4406.83</td>\n",
       "      <td>4301.72</td>\n",
       "    </tr>\n",
       "  </tbody>\n",
       "</table>\n",
       "</div>"
      ],
      "text/plain": [
       "       Zürich  Freiburg  München  Konstanz  Saarbrücken\n",
       "2014   709.32    792.53   962.12    952.01       904.47\n",
       "2015  1545.24   1563.00  1663.40   1653.19      1873.72\n",
       "2016  2413.06   2431.72  2640.20   2626.63      2817.17\n",
       "2017  3220.43   3385.08  3485.10   3448.47      3537.94\n",
       "2018  4062.24   4133.27  4209.27   4406.83      4301.72"
      ]
     },
     "execution_count": 181,
     "metadata": {},
     "output_type": "execute_result"
    }
   ],
   "source": [
    "shops.iloc[:,:].cumsum()"
   ]
  },
  {
   "cell_type": "code",
   "execution_count": 183,
   "id": "2697fdfe-0037-44b7-98d6-c3e5c8f360b9",
   "metadata": {},
   "outputs": [],
   "source": [
    "shops[[\"cumsum_Zurich\", \"cumsum_Freiburg\", \"cumsum_Munchen\", \"cumsum_Konstanz\", \"cumsum_Saarbrucken\"]] = shops.iloc[:,:].cumsum()"
   ]
  },
  {
   "cell_type": "code",
   "execution_count": 184,
   "id": "b6bc27ae-88ff-46e3-bfbb-779c81d753ff",
   "metadata": {},
   "outputs": [
    {
     "data": {
      "text/html": [
       "<div>\n",
       "<style scoped>\n",
       "    .dataframe tbody tr th:only-of-type {\n",
       "        vertical-align: middle;\n",
       "    }\n",
       "\n",
       "    .dataframe tbody tr th {\n",
       "        vertical-align: top;\n",
       "    }\n",
       "\n",
       "    .dataframe thead th {\n",
       "        text-align: right;\n",
       "    }\n",
       "</style>\n",
       "<table border=\"1\" class=\"dataframe\">\n",
       "  <thead>\n",
       "    <tr style=\"text-align: right;\">\n",
       "      <th></th>\n",
       "      <th>Zürich</th>\n",
       "      <th>Freiburg</th>\n",
       "      <th>München</th>\n",
       "      <th>Konstanz</th>\n",
       "      <th>Saarbrücken</th>\n",
       "      <th>cumsum_Zurich</th>\n",
       "      <th>cumsum_Freiburg</th>\n",
       "      <th>cumsum_Munchen</th>\n",
       "      <th>cumsum_Konstanz</th>\n",
       "      <th>cumsum_Saarbrucken</th>\n",
       "    </tr>\n",
       "  </thead>\n",
       "  <tbody>\n",
       "    <tr>\n",
       "      <th>2014</th>\n",
       "      <td>709.32</td>\n",
       "      <td>792.53</td>\n",
       "      <td>962.12</td>\n",
       "      <td>952.01</td>\n",
       "      <td>904.47</td>\n",
       "      <td>709.32</td>\n",
       "      <td>792.53</td>\n",
       "      <td>962.12</td>\n",
       "      <td>952.01</td>\n",
       "      <td>904.47</td>\n",
       "    </tr>\n",
       "    <tr>\n",
       "      <th>2015</th>\n",
       "      <td>835.92</td>\n",
       "      <td>770.47</td>\n",
       "      <td>701.28</td>\n",
       "      <td>701.18</td>\n",
       "      <td>969.25</td>\n",
       "      <td>1545.24</td>\n",
       "      <td>1563.00</td>\n",
       "      <td>1663.40</td>\n",
       "      <td>1653.19</td>\n",
       "      <td>1873.72</td>\n",
       "    </tr>\n",
       "    <tr>\n",
       "      <th>2016</th>\n",
       "      <td>867.82</td>\n",
       "      <td>868.72</td>\n",
       "      <td>976.80</td>\n",
       "      <td>973.44</td>\n",
       "      <td>943.45</td>\n",
       "      <td>2413.06</td>\n",
       "      <td>2431.72</td>\n",
       "      <td>2640.20</td>\n",
       "      <td>2626.63</td>\n",
       "      <td>2817.17</td>\n",
       "    </tr>\n",
       "    <tr>\n",
       "      <th>2017</th>\n",
       "      <td>807.37</td>\n",
       "      <td>953.36</td>\n",
       "      <td>844.90</td>\n",
       "      <td>821.84</td>\n",
       "      <td>720.77</td>\n",
       "      <td>3220.43</td>\n",
       "      <td>3385.08</td>\n",
       "      <td>3485.10</td>\n",
       "      <td>3448.47</td>\n",
       "      <td>3537.94</td>\n",
       "    </tr>\n",
       "    <tr>\n",
       "      <th>2018</th>\n",
       "      <td>841.81</td>\n",
       "      <td>748.19</td>\n",
       "      <td>724.17</td>\n",
       "      <td>958.36</td>\n",
       "      <td>763.78</td>\n",
       "      <td>4062.24</td>\n",
       "      <td>4133.27</td>\n",
       "      <td>4209.27</td>\n",
       "      <td>4406.83</td>\n",
       "      <td>4301.72</td>\n",
       "    </tr>\n",
       "  </tbody>\n",
       "</table>\n",
       "</div>"
      ],
      "text/plain": [
       "      Zürich  Freiburg  München  Konstanz  Saarbrücken  cumsum_Zurich  \\\n",
       "2014  709.32    792.53   962.12    952.01       904.47         709.32   \n",
       "2015  835.92    770.47   701.28    701.18       969.25        1545.24   \n",
       "2016  867.82    868.72   976.80    973.44       943.45        2413.06   \n",
       "2017  807.37    953.36   844.90    821.84       720.77        3220.43   \n",
       "2018  841.81    748.19   724.17    958.36       763.78        4062.24   \n",
       "\n",
       "      cumsum_Freiburg  cumsum_Munchen  cumsum_Konstanz  cumsum_Saarbrucken  \n",
       "2014           792.53          962.12           952.01              904.47  \n",
       "2015          1563.00         1663.40          1653.19             1873.72  \n",
       "2016          2431.72         2640.20          2626.63             2817.17  \n",
       "2017          3385.08         3485.10          3448.47             3537.94  \n",
       "2018          4133.27         4209.27          4406.83             4301.72  "
      ]
     },
     "execution_count": 184,
     "metadata": {},
     "output_type": "execute_result"
    }
   ],
   "source": [
    "shops"
   ]
  },
  {
   "cell_type": "code",
   "execution_count": 187,
   "id": "71505dd4-dc3e-4a03-ae81-82b1c08a0608",
   "metadata": {},
   "outputs": [],
   "source": [
    "shops[[\"total_2014\", \"total_2015\", \"total_2016\", \"total_2017\", \"total_2018\"]] = shops.iloc[:,0:5].cumsum(axis = 1)"
   ]
  },
  {
   "cell_type": "code",
   "execution_count": 188,
   "id": "6a808b00-8b94-4613-9170-53d211ca5d91",
   "metadata": {},
   "outputs": [
    {
     "data": {
      "text/html": [
       "<div>\n",
       "<style scoped>\n",
       "    .dataframe tbody tr th:only-of-type {\n",
       "        vertical-align: middle;\n",
       "    }\n",
       "\n",
       "    .dataframe tbody tr th {\n",
       "        vertical-align: top;\n",
       "    }\n",
       "\n",
       "    .dataframe thead th {\n",
       "        text-align: right;\n",
       "    }\n",
       "</style>\n",
       "<table border=\"1\" class=\"dataframe\">\n",
       "  <thead>\n",
       "    <tr style=\"text-align: right;\">\n",
       "      <th></th>\n",
       "      <th>Zürich</th>\n",
       "      <th>Freiburg</th>\n",
       "      <th>München</th>\n",
       "      <th>Konstanz</th>\n",
       "      <th>Saarbrücken</th>\n",
       "      <th>cumsum_Zurich</th>\n",
       "      <th>cumsum_Freiburg</th>\n",
       "      <th>cumsum_Munchen</th>\n",
       "      <th>cumsum_Konstanz</th>\n",
       "      <th>cumsum_Saarbrucken</th>\n",
       "      <th>total_2014</th>\n",
       "      <th>total_2015</th>\n",
       "      <th>total_2016</th>\n",
       "      <th>total_2017</th>\n",
       "      <th>total_2018</th>\n",
       "    </tr>\n",
       "  </thead>\n",
       "  <tbody>\n",
       "    <tr>\n",
       "      <th>2014</th>\n",
       "      <td>709.32</td>\n",
       "      <td>792.53</td>\n",
       "      <td>962.12</td>\n",
       "      <td>952.01</td>\n",
       "      <td>904.47</td>\n",
       "      <td>709.32</td>\n",
       "      <td>792.53</td>\n",
       "      <td>962.12</td>\n",
       "      <td>952.01</td>\n",
       "      <td>904.47</td>\n",
       "      <td>709.32</td>\n",
       "      <td>1501.85</td>\n",
       "      <td>2463.97</td>\n",
       "      <td>3415.98</td>\n",
       "      <td>4320.45</td>\n",
       "    </tr>\n",
       "    <tr>\n",
       "      <th>2015</th>\n",
       "      <td>835.92</td>\n",
       "      <td>770.47</td>\n",
       "      <td>701.28</td>\n",
       "      <td>701.18</td>\n",
       "      <td>969.25</td>\n",
       "      <td>1545.24</td>\n",
       "      <td>1563.00</td>\n",
       "      <td>1663.40</td>\n",
       "      <td>1653.19</td>\n",
       "      <td>1873.72</td>\n",
       "      <td>835.92</td>\n",
       "      <td>1606.39</td>\n",
       "      <td>2307.67</td>\n",
       "      <td>3008.85</td>\n",
       "      <td>3978.10</td>\n",
       "    </tr>\n",
       "    <tr>\n",
       "      <th>2016</th>\n",
       "      <td>867.82</td>\n",
       "      <td>868.72</td>\n",
       "      <td>976.80</td>\n",
       "      <td>973.44</td>\n",
       "      <td>943.45</td>\n",
       "      <td>2413.06</td>\n",
       "      <td>2431.72</td>\n",
       "      <td>2640.20</td>\n",
       "      <td>2626.63</td>\n",
       "      <td>2817.17</td>\n",
       "      <td>867.82</td>\n",
       "      <td>1736.54</td>\n",
       "      <td>2713.34</td>\n",
       "      <td>3686.78</td>\n",
       "      <td>4630.23</td>\n",
       "    </tr>\n",
       "    <tr>\n",
       "      <th>2017</th>\n",
       "      <td>807.37</td>\n",
       "      <td>953.36</td>\n",
       "      <td>844.90</td>\n",
       "      <td>821.84</td>\n",
       "      <td>720.77</td>\n",
       "      <td>3220.43</td>\n",
       "      <td>3385.08</td>\n",
       "      <td>3485.10</td>\n",
       "      <td>3448.47</td>\n",
       "      <td>3537.94</td>\n",
       "      <td>807.37</td>\n",
       "      <td>1760.73</td>\n",
       "      <td>2605.63</td>\n",
       "      <td>3427.47</td>\n",
       "      <td>4148.24</td>\n",
       "    </tr>\n",
       "    <tr>\n",
       "      <th>2018</th>\n",
       "      <td>841.81</td>\n",
       "      <td>748.19</td>\n",
       "      <td>724.17</td>\n",
       "      <td>958.36</td>\n",
       "      <td>763.78</td>\n",
       "      <td>4062.24</td>\n",
       "      <td>4133.27</td>\n",
       "      <td>4209.27</td>\n",
       "      <td>4406.83</td>\n",
       "      <td>4301.72</td>\n",
       "      <td>841.81</td>\n",
       "      <td>1590.00</td>\n",
       "      <td>2314.17</td>\n",
       "      <td>3272.53</td>\n",
       "      <td>4036.31</td>\n",
       "    </tr>\n",
       "  </tbody>\n",
       "</table>\n",
       "</div>"
      ],
      "text/plain": [
       "      Zürich  Freiburg  München  Konstanz  Saarbrücken  cumsum_Zurich  \\\n",
       "2014  709.32    792.53   962.12    952.01       904.47         709.32   \n",
       "2015  835.92    770.47   701.28    701.18       969.25        1545.24   \n",
       "2016  867.82    868.72   976.80    973.44       943.45        2413.06   \n",
       "2017  807.37    953.36   844.90    821.84       720.77        3220.43   \n",
       "2018  841.81    748.19   724.17    958.36       763.78        4062.24   \n",
       "\n",
       "      cumsum_Freiburg  cumsum_Munchen  cumsum_Konstanz  cumsum_Saarbrucken  \\\n",
       "2014           792.53          962.12           952.01              904.47   \n",
       "2015          1563.00         1663.40          1653.19             1873.72   \n",
       "2016          2431.72         2640.20          2626.63             2817.17   \n",
       "2017          3385.08         3485.10          3448.47             3537.94   \n",
       "2018          4133.27         4209.27          4406.83             4301.72   \n",
       "\n",
       "      total_2014  total_2015  total_2016  total_2017  total_2018  \n",
       "2014      709.32     1501.85     2463.97     3415.98     4320.45  \n",
       "2015      835.92     1606.39     2307.67     3008.85     3978.10  \n",
       "2016      867.82     1736.54     2713.34     3686.78     4630.23  \n",
       "2017      807.37     1760.73     2605.63     3427.47     4148.24  \n",
       "2018      841.81     1590.00     2314.17     3272.53     4036.31  "
      ]
     },
     "execution_count": 188,
     "metadata": {},
     "output_type": "execute_result"
    }
   ],
   "source": [
    "shops"
   ]
  },
  {
   "cell_type": "code",
   "execution_count": 195,
   "id": "1aa83c17-2d76-431e-b28e-f61a5a38d6ca",
   "metadata": {},
   "outputs": [],
   "source": [
    "shops[\"Sum of Year\"] = shops.iloc[:, 0:5].sum(axis= 1)"
   ]
  },
  {
   "cell_type": "code",
   "execution_count": 196,
   "id": "5a5b29f5-985a-40f8-a4f9-84148c0e99d3",
   "metadata": {},
   "outputs": [],
   "source": [
    "shops[\"Mean of Year\"] = shops.iloc[:, 0:5].mean(axis= 1)"
   ]
  },
  {
   "cell_type": "code",
   "execution_count": 197,
   "id": "72b669ff-b363-4270-9167-bb2a8c3eed62",
   "metadata": {},
   "outputs": [
    {
     "data": {
      "text/html": [
       "<div>\n",
       "<style scoped>\n",
       "    .dataframe tbody tr th:only-of-type {\n",
       "        vertical-align: middle;\n",
       "    }\n",
       "\n",
       "    .dataframe tbody tr th {\n",
       "        vertical-align: top;\n",
       "    }\n",
       "\n",
       "    .dataframe thead th {\n",
       "        text-align: right;\n",
       "    }\n",
       "</style>\n",
       "<table border=\"1\" class=\"dataframe\">\n",
       "  <thead>\n",
       "    <tr style=\"text-align: right;\">\n",
       "      <th></th>\n",
       "      <th>Zürich</th>\n",
       "      <th>Freiburg</th>\n",
       "      <th>München</th>\n",
       "      <th>Konstanz</th>\n",
       "      <th>Saarbrücken</th>\n",
       "      <th>cumsum_Zurich</th>\n",
       "      <th>cumsum_Freiburg</th>\n",
       "      <th>cumsum_Munchen</th>\n",
       "      <th>cumsum_Konstanz</th>\n",
       "      <th>cumsum_Saarbrucken</th>\n",
       "      <th>total_2014</th>\n",
       "      <th>total_2015</th>\n",
       "      <th>total_2016</th>\n",
       "      <th>total_2017</th>\n",
       "      <th>total_2018</th>\n",
       "      <th>Mean of Year</th>\n",
       "      <th>Sum of Year</th>\n",
       "    </tr>\n",
       "  </thead>\n",
       "  <tbody>\n",
       "    <tr>\n",
       "      <th>2014</th>\n",
       "      <td>709.32</td>\n",
       "      <td>792.53</td>\n",
       "      <td>962.12</td>\n",
       "      <td>952.01</td>\n",
       "      <td>904.47</td>\n",
       "      <td>709.32</td>\n",
       "      <td>792.53</td>\n",
       "      <td>962.12</td>\n",
       "      <td>952.01</td>\n",
       "      <td>904.47</td>\n",
       "      <td>709.32</td>\n",
       "      <td>1501.85</td>\n",
       "      <td>2463.97</td>\n",
       "      <td>3415.98</td>\n",
       "      <td>4320.45</td>\n",
       "      <td>864.090</td>\n",
       "      <td>4320.45</td>\n",
       "    </tr>\n",
       "    <tr>\n",
       "      <th>2015</th>\n",
       "      <td>835.92</td>\n",
       "      <td>770.47</td>\n",
       "      <td>701.28</td>\n",
       "      <td>701.18</td>\n",
       "      <td>969.25</td>\n",
       "      <td>1545.24</td>\n",
       "      <td>1563.00</td>\n",
       "      <td>1663.40</td>\n",
       "      <td>1653.19</td>\n",
       "      <td>1873.72</td>\n",
       "      <td>835.92</td>\n",
       "      <td>1606.39</td>\n",
       "      <td>2307.67</td>\n",
       "      <td>3008.85</td>\n",
       "      <td>3978.10</td>\n",
       "      <td>795.620</td>\n",
       "      <td>3978.10</td>\n",
       "    </tr>\n",
       "    <tr>\n",
       "      <th>2016</th>\n",
       "      <td>867.82</td>\n",
       "      <td>868.72</td>\n",
       "      <td>976.80</td>\n",
       "      <td>973.44</td>\n",
       "      <td>943.45</td>\n",
       "      <td>2413.06</td>\n",
       "      <td>2431.72</td>\n",
       "      <td>2640.20</td>\n",
       "      <td>2626.63</td>\n",
       "      <td>2817.17</td>\n",
       "      <td>867.82</td>\n",
       "      <td>1736.54</td>\n",
       "      <td>2713.34</td>\n",
       "      <td>3686.78</td>\n",
       "      <td>4630.23</td>\n",
       "      <td>926.046</td>\n",
       "      <td>4630.23</td>\n",
       "    </tr>\n",
       "    <tr>\n",
       "      <th>2017</th>\n",
       "      <td>807.37</td>\n",
       "      <td>953.36</td>\n",
       "      <td>844.90</td>\n",
       "      <td>821.84</td>\n",
       "      <td>720.77</td>\n",
       "      <td>3220.43</td>\n",
       "      <td>3385.08</td>\n",
       "      <td>3485.10</td>\n",
       "      <td>3448.47</td>\n",
       "      <td>3537.94</td>\n",
       "      <td>807.37</td>\n",
       "      <td>1760.73</td>\n",
       "      <td>2605.63</td>\n",
       "      <td>3427.47</td>\n",
       "      <td>4148.24</td>\n",
       "      <td>829.648</td>\n",
       "      <td>4148.24</td>\n",
       "    </tr>\n",
       "    <tr>\n",
       "      <th>2018</th>\n",
       "      <td>841.81</td>\n",
       "      <td>748.19</td>\n",
       "      <td>724.17</td>\n",
       "      <td>958.36</td>\n",
       "      <td>763.78</td>\n",
       "      <td>4062.24</td>\n",
       "      <td>4133.27</td>\n",
       "      <td>4209.27</td>\n",
       "      <td>4406.83</td>\n",
       "      <td>4301.72</td>\n",
       "      <td>841.81</td>\n",
       "      <td>1590.00</td>\n",
       "      <td>2314.17</td>\n",
       "      <td>3272.53</td>\n",
       "      <td>4036.31</td>\n",
       "      <td>807.262</td>\n",
       "      <td>4036.31</td>\n",
       "    </tr>\n",
       "  </tbody>\n",
       "</table>\n",
       "</div>"
      ],
      "text/plain": [
       "      Zürich  Freiburg  München  Konstanz  Saarbrücken  cumsum_Zurich  \\\n",
       "2014  709.32    792.53   962.12    952.01       904.47         709.32   \n",
       "2015  835.92    770.47   701.28    701.18       969.25        1545.24   \n",
       "2016  867.82    868.72   976.80    973.44       943.45        2413.06   \n",
       "2017  807.37    953.36   844.90    821.84       720.77        3220.43   \n",
       "2018  841.81    748.19   724.17    958.36       763.78        4062.24   \n",
       "\n",
       "      cumsum_Freiburg  cumsum_Munchen  cumsum_Konstanz  cumsum_Saarbrucken  \\\n",
       "2014           792.53          962.12           952.01              904.47   \n",
       "2015          1563.00         1663.40          1653.19             1873.72   \n",
       "2016          2431.72         2640.20          2626.63             2817.17   \n",
       "2017          3385.08         3485.10          3448.47             3537.94   \n",
       "2018          4133.27         4209.27          4406.83             4301.72   \n",
       "\n",
       "      total_2014  total_2015  total_2016  total_2017  total_2018  \\\n",
       "2014      709.32     1501.85     2463.97     3415.98     4320.45   \n",
       "2015      835.92     1606.39     2307.67     3008.85     3978.10   \n",
       "2016      867.82     1736.54     2713.34     3686.78     4630.23   \n",
       "2017      807.37     1760.73     2605.63     3427.47     4148.24   \n",
       "2018      841.81     1590.00     2314.17     3272.53     4036.31   \n",
       "\n",
       "      Mean of Year  Sum of Year  \n",
       "2014       864.090      4320.45  \n",
       "2015       795.620      3978.10  \n",
       "2016       926.046      4630.23  \n",
       "2017       829.648      4148.24  \n",
       "2018       807.262      4036.31  "
      ]
     },
     "execution_count": 197,
     "metadata": {},
     "output_type": "execute_result"
    }
   ],
   "source": [
    "shops"
   ]
  },
  {
   "cell_type": "code",
   "execution_count": 212,
   "id": "5abc240d-424e-4e43-bbf4-098eab0b589c",
   "metadata": {},
   "outputs": [],
   "source": [
    "city_frame[\"Cum Of Population\"] = city_frame[\"population\"].cumsum()"
   ]
  },
  {
   "cell_type": "code",
   "execution_count": 213,
   "id": "3a45ce18-a426-4c43-ba6d-1d853143e734",
   "metadata": {},
   "outputs": [
    {
     "data": {
      "text/html": [
       "<div>\n",
       "<style scoped>\n",
       "    .dataframe tbody tr th:only-of-type {\n",
       "        vertical-align: middle;\n",
       "    }\n",
       "\n",
       "    .dataframe tbody tr th {\n",
       "        vertical-align: top;\n",
       "    }\n",
       "\n",
       "    .dataframe thead th {\n",
       "        text-align: right;\n",
       "    }\n",
       "</style>\n",
       "<table border=\"1\" class=\"dataframe\">\n",
       "  <thead>\n",
       "    <tr style=\"text-align: right;\">\n",
       "      <th></th>\n",
       "      <th>name</th>\n",
       "      <th>population</th>\n",
       "      <th>Cum Of Population</th>\n",
       "    </tr>\n",
       "  </thead>\n",
       "  <tbody>\n",
       "    <tr>\n",
       "      <th>England</th>\n",
       "      <td>London</td>\n",
       "      <td>8615246</td>\n",
       "      <td>8615246</td>\n",
       "    </tr>\n",
       "    <tr>\n",
       "      <th>Germany</th>\n",
       "      <td>Berlin</td>\n",
       "      <td>3562166</td>\n",
       "      <td>12177412</td>\n",
       "    </tr>\n",
       "    <tr>\n",
       "      <th>Spain</th>\n",
       "      <td>Madrid</td>\n",
       "      <td>3165235</td>\n",
       "      <td>15342647</td>\n",
       "    </tr>\n",
       "    <tr>\n",
       "      <th>Italy</th>\n",
       "      <td>Rome</td>\n",
       "      <td>2874038</td>\n",
       "      <td>18216685</td>\n",
       "    </tr>\n",
       "    <tr>\n",
       "      <th>France</th>\n",
       "      <td>Paris</td>\n",
       "      <td>2273305</td>\n",
       "      <td>20489990</td>\n",
       "    </tr>\n",
       "    <tr>\n",
       "      <th>Austria</th>\n",
       "      <td>Vienna</td>\n",
       "      <td>1805681</td>\n",
       "      <td>22295671</td>\n",
       "    </tr>\n",
       "    <tr>\n",
       "      <th>Romania</th>\n",
       "      <td>Bucharest</td>\n",
       "      <td>1803425</td>\n",
       "      <td>24099096</td>\n",
       "    </tr>\n",
       "    <tr>\n",
       "      <th>Germany</th>\n",
       "      <td>Hamburg</td>\n",
       "      <td>1760433</td>\n",
       "      <td>25859529</td>\n",
       "    </tr>\n",
       "    <tr>\n",
       "      <th>Hungary</th>\n",
       "      <td>Seoul</td>\n",
       "      <td>2100000</td>\n",
       "      <td>27959529</td>\n",
       "    </tr>\n",
       "    <tr>\n",
       "      <th>Poland</th>\n",
       "      <td>Warsaw</td>\n",
       "      <td>1740119</td>\n",
       "      <td>29699648</td>\n",
       "    </tr>\n",
       "    <tr>\n",
       "      <th>Spain</th>\n",
       "      <td>Barcelona</td>\n",
       "      <td>1602386</td>\n",
       "      <td>31302034</td>\n",
       "    </tr>\n",
       "    <tr>\n",
       "      <th>Germany</th>\n",
       "      <td>Munich</td>\n",
       "      <td>1493900</td>\n",
       "      <td>32795934</td>\n",
       "    </tr>\n",
       "    <tr>\n",
       "      <th>Italy</th>\n",
       "      <td>Milan</td>\n",
       "      <td>1350680</td>\n",
       "      <td>34146614</td>\n",
       "    </tr>\n",
       "  </tbody>\n",
       "</table>\n",
       "</div>"
      ],
      "text/plain": [
       "              name  population  Cum Of Population\n",
       "England     London     8615246            8615246\n",
       "Germany     Berlin     3562166           12177412\n",
       "Spain       Madrid     3165235           15342647\n",
       "Italy         Rome     2874038           18216685\n",
       "France       Paris     2273305           20489990\n",
       "Austria     Vienna     1805681           22295671\n",
       "Romania  Bucharest     1803425           24099096\n",
       "Germany    Hamburg     1760433           25859529\n",
       "Hungary      Seoul     2100000           27959529\n",
       "Poland      Warsaw     1740119           29699648\n",
       "Spain    Barcelona     1602386           31302034\n",
       "Germany     Munich     1493900           32795934\n",
       "Italy        Milan     1350680           34146614"
      ]
     },
     "execution_count": 213,
     "metadata": {},
     "output_type": "execute_result"
    }
   ],
   "source": [
    "city_frame"
   ]
  },
  {
   "cell_type": "code",
   "execution_count": 214,
   "id": "58fcb4ca-7bba-4af9-a67e-cca0237cbde0",
   "metadata": {},
   "outputs": [
    {
     "data": {
      "text/html": [
       "<div>\n",
       "<style scoped>\n",
       "    .dataframe tbody tr th:only-of-type {\n",
       "        vertical-align: middle;\n",
       "    }\n",
       "\n",
       "    .dataframe tbody tr th {\n",
       "        vertical-align: top;\n",
       "    }\n",
       "\n",
       "    .dataframe thead th {\n",
       "        text-align: right;\n",
       "    }\n",
       "</style>\n",
       "<table border=\"1\" class=\"dataframe\">\n",
       "  <thead>\n",
       "    <tr style=\"text-align: right;\">\n",
       "      <th></th>\n",
       "      <th>name</th>\n",
       "      <th>population</th>\n",
       "      <th>Cum Of Population</th>\n",
       "      <th>area</th>\n",
       "    </tr>\n",
       "  </thead>\n",
       "  <tbody>\n",
       "    <tr>\n",
       "      <th>England</th>\n",
       "      <td>London</td>\n",
       "      <td>8615246</td>\n",
       "      <td>8615246</td>\n",
       "      <td>1572.00</td>\n",
       "    </tr>\n",
       "    <tr>\n",
       "      <th>Germany</th>\n",
       "      <td>Berlin</td>\n",
       "      <td>3562166</td>\n",
       "      <td>12177412</td>\n",
       "      <td>891.85</td>\n",
       "    </tr>\n",
       "    <tr>\n",
       "      <th>Spain</th>\n",
       "      <td>Madrid</td>\n",
       "      <td>3165235</td>\n",
       "      <td>15342647</td>\n",
       "      <td>605.77</td>\n",
       "    </tr>\n",
       "    <tr>\n",
       "      <th>Italy</th>\n",
       "      <td>Rome</td>\n",
       "      <td>2874038</td>\n",
       "      <td>18216685</td>\n",
       "      <td>1285.00</td>\n",
       "    </tr>\n",
       "    <tr>\n",
       "      <th>France</th>\n",
       "      <td>Paris</td>\n",
       "      <td>2273305</td>\n",
       "      <td>20489990</td>\n",
       "      <td>105.40</td>\n",
       "    </tr>\n",
       "    <tr>\n",
       "      <th>Austria</th>\n",
       "      <td>Vienna</td>\n",
       "      <td>1805681</td>\n",
       "      <td>22295671</td>\n",
       "      <td>414.60</td>\n",
       "    </tr>\n",
       "    <tr>\n",
       "      <th>Romania</th>\n",
       "      <td>Bucharest</td>\n",
       "      <td>1803425</td>\n",
       "      <td>24099096</td>\n",
       "      <td>228.00</td>\n",
       "    </tr>\n",
       "    <tr>\n",
       "      <th>Germany</th>\n",
       "      <td>Hamburg</td>\n",
       "      <td>1760433</td>\n",
       "      <td>25859529</td>\n",
       "      <td>755.00</td>\n",
       "    </tr>\n",
       "    <tr>\n",
       "      <th>Hungary</th>\n",
       "      <td>Seoul</td>\n",
       "      <td>2100000</td>\n",
       "      <td>27959529</td>\n",
       "      <td>525.20</td>\n",
       "    </tr>\n",
       "    <tr>\n",
       "      <th>Poland</th>\n",
       "      <td>Warsaw</td>\n",
       "      <td>1740119</td>\n",
       "      <td>29699648</td>\n",
       "      <td>517.00</td>\n",
       "    </tr>\n",
       "    <tr>\n",
       "      <th>Spain</th>\n",
       "      <td>Barcelona</td>\n",
       "      <td>1602386</td>\n",
       "      <td>31302034</td>\n",
       "      <td>101.90</td>\n",
       "    </tr>\n",
       "    <tr>\n",
       "      <th>Germany</th>\n",
       "      <td>Munich</td>\n",
       "      <td>1493900</td>\n",
       "      <td>32795934</td>\n",
       "      <td>310.40</td>\n",
       "    </tr>\n",
       "    <tr>\n",
       "      <th>Italy</th>\n",
       "      <td>Milan</td>\n",
       "      <td>1350680</td>\n",
       "      <td>34146614</td>\n",
       "      <td>181.80</td>\n",
       "    </tr>\n",
       "  </tbody>\n",
       "</table>\n",
       "</div>"
      ],
      "text/plain": [
       "              name  population  Cum Of Population     area\n",
       "England     London     8615246            8615246  1572.00\n",
       "Germany     Berlin     3562166           12177412   891.85\n",
       "Spain       Madrid     3165235           15342647   605.77\n",
       "Italy         Rome     2874038           18216685  1285.00\n",
       "France       Paris     2273305           20489990   105.40\n",
       "Austria     Vienna     1805681           22295671   414.60\n",
       "Romania  Bucharest     1803425           24099096   228.00\n",
       "Germany    Hamburg     1760433           25859529   755.00\n",
       "Hungary      Seoul     2100000           27959529   525.20\n",
       "Poland      Warsaw     1740119           29699648   517.00\n",
       "Spain    Barcelona     1602386           31302034   101.90\n",
       "Germany     Munich     1493900           32795934   310.40\n",
       "Italy        Milan     1350680           34146614   181.80"
      ]
     },
     "execution_count": 214,
     "metadata": {},
     "output_type": "execute_result"
    }
   ],
   "source": [
    "area = [1572, 891.85, 605.77, 1285, 105.4, 414.6, 228, 755, 525.2, 517, 101.9, 310.4, 181.8]\n",
    "city_frame[\"area\"] = area\n",
    "city_frame"
   ]
  },
  {
   "cell_type": "markdown",
   "id": "aa49a686-97bc-435b-912b-1ffb58deb9c4",
   "metadata": {
    "jp-MarkdownHeadingCollapsed": true
   },
   "source": [
    "#### pandas.DataFrame.sort_values\r",
    "*\n",
    "DataFrame.sort_values(by, *, axis=0, ascending=True, inplace=False, kind='quicksort', na_position='last', ignore_index=False, key=None)"
   ]
  },
  {
   "cell_type": "code",
   "execution_count": 219,
   "id": "77410056-6464-4f2f-a95a-3f810365e7b8",
   "metadata": {
    "scrolled": true
   },
   "outputs": [
    {
     "data": {
      "text/html": [
       "<div>\n",
       "<style scoped>\n",
       "    .dataframe tbody tr th:only-of-type {\n",
       "        vertical-align: middle;\n",
       "    }\n",
       "\n",
       "    .dataframe tbody tr th {\n",
       "        vertical-align: top;\n",
       "    }\n",
       "\n",
       "    .dataframe thead th {\n",
       "        text-align: right;\n",
       "    }\n",
       "</style>\n",
       "<table border=\"1\" class=\"dataframe\">\n",
       "  <thead>\n",
       "    <tr style=\"text-align: right;\">\n",
       "      <th></th>\n",
       "      <th>name</th>\n",
       "      <th>population</th>\n",
       "      <th>Cum Of Population</th>\n",
       "      <th>area</th>\n",
       "    </tr>\n",
       "  </thead>\n",
       "  <tbody>\n",
       "    <tr>\n",
       "      <th>England</th>\n",
       "      <td>London</td>\n",
       "      <td>8615246</td>\n",
       "      <td>8615246</td>\n",
       "      <td>1572.00</td>\n",
       "    </tr>\n",
       "    <tr>\n",
       "      <th>Italy</th>\n",
       "      <td>Rome</td>\n",
       "      <td>2874038</td>\n",
       "      <td>18216685</td>\n",
       "      <td>1285.00</td>\n",
       "    </tr>\n",
       "    <tr>\n",
       "      <th>Germany</th>\n",
       "      <td>Berlin</td>\n",
       "      <td>3562166</td>\n",
       "      <td>12177412</td>\n",
       "      <td>891.85</td>\n",
       "    </tr>\n",
       "    <tr>\n",
       "      <th>Germany</th>\n",
       "      <td>Hamburg</td>\n",
       "      <td>1760433</td>\n",
       "      <td>25859529</td>\n",
       "      <td>755.00</td>\n",
       "    </tr>\n",
       "    <tr>\n",
       "      <th>Spain</th>\n",
       "      <td>Madrid</td>\n",
       "      <td>3165235</td>\n",
       "      <td>15342647</td>\n",
       "      <td>605.77</td>\n",
       "    </tr>\n",
       "    <tr>\n",
       "      <th>Hungary</th>\n",
       "      <td>Seoul</td>\n",
       "      <td>2100000</td>\n",
       "      <td>27959529</td>\n",
       "      <td>525.20</td>\n",
       "    </tr>\n",
       "    <tr>\n",
       "      <th>Poland</th>\n",
       "      <td>Warsaw</td>\n",
       "      <td>1740119</td>\n",
       "      <td>29699648</td>\n",
       "      <td>517.00</td>\n",
       "    </tr>\n",
       "    <tr>\n",
       "      <th>Austria</th>\n",
       "      <td>Vienna</td>\n",
       "      <td>1805681</td>\n",
       "      <td>22295671</td>\n",
       "      <td>414.60</td>\n",
       "    </tr>\n",
       "    <tr>\n",
       "      <th>Germany</th>\n",
       "      <td>Munich</td>\n",
       "      <td>1493900</td>\n",
       "      <td>32795934</td>\n",
       "      <td>310.40</td>\n",
       "    </tr>\n",
       "    <tr>\n",
       "      <th>Romania</th>\n",
       "      <td>Bucharest</td>\n",
       "      <td>1803425</td>\n",
       "      <td>24099096</td>\n",
       "      <td>228.00</td>\n",
       "    </tr>\n",
       "    <tr>\n",
       "      <th>Italy</th>\n",
       "      <td>Milan</td>\n",
       "      <td>1350680</td>\n",
       "      <td>34146614</td>\n",
       "      <td>181.80</td>\n",
       "    </tr>\n",
       "    <tr>\n",
       "      <th>France</th>\n",
       "      <td>Paris</td>\n",
       "      <td>2273305</td>\n",
       "      <td>20489990</td>\n",
       "      <td>105.40</td>\n",
       "    </tr>\n",
       "    <tr>\n",
       "      <th>Spain</th>\n",
       "      <td>Barcelona</td>\n",
       "      <td>1602386</td>\n",
       "      <td>31302034</td>\n",
       "      <td>101.90</td>\n",
       "    </tr>\n",
       "  </tbody>\n",
       "</table>\n",
       "</div>"
      ],
      "text/plain": [
       "              name  population  Cum Of Population     area\n",
       "England     London     8615246            8615246  1572.00\n",
       "Italy         Rome     2874038           18216685  1285.00\n",
       "Germany     Berlin     3562166           12177412   891.85\n",
       "Germany    Hamburg     1760433           25859529   755.00\n",
       "Spain       Madrid     3165235           15342647   605.77\n",
       "Hungary      Seoul     2100000           27959529   525.20\n",
       "Poland      Warsaw     1740119           29699648   517.00\n",
       "Austria     Vienna     1805681           22295671   414.60\n",
       "Germany     Munich     1493900           32795934   310.40\n",
       "Romania  Bucharest     1803425           24099096   228.00\n",
       "Italy        Milan     1350680           34146614   181.80\n",
       "France       Paris     2273305           20489990   105.40\n",
       "Spain    Barcelona     1602386           31302034   101.90"
      ]
     },
     "execution_count": 219,
     "metadata": {},
     "output_type": "execute_result"
    }
   ],
   "source": [
    "city_frame.sort_values(\"area\", ascending=False)"
   ]
  },
  {
   "cell_type": "code",
   "execution_count": 220,
   "id": "e7aff117-188e-4f99-b39f-d664198f4398",
   "metadata": {},
   "outputs": [
    {
     "data": {
      "text/html": [
       "<div>\n",
       "<style scoped>\n",
       "    .dataframe tbody tr th:only-of-type {\n",
       "        vertical-align: middle;\n",
       "    }\n",
       "\n",
       "    .dataframe tbody tr th {\n",
       "        vertical-align: top;\n",
       "    }\n",
       "\n",
       "    .dataframe thead th {\n",
       "        text-align: right;\n",
       "    }\n",
       "</style>\n",
       "<table border=\"1\" class=\"dataframe\">\n",
       "  <thead>\n",
       "    <tr style=\"text-align: right;\">\n",
       "      <th></th>\n",
       "      <th>2014</th>\n",
       "      <th>2015</th>\n",
       "      <th>2016</th>\n",
       "      <th>2017</th>\n",
       "      <th>2018</th>\n",
       "    </tr>\n",
       "  </thead>\n",
       "  <tbody>\n",
       "    <tr>\n",
       "      <th>Zürich</th>\n",
       "      <td>709.32</td>\n",
       "      <td>835.92</td>\n",
       "      <td>867.820</td>\n",
       "      <td>807.370</td>\n",
       "      <td>841.810</td>\n",
       "    </tr>\n",
       "    <tr>\n",
       "      <th>Freiburg</th>\n",
       "      <td>792.53</td>\n",
       "      <td>770.47</td>\n",
       "      <td>868.720</td>\n",
       "      <td>953.360</td>\n",
       "      <td>748.190</td>\n",
       "    </tr>\n",
       "    <tr>\n",
       "      <th>München</th>\n",
       "      <td>962.12</td>\n",
       "      <td>701.28</td>\n",
       "      <td>976.800</td>\n",
       "      <td>844.900</td>\n",
       "      <td>724.170</td>\n",
       "    </tr>\n",
       "    <tr>\n",
       "      <th>Konstanz</th>\n",
       "      <td>952.01</td>\n",
       "      <td>701.18</td>\n",
       "      <td>973.440</td>\n",
       "      <td>821.840</td>\n",
       "      <td>958.360</td>\n",
       "    </tr>\n",
       "    <tr>\n",
       "      <th>Saarbrücken</th>\n",
       "      <td>904.47</td>\n",
       "      <td>969.25</td>\n",
       "      <td>943.450</td>\n",
       "      <td>720.770</td>\n",
       "      <td>763.780</td>\n",
       "    </tr>\n",
       "    <tr>\n",
       "      <th>cumsum_Zurich</th>\n",
       "      <td>709.32</td>\n",
       "      <td>1545.24</td>\n",
       "      <td>2413.060</td>\n",
       "      <td>3220.430</td>\n",
       "      <td>4062.240</td>\n",
       "    </tr>\n",
       "    <tr>\n",
       "      <th>cumsum_Freiburg</th>\n",
       "      <td>792.53</td>\n",
       "      <td>1563.00</td>\n",
       "      <td>2431.720</td>\n",
       "      <td>3385.080</td>\n",
       "      <td>4133.270</td>\n",
       "    </tr>\n",
       "    <tr>\n",
       "      <th>cumsum_Munchen</th>\n",
       "      <td>962.12</td>\n",
       "      <td>1663.40</td>\n",
       "      <td>2640.200</td>\n",
       "      <td>3485.100</td>\n",
       "      <td>4209.270</td>\n",
       "    </tr>\n",
       "    <tr>\n",
       "      <th>cumsum_Konstanz</th>\n",
       "      <td>952.01</td>\n",
       "      <td>1653.19</td>\n",
       "      <td>2626.630</td>\n",
       "      <td>3448.470</td>\n",
       "      <td>4406.830</td>\n",
       "    </tr>\n",
       "    <tr>\n",
       "      <th>cumsum_Saarbrucken</th>\n",
       "      <td>904.47</td>\n",
       "      <td>1873.72</td>\n",
       "      <td>2817.170</td>\n",
       "      <td>3537.940</td>\n",
       "      <td>4301.720</td>\n",
       "    </tr>\n",
       "    <tr>\n",
       "      <th>total_2014</th>\n",
       "      <td>709.32</td>\n",
       "      <td>835.92</td>\n",
       "      <td>867.820</td>\n",
       "      <td>807.370</td>\n",
       "      <td>841.810</td>\n",
       "    </tr>\n",
       "    <tr>\n",
       "      <th>total_2015</th>\n",
       "      <td>1501.85</td>\n",
       "      <td>1606.39</td>\n",
       "      <td>1736.540</td>\n",
       "      <td>1760.730</td>\n",
       "      <td>1590.000</td>\n",
       "    </tr>\n",
       "    <tr>\n",
       "      <th>total_2016</th>\n",
       "      <td>2463.97</td>\n",
       "      <td>2307.67</td>\n",
       "      <td>2713.340</td>\n",
       "      <td>2605.630</td>\n",
       "      <td>2314.170</td>\n",
       "    </tr>\n",
       "    <tr>\n",
       "      <th>total_2017</th>\n",
       "      <td>3415.98</td>\n",
       "      <td>3008.85</td>\n",
       "      <td>3686.780</td>\n",
       "      <td>3427.470</td>\n",
       "      <td>3272.530</td>\n",
       "    </tr>\n",
       "    <tr>\n",
       "      <th>total_2018</th>\n",
       "      <td>4320.45</td>\n",
       "      <td>3978.10</td>\n",
       "      <td>4630.230</td>\n",
       "      <td>4148.240</td>\n",
       "      <td>4036.310</td>\n",
       "    </tr>\n",
       "    <tr>\n",
       "      <th>Mean of Year</th>\n",
       "      <td>864.09</td>\n",
       "      <td>795.62</td>\n",
       "      <td>926.046</td>\n",
       "      <td>829.648</td>\n",
       "      <td>807.262</td>\n",
       "    </tr>\n",
       "    <tr>\n",
       "      <th>Sum of Year</th>\n",
       "      <td>4320.45</td>\n",
       "      <td>3978.10</td>\n",
       "      <td>4630.230</td>\n",
       "      <td>4148.240</td>\n",
       "      <td>4036.310</td>\n",
       "    </tr>\n",
       "  </tbody>\n",
       "</table>\n",
       "</div>"
      ],
      "text/plain": [
       "                       2014     2015      2016      2017      2018\n",
       "Zürich               709.32   835.92   867.820   807.370   841.810\n",
       "Freiburg             792.53   770.47   868.720   953.360   748.190\n",
       "München              962.12   701.28   976.800   844.900   724.170\n",
       "Konstanz             952.01   701.18   973.440   821.840   958.360\n",
       "Saarbrücken          904.47   969.25   943.450   720.770   763.780\n",
       "cumsum_Zurich        709.32  1545.24  2413.060  3220.430  4062.240\n",
       "cumsum_Freiburg      792.53  1563.00  2431.720  3385.080  4133.270\n",
       "cumsum_Munchen       962.12  1663.40  2640.200  3485.100  4209.270\n",
       "cumsum_Konstanz      952.01  1653.19  2626.630  3448.470  4406.830\n",
       "cumsum_Saarbrucken   904.47  1873.72  2817.170  3537.940  4301.720\n",
       "total_2014           709.32   835.92   867.820   807.370   841.810\n",
       "total_2015          1501.85  1606.39  1736.540  1760.730  1590.000\n",
       "total_2016          2463.97  2307.67  2713.340  2605.630  2314.170\n",
       "total_2017          3415.98  3008.85  3686.780  3427.470  3272.530\n",
       "total_2018          4320.45  3978.10  4630.230  4148.240  4036.310\n",
       "Mean of Year         864.09   795.62   926.046   829.648   807.262\n",
       "Sum of Year         4320.45  3978.10  4630.230  4148.240  4036.310"
      ]
     },
     "execution_count": 220,
     "metadata": {},
     "output_type": "execute_result"
    }
   ],
   "source": [
    "shops.T"
   ]
  },
  {
   "cell_type": "markdown",
   "id": "9c459e22-737f-4421-95dd-9f3b5762a154",
   "metadata": {
    "jp-MarkdownHeadingCollapsed": true
   },
   "source": [
    "### ACCESSING AND CHANGING VALUES OF DATAFRAMES"
   ]
  },
  {
   "cell_type": "code",
   "execution_count": 269,
   "id": "c36898ce-12b3-49f3-bb66-2194e9488dce",
   "metadata": {},
   "outputs": [
    {
     "data": {
      "text/html": [
       "<div>\n",
       "<style scoped>\n",
       "    .dataframe tbody tr th:only-of-type {\n",
       "        vertical-align: middle;\n",
       "    }\n",
       "\n",
       "    .dataframe tbody tr th {\n",
       "        vertical-align: top;\n",
       "    }\n",
       "\n",
       "    .dataframe thead th {\n",
       "        text-align: right;\n",
       "    }\n",
       "</style>\n",
       "<table border=\"1\" class=\"dataframe\">\n",
       "  <thead>\n",
       "    <tr style=\"text-align: right;\">\n",
       "      <th></th>\n",
       "      <th>last</th>\n",
       "      <th>job</th>\n",
       "      <th>language</th>\n",
       "    </tr>\n",
       "  </thead>\n",
       "  <tbody>\n",
       "    <tr>\n",
       "      <th>Mike</th>\n",
       "      <td>Meyer</td>\n",
       "      <td>data analyst</td>\n",
       "      <td>Python</td>\n",
       "    </tr>\n",
       "    <tr>\n",
       "      <th>Dorothee</th>\n",
       "      <td>Maier</td>\n",
       "      <td>programmer</td>\n",
       "      <td>Perl</td>\n",
       "    </tr>\n",
       "    <tr>\n",
       "      <th>Tom</th>\n",
       "      <td>Meyer</td>\n",
       "      <td>computer scientist</td>\n",
       "      <td>Java</td>\n",
       "    </tr>\n",
       "    <tr>\n",
       "      <th>Bill</th>\n",
       "      <td>Mayer</td>\n",
       "      <td>data scientist</td>\n",
       "      <td>Java</td>\n",
       "    </tr>\n",
       "    <tr>\n",
       "      <th>Pete</th>\n",
       "      <td>Meyr</td>\n",
       "      <td>accountant</td>\n",
       "      <td>Cobol</td>\n",
       "    </tr>\n",
       "    <tr>\n",
       "      <th>Kate</th>\n",
       "      <td>Mair</td>\n",
       "      <td>psychiatrist</td>\n",
       "      <td>Brainfuck</td>\n",
       "    </tr>\n",
       "  </tbody>\n",
       "</table>\n",
       "</div>"
      ],
      "text/plain": [
       "           last                 job   language\n",
       "Mike      Meyer        data analyst     Python\n",
       "Dorothee  Maier          programmer       Perl\n",
       "Tom       Meyer  computer scientist       Java\n",
       "Bill      Mayer      data scientist       Java\n",
       "Pete       Meyr          accountant      Cobol\n",
       "Kate       Mair        psychiatrist  Brainfuck"
      ]
     },
     "execution_count": 269,
     "metadata": {},
     "output_type": "execute_result"
    }
   ],
   "source": [
    "first = ('Mike', 'Dorothee', 'Tom', 'Bill', 'Pete', 'Kate')\n",
    "last = ('Meyer', 'Maier', 'Meyer', 'Mayer', 'Meyr', 'Mair')\n",
    "job = ('data analyst', 'programmer', 'computer scientist', 'data scientist', 'accountant', 'psychiatrist')\n",
    "language = ('Python', 'Perl', 'Java', 'Java', 'Cobol', 'Brainfuck')\n",
    "df = pd.DataFrame(index = first, columns = [\"last\", \"job\", \"language\"])\n",
    "df[[\"last\", \"job\", \"language\"]] = list(zip(last, job, language))\n",
    "df"
   ]
  },
  {
   "cell_type": "markdown",
   "id": "01120574-d45b-4f1b-9577-531993049059",
   "metadata": {
    "jp-MarkdownHeadingCollapsed": true
   },
   "source": [
    "#### CHANGE ONE VALUE IN DATAFRAME"
   ]
  },
  {
   "cell_type": "markdown",
   "id": "f42c2a8b-0c86-401c-b4cb-fffb0cacf967",
   "metadata": {},
   "source": [
    "#### pandas.DataFrame.replace\n",
    "*DataFrame.replace(to_replace=None, value=_NoDefault.no_default, *, inplace=False, limit=None, regex=False, method=_NoDefault.no_default)"
   ]
  },
  {
   "cell_type": "code",
   "execution_count": 240,
   "id": "00978297-b946-4881-9249-a500e7ee3bf1",
   "metadata": {},
   "outputs": [
    {
     "data": {
      "text/html": [
       "<div>\n",
       "<style scoped>\n",
       "    .dataframe tbody tr th:only-of-type {\n",
       "        vertical-align: middle;\n",
       "    }\n",
       "\n",
       "    .dataframe tbody tr th {\n",
       "        vertical-align: top;\n",
       "    }\n",
       "\n",
       "    .dataframe thead th {\n",
       "        text-align: right;\n",
       "    }\n",
       "</style>\n",
       "<table border=\"1\" class=\"dataframe\">\n",
       "  <thead>\n",
       "    <tr style=\"text-align: right;\">\n",
       "      <th></th>\n",
       "      <th>A</th>\n",
       "      <th>B</th>\n",
       "      <th>C</th>\n",
       "    </tr>\n",
       "  </thead>\n",
       "  <tbody>\n",
       "    <tr>\n",
       "      <th>0</th>\n",
       "      <td>5</td>\n",
       "      <td>5</td>\n",
       "      <td>a</td>\n",
       "    </tr>\n",
       "    <tr>\n",
       "      <th>1</th>\n",
       "      <td>1</td>\n",
       "      <td>6</td>\n",
       "      <td>b</td>\n",
       "    </tr>\n",
       "    <tr>\n",
       "      <th>2</th>\n",
       "      <td>2</td>\n",
       "      <td>7</td>\n",
       "      <td>c</td>\n",
       "    </tr>\n",
       "    <tr>\n",
       "      <th>3</th>\n",
       "      <td>3</td>\n",
       "      <td>8</td>\n",
       "      <td>d</td>\n",
       "    </tr>\n",
       "    <tr>\n",
       "      <th>4</th>\n",
       "      <td>4</td>\n",
       "      <td>9</td>\n",
       "      <td>e</td>\n",
       "    </tr>\n",
       "  </tbody>\n",
       "</table>\n",
       "</div>"
      ],
      "text/plain": [
       "   A  B  C\n",
       "0  5  5  a\n",
       "1  1  6  b\n",
       "2  2  7  c\n",
       "3  3  8  d\n",
       "4  4  9  e"
      ]
     },
     "execution_count": 240,
     "metadata": {},
     "output_type": "execute_result"
    }
   ],
   "source": [
    "df = pd.DataFrame({'A': [0, 1, 2, 3, 4],\n",
    "                   'B': [5, 6, 7, 8, 9],\n",
    "                   'C': ['a', 'b', 'c', 'd', 'e']})\n",
    "df.replace(0, 5)"
   ]
  },
  {
   "cell_type": "code",
   "execution_count": 241,
   "id": "7c838de2-a0bf-4bc3-8969-1e39bfc456ed",
   "metadata": {},
   "outputs": [
    {
     "data": {
      "text/html": [
       "<div>\n",
       "<style scoped>\n",
       "    .dataframe tbody tr th:only-of-type {\n",
       "        vertical-align: middle;\n",
       "    }\n",
       "\n",
       "    .dataframe tbody tr th {\n",
       "        vertical-align: top;\n",
       "    }\n",
       "\n",
       "    .dataframe thead th {\n",
       "        text-align: right;\n",
       "    }\n",
       "</style>\n",
       "<table border=\"1\" class=\"dataframe\">\n",
       "  <thead>\n",
       "    <tr style=\"text-align: right;\">\n",
       "      <th></th>\n",
       "      <th>A</th>\n",
       "      <th>B</th>\n",
       "      <th>C</th>\n",
       "    </tr>\n",
       "  </thead>\n",
       "  <tbody>\n",
       "    <tr>\n",
       "      <th>0</th>\n",
       "      <td>4</td>\n",
       "      <td>5</td>\n",
       "      <td>a</td>\n",
       "    </tr>\n",
       "    <tr>\n",
       "      <th>1</th>\n",
       "      <td>4</td>\n",
       "      <td>6</td>\n",
       "      <td>b</td>\n",
       "    </tr>\n",
       "    <tr>\n",
       "      <th>2</th>\n",
       "      <td>4</td>\n",
       "      <td>7</td>\n",
       "      <td>c</td>\n",
       "    </tr>\n",
       "    <tr>\n",
       "      <th>3</th>\n",
       "      <td>4</td>\n",
       "      <td>8</td>\n",
       "      <td>d</td>\n",
       "    </tr>\n",
       "    <tr>\n",
       "      <th>4</th>\n",
       "      <td>4</td>\n",
       "      <td>9</td>\n",
       "      <td>e</td>\n",
       "    </tr>\n",
       "  </tbody>\n",
       "</table>\n",
       "</div>"
      ],
      "text/plain": [
       "   A  B  C\n",
       "0  4  5  a\n",
       "1  4  6  b\n",
       "2  4  7  c\n",
       "3  4  8  d\n",
       "4  4  9  e"
      ]
     },
     "execution_count": 241,
     "metadata": {},
     "output_type": "execute_result"
    }
   ],
   "source": [
    "df.replace([0, 1, 2, 3], 4, inplace=True)\n",
    "df"
   ]
  },
  {
   "cell_type": "code",
   "execution_count": 242,
   "id": "6c28f88e-816f-45aa-b8ca-1fc3e799f07c",
   "metadata": {},
   "outputs": [
    {
     "data": {
      "text/html": [
       "<div>\n",
       "<style scoped>\n",
       "    .dataframe tbody tr th:only-of-type {\n",
       "        vertical-align: middle;\n",
       "    }\n",
       "\n",
       "    .dataframe tbody tr th {\n",
       "        vertical-align: top;\n",
       "    }\n",
       "\n",
       "    .dataframe thead th {\n",
       "        text-align: right;\n",
       "    }\n",
       "</style>\n",
       "<table border=\"1\" class=\"dataframe\">\n",
       "  <thead>\n",
       "    <tr style=\"text-align: right;\">\n",
       "      <th></th>\n",
       "      <th>A</th>\n",
       "      <th>B</th>\n",
       "      <th>C</th>\n",
       "    </tr>\n",
       "  </thead>\n",
       "  <tbody>\n",
       "    <tr>\n",
       "      <th>0</th>\n",
       "      <td>6</td>\n",
       "      <td>5</td>\n",
       "      <td>a</td>\n",
       "    </tr>\n",
       "    <tr>\n",
       "      <th>1</th>\n",
       "      <td>6</td>\n",
       "      <td>6</td>\n",
       "      <td>b</td>\n",
       "    </tr>\n",
       "    <tr>\n",
       "      <th>2</th>\n",
       "      <td>6</td>\n",
       "      <td>7</td>\n",
       "      <td>c</td>\n",
       "    </tr>\n",
       "    <tr>\n",
       "      <th>3</th>\n",
       "      <td>6</td>\n",
       "      <td>8</td>\n",
       "      <td>d</td>\n",
       "    </tr>\n",
       "    <tr>\n",
       "      <th>4</th>\n",
       "      <td>6</td>\n",
       "      <td>9</td>\n",
       "      <td>e</td>\n",
       "    </tr>\n",
       "  </tbody>\n",
       "</table>\n",
       "</div>"
      ],
      "text/plain": [
       "   A  B  C\n",
       "0  6  5  a\n",
       "1  6  6  b\n",
       "2  6  7  c\n",
       "3  6  8  d\n",
       "4  6  9  e"
      ]
     },
     "execution_count": 242,
     "metadata": {},
     "output_type": "execute_result"
    }
   ],
   "source": [
    "df.replace(4,6)"
   ]
  },
  {
   "cell_type": "code",
   "execution_count": 246,
   "id": "b3549d19-c750-4738-a9c7-fef75890cc3d",
   "metadata": {},
   "outputs": [
    {
     "data": {
      "text/html": [
       "<div>\n",
       "<style scoped>\n",
       "    .dataframe tbody tr th:only-of-type {\n",
       "        vertical-align: middle;\n",
       "    }\n",
       "\n",
       "    .dataframe tbody tr th {\n",
       "        vertical-align: top;\n",
       "    }\n",
       "\n",
       "    .dataframe thead th {\n",
       "        text-align: right;\n",
       "    }\n",
       "</style>\n",
       "<table border=\"1\" class=\"dataframe\">\n",
       "  <thead>\n",
       "    <tr style=\"text-align: right;\">\n",
       "      <th></th>\n",
       "      <th>last</th>\n",
       "      <th>job</th>\n",
       "      <th>language</th>\n",
       "    </tr>\n",
       "  </thead>\n",
       "  <tbody>\n",
       "    <tr>\n",
       "      <th>Mike</th>\n",
       "      <td>Meyer</td>\n",
       "      <td>data analyst</td>\n",
       "      <td>Python</td>\n",
       "    </tr>\n",
       "    <tr>\n",
       "      <th>Dorothee</th>\n",
       "      <td>Maier</td>\n",
       "      <td>programmer</td>\n",
       "      <td>Perl</td>\n",
       "    </tr>\n",
       "    <tr>\n",
       "      <th>Tom</th>\n",
       "      <td>Meyer</td>\n",
       "      <td>computer scientist</td>\n",
       "      <td>Java</td>\n",
       "    </tr>\n",
       "    <tr>\n",
       "      <th>Bill</th>\n",
       "      <td>Mayer</td>\n",
       "      <td>data scientist</td>\n",
       "      <td>Java</td>\n",
       "    </tr>\n",
       "    <tr>\n",
       "      <th>Pete</th>\n",
       "      <td>Meyr</td>\n",
       "      <td>accountant</td>\n",
       "      <td>Python</td>\n",
       "    </tr>\n",
       "    <tr>\n",
       "      <th>Kate</th>\n",
       "      <td>Mair</td>\n",
       "      <td>psychiatrist</td>\n",
       "      <td>Brainfuck</td>\n",
       "    </tr>\n",
       "  </tbody>\n",
       "</table>\n",
       "</div>"
      ],
      "text/plain": [
       "           last                 job   language\n",
       "Mike      Meyer        data analyst     Python\n",
       "Dorothee  Maier          programmer       Perl\n",
       "Tom       Meyer  computer scientist       Java\n",
       "Bill      Mayer      data scientist       Java\n",
       "Pete       Meyr          accountant     Python\n",
       "Kate       Mair        psychiatrist  Brainfuck"
      ]
     },
     "execution_count": 246,
     "metadata": {},
     "output_type": "execute_result"
    }
   ],
   "source": [
    "# Bill의 직업에 접근\n",
    "df.iloc[3,1]\n",
    "# Bill의 직업을 Data_Analyst로 변경\n",
    "df.replace(df.iloc[3,1], \"Data_Analyst\")\n",
    "df.replace(df.iloc[4,2], \"Python\")"
   ]
  },
  {
   "cell_type": "code",
   "execution_count": 257,
   "id": "75dc2254-b581-4c64-af14-882c1a0948ed",
   "metadata": {},
   "outputs": [],
   "source": [
    "df.iloc[3,1] = \"Data_Analyst\""
   ]
  },
  {
   "cell_type": "code",
   "execution_count": 258,
   "id": "69500cab-14a1-4b62-8a89-864b2918a1e4",
   "metadata": {},
   "outputs": [
    {
     "data": {
      "text/html": [
       "<div>\n",
       "<style scoped>\n",
       "    .dataframe tbody tr th:only-of-type {\n",
       "        vertical-align: middle;\n",
       "    }\n",
       "\n",
       "    .dataframe tbody tr th {\n",
       "        vertical-align: top;\n",
       "    }\n",
       "\n",
       "    .dataframe thead th {\n",
       "        text-align: right;\n",
       "    }\n",
       "</style>\n",
       "<table border=\"1\" class=\"dataframe\">\n",
       "  <thead>\n",
       "    <tr style=\"text-align: right;\">\n",
       "      <th></th>\n",
       "      <th>last</th>\n",
       "      <th>job</th>\n",
       "      <th>language</th>\n",
       "    </tr>\n",
       "  </thead>\n",
       "  <tbody>\n",
       "    <tr>\n",
       "      <th>Mike</th>\n",
       "      <td>Meyer</td>\n",
       "      <td>data analyst</td>\n",
       "      <td>Python</td>\n",
       "    </tr>\n",
       "    <tr>\n",
       "      <th>Dorothee</th>\n",
       "      <td>Maier</td>\n",
       "      <td>programmer</td>\n",
       "      <td>Perl</td>\n",
       "    </tr>\n",
       "    <tr>\n",
       "      <th>Tom</th>\n",
       "      <td>Meyer</td>\n",
       "      <td>computer scientist</td>\n",
       "      <td>Java</td>\n",
       "    </tr>\n",
       "    <tr>\n",
       "      <th>Bill</th>\n",
       "      <td>Mayer</td>\n",
       "      <td>Data_Analyst</td>\n",
       "      <td>Java</td>\n",
       "    </tr>\n",
       "    <tr>\n",
       "      <th>Pete</th>\n",
       "      <td>Meyr</td>\n",
       "      <td>accountant</td>\n",
       "      <td>Cobol</td>\n",
       "    </tr>\n",
       "    <tr>\n",
       "      <th>Kate</th>\n",
       "      <td>Mair</td>\n",
       "      <td>psychiatrist</td>\n",
       "      <td>Brainfuck</td>\n",
       "    </tr>\n",
       "  </tbody>\n",
       "</table>\n",
       "</div>"
      ],
      "text/plain": [
       "           last                 job   language\n",
       "Mike      Meyer        data analyst     Python\n",
       "Dorothee  Maier          programmer       Perl\n",
       "Tom       Meyer  computer scientist       Java\n",
       "Bill      Mayer        Data_Analyst       Java\n",
       "Pete       Meyr          accountant      Cobol\n",
       "Kate       Mair        psychiatrist  Brainfuck"
      ]
     },
     "execution_count": 258,
     "metadata": {},
     "output_type": "execute_result"
    }
   ],
   "source": [
    "df"
   ]
  },
  {
   "cell_type": "code",
   "execution_count": 266,
   "id": "a9fca889-2e34-40bb-a48f-51c7ecf93ce6",
   "metadata": {},
   "outputs": [
    {
     "data": {
      "text/html": [
       "<div>\n",
       "<style scoped>\n",
       "    .dataframe tbody tr th:only-of-type {\n",
       "        vertical-align: middle;\n",
       "    }\n",
       "\n",
       "    .dataframe tbody tr th {\n",
       "        vertical-align: top;\n",
       "    }\n",
       "\n",
       "    .dataframe thead th {\n",
       "        text-align: right;\n",
       "    }\n",
       "</style>\n",
       "<table border=\"1\" class=\"dataframe\">\n",
       "  <thead>\n",
       "    <tr style=\"text-align: right;\">\n",
       "      <th></th>\n",
       "      <th>first</th>\n",
       "      <th>job</th>\n",
       "      <th>language</th>\n",
       "    </tr>\n",
       "  </thead>\n",
       "  <tbody>\n",
       "    <tr>\n",
       "      <th>Meyer</th>\n",
       "      <td>Michael</td>\n",
       "      <td>data analyst</td>\n",
       "      <td>Python</td>\n",
       "    </tr>\n",
       "    <tr>\n",
       "      <th>Maier</th>\n",
       "      <td>Dorothee</td>\n",
       "      <td>programmer</td>\n",
       "      <td>Python</td>\n",
       "    </tr>\n",
       "    <tr>\n",
       "      <th>Meyer</th>\n",
       "      <td>Thomas</td>\n",
       "      <td>computer scientist</td>\n",
       "      <td>Java</td>\n",
       "    </tr>\n",
       "    <tr>\n",
       "      <th>Mayer</th>\n",
       "      <td>Bill</td>\n",
       "      <td>data scientist</td>\n",
       "      <td>Java</td>\n",
       "    </tr>\n",
       "    <tr>\n",
       "      <th>Meyr</th>\n",
       "      <td>Pete</td>\n",
       "      <td>accountant</td>\n",
       "      <td>Cobol</td>\n",
       "    </tr>\n",
       "    <tr>\n",
       "      <th>Mair</th>\n",
       "      <td>Kate</td>\n",
       "      <td>psychiatrist</td>\n",
       "      <td>Brainfuck</td>\n",
       "    </tr>\n",
       "  </tbody>\n",
       "</table>\n",
       "</div>"
      ],
      "text/plain": [
       "          first                 job   language\n",
       "Meyer   Michael        data analyst     Python\n",
       "Maier  Dorothee          programmer     Python\n",
       "Meyer    Thomas  computer scientist       Java\n",
       "Mayer      Bill      data scientist       Java\n",
       "Meyr       Pete          accountant      Cobol\n",
       "Mair       Kate        psychiatrist  Brainfuck"
      ]
     },
     "execution_count": 266,
     "metadata": {},
     "output_type": "execute_result"
    }
   ],
   "source": [
    "df = pd.DataFrame(index = last, columns = [\"first\", \"job\", \"language\"])\n",
    "df[[\"first\", \"job\", \"language\"]] = list(zip(first, job, language))\n",
    "df.replace([\"Mike\", \"Tom\", df.iloc[1,2]], [\"Michael\", \"Thomas\", \"Python\"], inplace= True)\n",
    "df"
   ]
  },
  {
   "cell_type": "code",
   "execution_count": 270,
   "id": "4126c6a6-c675-4e9a-8641-239d59c421ba",
   "metadata": {},
   "outputs": [],
   "source": [
    "df.replace(['Cobol'], [\"Pythen\"], inplace=True)"
   ]
  },
  {
   "cell_type": "code",
   "execution_count": 271,
   "id": "adb163c1-2a9a-4cb5-825a-823306067b9e",
   "metadata": {},
   "outputs": [
    {
     "data": {
      "text/html": [
       "<div>\n",
       "<style scoped>\n",
       "    .dataframe tbody tr th:only-of-type {\n",
       "        vertical-align: middle;\n",
       "    }\n",
       "\n",
       "    .dataframe tbody tr th {\n",
       "        vertical-align: top;\n",
       "    }\n",
       "\n",
       "    .dataframe thead th {\n",
       "        text-align: right;\n",
       "    }\n",
       "</style>\n",
       "<table border=\"1\" class=\"dataframe\">\n",
       "  <thead>\n",
       "    <tr style=\"text-align: right;\">\n",
       "      <th></th>\n",
       "      <th>last</th>\n",
       "      <th>job</th>\n",
       "      <th>language</th>\n",
       "    </tr>\n",
       "  </thead>\n",
       "  <tbody>\n",
       "    <tr>\n",
       "      <th>Mike</th>\n",
       "      <td>Meyer</td>\n",
       "      <td>data analyst</td>\n",
       "      <td>Python</td>\n",
       "    </tr>\n",
       "    <tr>\n",
       "      <th>Dorothee</th>\n",
       "      <td>Maier</td>\n",
       "      <td>programmer</td>\n",
       "      <td>Perl</td>\n",
       "    </tr>\n",
       "    <tr>\n",
       "      <th>Tom</th>\n",
       "      <td>Meyer</td>\n",
       "      <td>computer scientist</td>\n",
       "      <td>Java</td>\n",
       "    </tr>\n",
       "    <tr>\n",
       "      <th>Bill</th>\n",
       "      <td>Mayer</td>\n",
       "      <td>data scientist</td>\n",
       "      <td>Java</td>\n",
       "    </tr>\n",
       "    <tr>\n",
       "      <th>Pete</th>\n",
       "      <td>Meyr</td>\n",
       "      <td>accountant</td>\n",
       "      <td>Pythen</td>\n",
       "    </tr>\n",
       "    <tr>\n",
       "      <th>Kate</th>\n",
       "      <td>Mair</td>\n",
       "      <td>psychiatrist</td>\n",
       "      <td>Brainfuck</td>\n",
       "    </tr>\n",
       "  </tbody>\n",
       "</table>\n",
       "</div>"
      ],
      "text/plain": [
       "           last                 job   language\n",
       "Mike      Meyer        data analyst     Python\n",
       "Dorothee  Maier          programmer       Perl\n",
       "Tom       Meyer  computer scientist       Java\n",
       "Bill      Mayer      data scientist       Java\n",
       "Pete       Meyr          accountant     Pythen\n",
       "Kate       Mair        psychiatrist  Brainfuck"
      ]
     },
     "execution_count": 271,
     "metadata": {},
     "output_type": "execute_result"
    }
   ],
   "source": [
    "df"
   ]
  },
  {
   "cell_type": "markdown",
   "id": "aa552f1f-9928-4c50-9451-6f913147a306",
   "metadata": {},
   "source": [
    "#### USING REGULAR EXPRESSION"
   ]
  },
  {
   "cell_type": "code",
   "execution_count": 272,
   "id": "8b2b0e61-9b85-4ca6-a95b-fd677919983d",
   "metadata": {},
   "outputs": [],
   "source": [
    "df.replace(to_replace=[r'M[ea][iy]e?r',r'P[iy]th[eo]n'], value = [\"Mayer\", \"Python\"], inplace= True, regex=True)"
   ]
  },
  {
   "cell_type": "code",
   "execution_count": 273,
   "id": "1f1fd164-5301-4578-8be3-5df902eb75a1",
   "metadata": {},
   "outputs": [
    {
     "data": {
      "text/html": [
       "<div>\n",
       "<style scoped>\n",
       "    .dataframe tbody tr th:only-of-type {\n",
       "        vertical-align: middle;\n",
       "    }\n",
       "\n",
       "    .dataframe tbody tr th {\n",
       "        vertical-align: top;\n",
       "    }\n",
       "\n",
       "    .dataframe thead th {\n",
       "        text-align: right;\n",
       "    }\n",
       "</style>\n",
       "<table border=\"1\" class=\"dataframe\">\n",
       "  <thead>\n",
       "    <tr style=\"text-align: right;\">\n",
       "      <th></th>\n",
       "      <th>last</th>\n",
       "      <th>job</th>\n",
       "      <th>language</th>\n",
       "    </tr>\n",
       "  </thead>\n",
       "  <tbody>\n",
       "    <tr>\n",
       "      <th>Mike</th>\n",
       "      <td>Mayer</td>\n",
       "      <td>data analyst</td>\n",
       "      <td>Python</td>\n",
       "    </tr>\n",
       "    <tr>\n",
       "      <th>Dorothee</th>\n",
       "      <td>Mayer</td>\n",
       "      <td>programmer</td>\n",
       "      <td>Perl</td>\n",
       "    </tr>\n",
       "    <tr>\n",
       "      <th>Tom</th>\n",
       "      <td>Mayer</td>\n",
       "      <td>computer scientist</td>\n",
       "      <td>Java</td>\n",
       "    </tr>\n",
       "    <tr>\n",
       "      <th>Bill</th>\n",
       "      <td>Mayer</td>\n",
       "      <td>data scientist</td>\n",
       "      <td>Java</td>\n",
       "    </tr>\n",
       "    <tr>\n",
       "      <th>Pete</th>\n",
       "      <td>Mayer</td>\n",
       "      <td>accountant</td>\n",
       "      <td>Python</td>\n",
       "    </tr>\n",
       "    <tr>\n",
       "      <th>Kate</th>\n",
       "      <td>Mayer</td>\n",
       "      <td>psychiatrist</td>\n",
       "      <td>Brainfuck</td>\n",
       "    </tr>\n",
       "  </tbody>\n",
       "</table>\n",
       "</div>"
      ],
      "text/plain": [
       "           last                 job   language\n",
       "Mike      Mayer        data analyst     Python\n",
       "Dorothee  Mayer          programmer       Perl\n",
       "Tom       Mayer  computer scientist       Java\n",
       "Bill      Mayer      data scientist       Java\n",
       "Pete      Mayer          accountant     Python\n",
       "Kate      Mayer        psychiatrist  Brainfuck"
      ]
     },
     "execution_count": 273,
     "metadata": {},
     "output_type": "execute_result"
    }
   ],
   "source": [
    "df"
   ]
  },
  {
   "cell_type": "code",
   "execution_count": 274,
   "id": "bb549219-5b85-4c3c-ae54-b28fd629a8a8",
   "metadata": {},
   "outputs": [
    {
     "data": {
      "text/html": [
       "<div>\n",
       "<style scoped>\n",
       "    .dataframe tbody tr th:only-of-type {\n",
       "        vertical-align: middle;\n",
       "    }\n",
       "\n",
       "    .dataframe tbody tr th {\n",
       "        vertical-align: top;\n",
       "    }\n",
       "\n",
       "    .dataframe thead th {\n",
       "        text-align: right;\n",
       "    }\n",
       "</style>\n",
       "<table border=\"1\" class=\"dataframe\">\n",
       "  <thead>\n",
       "    <tr style=\"text-align: right;\">\n",
       "      <th></th>\n",
       "      <th>name</th>\n",
       "      <th>job</th>\n",
       "      <th>language</th>\n",
       "    </tr>\n",
       "  </thead>\n",
       "  <tbody>\n",
       "    <tr>\n",
       "      <th>0</th>\n",
       "      <td>Ben</td>\n",
       "      <td>programmer</td>\n",
       "      <td>Java</td>\n",
       "    </tr>\n",
       "    <tr>\n",
       "      <th>1</th>\n",
       "      <td>Kate</td>\n",
       "      <td>NN</td>\n",
       "      <td>Python</td>\n",
       "    </tr>\n",
       "    <tr>\n",
       "      <th>2</th>\n",
       "      <td>Agnes</td>\n",
       "      <td>NN</td>\n",
       "      <td>LN</td>\n",
       "    </tr>\n",
       "    <tr>\n",
       "      <th>3</th>\n",
       "      <td>Ashleigh</td>\n",
       "      <td>engineer</td>\n",
       "      <td>LN</td>\n",
       "    </tr>\n",
       "    <tr>\n",
       "      <th>4</th>\n",
       "      <td>Tom</td>\n",
       "      <td>teacher</td>\n",
       "      <td>C</td>\n",
       "    </tr>\n",
       "  </tbody>\n",
       "</table>\n",
       "</div>"
      ],
      "text/plain": [
       "       name         job language\n",
       "0       Ben  programmer     Java\n",
       "1      Kate          NN   Python\n",
       "2     Agnes          NN       LN\n",
       "3  Ashleigh    engineer       LN\n",
       "4       Tom     teacher        C"
      ]
     },
     "execution_count": 274,
     "metadata": {},
     "output_type": "execute_result"
    }
   ],
   "source": [
    "df = pd.DataFrame({\n",
    "'name':['Ben', 'Kate', 'Agnes', 'Ashleigh', 'Tom'],\n",
    "'job':['programmer', 'NN', 'NN', 'engineer', 'teacher'],\n",
    "'language':['Java', 'Python', 'LN', 'LN', 'C']})\n",
    "df\n"
   ]
  },
  {
   "cell_type": "code",
   "execution_count": 279,
   "id": "9995a3c7-73e9-48e7-baeb-2a4e680ce61f",
   "metadata": {},
   "outputs": [
    {
     "data": {
      "text/html": [
       "<div>\n",
       "<style scoped>\n",
       "    .dataframe tbody tr th:only-of-type {\n",
       "        vertical-align: middle;\n",
       "    }\n",
       "\n",
       "    .dataframe tbody tr th {\n",
       "        vertical-align: top;\n",
       "    }\n",
       "\n",
       "    .dataframe thead th {\n",
       "        text-align: right;\n",
       "    }\n",
       "</style>\n",
       "<table border=\"1\" class=\"dataframe\">\n",
       "  <thead>\n",
       "    <tr style=\"text-align: right;\">\n",
       "      <th></th>\n",
       "      <th>name</th>\n",
       "      <th>job</th>\n",
       "      <th>language</th>\n",
       "    </tr>\n",
       "  </thead>\n",
       "  <tbody>\n",
       "    <tr>\n",
       "      <th>0</th>\n",
       "      <td>Ben</td>\n",
       "      <td>programmer</td>\n",
       "      <td>Java</td>\n",
       "    </tr>\n",
       "    <tr>\n",
       "      <th>1</th>\n",
       "      <td>Kate</td>\n",
       "      <td>programmer</td>\n",
       "      <td>Python</td>\n",
       "    </tr>\n",
       "    <tr>\n",
       "      <th>2</th>\n",
       "      <td>Agnes</td>\n",
       "      <td>programmer</td>\n",
       "      <td>LN</td>\n",
       "    </tr>\n",
       "    <tr>\n",
       "      <th>3</th>\n",
       "      <td>Ashleigh</td>\n",
       "      <td>engineer</td>\n",
       "      <td>LN</td>\n",
       "    </tr>\n",
       "    <tr>\n",
       "      <th>4</th>\n",
       "      <td>Tom</td>\n",
       "      <td>teacher</td>\n",
       "      <td>C</td>\n",
       "    </tr>\n",
       "  </tbody>\n",
       "</table>\n",
       "</div>"
      ],
      "text/plain": [
       "       name         job language\n",
       "0       Ben  programmer     Java\n",
       "1      Kate  programmer   Python\n",
       "2     Agnes  programmer       LN\n",
       "3  Ashleigh    engineer       LN\n",
       "4       Tom     teacher        C"
      ]
     },
     "execution_count": 279,
     "metadata": {},
     "output_type": "execute_result"
    }
   ],
   "source": [
    "df.replace(to_replace='NN',\n",
    "           method='pad'\n",
    "          )"
   ]
  },
  {
   "cell_type": "code",
   "execution_count": 280,
   "id": "b9d35a86-5178-4733-905a-8c91e1ee6a98",
   "metadata": {},
   "outputs": [],
   "source": [
    "df = pd.DataFrame([[1, 2], [4, 5], [7, 8]],\n",
    "index=['cobra', 'viper', 'sidewinder'],\n",
    "columns=['max_speed', 'shield'])"
   ]
  },
  {
   "cell_type": "code",
   "execution_count": 281,
   "id": "1d1f2b1f-bb62-4d08-b666-7296c4de9c63",
   "metadata": {},
   "outputs": [
    {
     "data": {
      "text/html": [
       "<div>\n",
       "<style scoped>\n",
       "    .dataframe tbody tr th:only-of-type {\n",
       "        vertical-align: middle;\n",
       "    }\n",
       "\n",
       "    .dataframe tbody tr th {\n",
       "        vertical-align: top;\n",
       "    }\n",
       "\n",
       "    .dataframe thead th {\n",
       "        text-align: right;\n",
       "    }\n",
       "</style>\n",
       "<table border=\"1\" class=\"dataframe\">\n",
       "  <thead>\n",
       "    <tr style=\"text-align: right;\">\n",
       "      <th></th>\n",
       "      <th>max_speed</th>\n",
       "      <th>shield</th>\n",
       "    </tr>\n",
       "  </thead>\n",
       "  <tbody>\n",
       "    <tr>\n",
       "      <th>cobra</th>\n",
       "      <td>1</td>\n",
       "      <td>2</td>\n",
       "    </tr>\n",
       "    <tr>\n",
       "      <th>viper</th>\n",
       "      <td>4</td>\n",
       "      <td>5</td>\n",
       "    </tr>\n",
       "    <tr>\n",
       "      <th>sidewinder</th>\n",
       "      <td>7</td>\n",
       "      <td>8</td>\n",
       "    </tr>\n",
       "  </tbody>\n",
       "</table>\n",
       "</div>"
      ],
      "text/plain": [
       "            max_speed  shield\n",
       "cobra               1       2\n",
       "viper               4       5\n",
       "sidewinder          7       8"
      ]
     },
     "execution_count": 281,
     "metadata": {},
     "output_type": "execute_result"
    }
   ],
   "source": [
    "df"
   ]
  },
  {
   "cell_type": "code",
   "execution_count": 285,
   "id": "d976f294-9504-4cdf-b885-73e8f9ab6ca3",
   "metadata": {},
   "outputs": [
    {
     "data": {
      "text/html": [
       "<div>\n",
       "<style scoped>\n",
       "    .dataframe tbody tr th:only-of-type {\n",
       "        vertical-align: middle;\n",
       "    }\n",
       "\n",
       "    .dataframe tbody tr th {\n",
       "        vertical-align: top;\n",
       "    }\n",
       "\n",
       "    .dataframe thead th {\n",
       "        text-align: right;\n",
       "    }\n",
       "</style>\n",
       "<table border=\"1\" class=\"dataframe\">\n",
       "  <thead>\n",
       "    <tr style=\"text-align: right;\">\n",
       "      <th></th>\n",
       "      <th>max_speed</th>\n",
       "      <th>shield</th>\n",
       "    </tr>\n",
       "  </thead>\n",
       "  <tbody>\n",
       "    <tr>\n",
       "      <th>sidewinder</th>\n",
       "      <td>7</td>\n",
       "      <td>8</td>\n",
       "    </tr>\n",
       "  </tbody>\n",
       "</table>\n",
       "</div>"
      ],
      "text/plain": [
       "            max_speed  shield\n",
       "sidewinder          7       8"
      ]
     },
     "execution_count": 285,
     "metadata": {},
     "output_type": "execute_result"
    }
   ],
   "source": [
    "df[[False, False, True]]"
   ]
  },
  {
   "cell_type": "code",
   "execution_count": 286,
   "id": "2140cefd-b802-4bf1-bf4d-4b66ca331f89",
   "metadata": {},
   "outputs": [
    {
     "data": {
      "text/plain": [
       "cobra         False\n",
       "viper         False\n",
       "sidewinder     True\n",
       "Name: shield, dtype: bool"
      ]
     },
     "execution_count": 286,
     "metadata": {},
     "output_type": "execute_result"
    }
   ],
   "source": [
    "df['shield']>6"
   ]
  },
  {
   "cell_type": "code",
   "execution_count": 287,
   "id": "cd93e617-4219-4135-831c-8b9fe1f6b51a",
   "metadata": {},
   "outputs": [
    {
     "data": {
      "text/plain": [
       "sidewinder    7\n",
       "Name: max_speed, dtype: int64"
      ]
     },
     "execution_count": 287,
     "metadata": {},
     "output_type": "execute_result"
    }
   ],
   "source": [
    "df.loc[df['shield']>6, 'max_speed']"
   ]
  },
  {
   "cell_type": "code",
   "execution_count": 289,
   "id": "e532f808-b478-417d-af53-bfb9fd8d1ec1",
   "metadata": {},
   "outputs": [],
   "source": [
    "df.loc[lambda df : df['max_speed']>3] = 0"
   ]
  },
  {
   "cell_type": "code",
   "execution_count": 290,
   "id": "188c7869-4a78-47ff-a927-d825c34c4888",
   "metadata": {},
   "outputs": [
    {
     "data": {
      "text/html": [
       "<div>\n",
       "<style scoped>\n",
       "    .dataframe tbody tr th:only-of-type {\n",
       "        vertical-align: middle;\n",
       "    }\n",
       "\n",
       "    .dataframe tbody tr th {\n",
       "        vertical-align: top;\n",
       "    }\n",
       "\n",
       "    .dataframe thead th {\n",
       "        text-align: right;\n",
       "    }\n",
       "</style>\n",
       "<table border=\"1\" class=\"dataframe\">\n",
       "  <thead>\n",
       "    <tr style=\"text-align: right;\">\n",
       "      <th></th>\n",
       "      <th>max_speed</th>\n",
       "      <th>shield</th>\n",
       "    </tr>\n",
       "  </thead>\n",
       "  <tbody>\n",
       "    <tr>\n",
       "      <th>cobra</th>\n",
       "      <td>1</td>\n",
       "      <td>2</td>\n",
       "    </tr>\n",
       "    <tr>\n",
       "      <th>viper</th>\n",
       "      <td>0</td>\n",
       "      <td>0</td>\n",
       "    </tr>\n",
       "    <tr>\n",
       "      <th>sidewinder</th>\n",
       "      <td>0</td>\n",
       "      <td>0</td>\n",
       "    </tr>\n",
       "  </tbody>\n",
       "</table>\n",
       "</div>"
      ],
      "text/plain": [
       "            max_speed  shield\n",
       "cobra               1       2\n",
       "viper               0       0\n",
       "sidewinder          0       0"
      ]
     },
     "execution_count": 290,
     "metadata": {},
     "output_type": "execute_result"
    }
   ],
   "source": [
    "df"
   ]
  },
  {
   "cell_type": "markdown",
   "id": "a013f07b-e1fa-4a50-a2fd-525b026b5a29",
   "metadata": {},
   "source": [
    "### GROUP BY"
   ]
  },
  {
   "cell_type": "markdown",
   "id": "ad5c5c44-195f-400b-a44b-9e9551b19a74",
   "metadata": {},
   "source": [
    "#### Group by With Series"
   ]
  },
  {
   "cell_type": "code",
   "execution_count": 291,
   "id": "05a5a423-5514-4da8-ac83-379d30e10c27",
   "metadata": {},
   "outputs": [],
   "source": [
    "nvalues = 30\n",
    "values = np.random.randint(1, 20, (nvalues,))\n",
    "fruits = [\"bananas\", \"oranges\", \"apples\", \"clementines\", \"cherries\", \"pears\"]\n",
    "fruits_index = np.random.choice(fruits, (nvalues,))\n",
    "s = pd.Series(values, index=fruits_index)"
   ]
  },
  {
   "cell_type": "code",
   "execution_count": 292,
   "id": "2c0ccf3a-d371-4f14-9cae-b036caf6cb5b",
   "metadata": {},
   "outputs": [
    {
     "data": {
      "text/plain": [
       "bananas        11\n",
       "bananas         9\n",
       "apples          2\n",
       "pears           3\n",
       "cherries       19\n",
       "clementines    11\n",
       "clementines     9\n",
       "clementines    16\n",
       "apples          3\n",
       "oranges        14\n",
       "clementines     9\n",
       "clementines     5\n",
       "pears          15\n",
       "pears           7\n",
       "apples         13\n",
       "pears           6\n",
       "bananas        19\n",
       "clementines    10\n",
       "pears          12\n",
       "pears           7\n",
       "oranges         8\n",
       "bananas         5\n",
       "oranges        14\n",
       "cherries       19\n",
       "cherries        1\n",
       "bananas         3\n",
       "pears           4\n",
       "clementines     8\n",
       "pears          14\n",
       "apples         14\n",
       "dtype: int32"
      ]
     },
     "execution_count": 292,
     "metadata": {},
     "output_type": "execute_result"
    }
   ],
   "source": [
    "s"
   ]
  },
  {
   "cell_type": "markdown",
   "id": "1686f1dc-83e3-485d-a9d3-4e016c0e1df9",
   "metadata": {},
   "source": [
    "\n",
    "Series.groupby(by=None, axis=0, level=None, as_index=True, sort=True, group_keys=True, observed=False, dropna=True)"
   ]
  },
  {
   "cell_type": "code",
   "execution_count": 294,
   "id": "ab102455-8286-4104-947e-379666eb684a",
   "metadata": {},
   "outputs": [
    {
     "data": {
      "text/plain": [
       "Index(['bananas', 'bananas', 'apples', 'pears', 'cherries', 'clementines',\n",
       "       'clementines', 'clementines', 'apples', 'oranges', 'clementines',\n",
       "       'clementines', 'pears', 'pears', 'apples', 'pears', 'bananas',\n",
       "       'clementines', 'pears', 'pears', 'oranges', 'bananas', 'oranges',\n",
       "       'cherries', 'cherries', 'bananas', 'pears', 'clementines', 'pears',\n",
       "       'apples'],\n",
       "      dtype='object')"
      ]
     },
     "execution_count": 294,
     "metadata": {},
     "output_type": "execute_result"
    }
   ],
   "source": [
    "s.index"
   ]
  },
  {
   "cell_type": "code",
   "execution_count": 295,
   "id": "fecc451b-3908-4b73-87ab-62efd95fbcd7",
   "metadata": {},
   "outputs": [],
   "source": [
    "grouped = s.groupby(s.index)"
   ]
  },
  {
   "cell_type": "code",
   "execution_count": 296,
   "id": "16e3de5e-35b0-42e2-8439-5a97827b3f1d",
   "metadata": {},
   "outputs": [
    {
     "data": {
      "text/plain": [
       "<pandas.core.groupby.generic.SeriesGroupBy object at 0x0000022C99E4B490>"
      ]
     },
     "execution_count": 296,
     "metadata": {},
     "output_type": "execute_result"
    }
   ],
   "source": [
    "grouped"
   ]
  },
  {
   "cell_type": "code",
   "execution_count": 299,
   "id": "5413d9fa-0687-46b2-82fd-e72b70666ec2",
   "metadata": {},
   "outputs": [
    {
     "name": "stdout",
     "output_type": "stream",
     "text": [
      "==============(fruit)===============\n",
      "apples     2\n",
      "apples     3\n",
      "apples    13\n",
      "apples    14\n",
      "dtype: int32\n",
      "==============(fruit)===============\n",
      "bananas    11\n",
      "bananas     9\n",
      "bananas    19\n",
      "bananas     5\n",
      "bananas     3\n",
      "dtype: int32\n",
      "==============(fruit)===============\n",
      "cherries    19\n",
      "cherries    19\n",
      "cherries     1\n",
      "dtype: int32\n",
      "==============(fruit)===============\n",
      "clementines    11\n",
      "clementines     9\n",
      "clementines    16\n",
      "clementines     9\n",
      "clementines     5\n",
      "clementines    10\n",
      "clementines     8\n",
      "dtype: int32\n",
      "==============(fruit)===============\n",
      "oranges    14\n",
      "oranges     8\n",
      "oranges    14\n",
      "dtype: int32\n",
      "==============(fruit)===============\n",
      "pears     3\n",
      "pears    15\n",
      "pears     7\n",
      "pears     6\n",
      "pears    12\n",
      "pears     7\n",
      "pears     4\n",
      "pears    14\n",
      "dtype: int32\n"
     ]
    }
   ],
   "source": [
    "for fruit, s_obj in grouped:\n",
    "    print(f\"==============(fruit)===============\")\n",
    "    print(s_obj)"
   ]
  },
  {
   "cell_type": "markdown",
   "id": "05c1cf17-b2e6-4b06-be8a-58d45f146f1c",
   "metadata": {},
   "source": [
    "#### GROUPBY WITH DATAFRAME"
   ]
  },
  {
   "cell_type": "code",
   "execution_count": 300,
   "id": "a1e6b68d-1eb1-4c53-998a-58860f58b75b",
   "metadata": {},
   "outputs": [
    {
     "data": {
      "text/html": [
       "<div>\n",
       "<style scoped>\n",
       "    .dataframe tbody tr th:only-of-type {\n",
       "        vertical-align: middle;\n",
       "    }\n",
       "\n",
       "    .dataframe tbody tr th {\n",
       "        vertical-align: top;\n",
       "    }\n",
       "\n",
       "    .dataframe thead th {\n",
       "        text-align: right;\n",
       "    }\n",
       "</style>\n",
       "<table border=\"1\" class=\"dataframe\">\n",
       "  <thead>\n",
       "    <tr style=\"text-align: right;\">\n",
       "      <th></th>\n",
       "      <th>Name</th>\n",
       "      <th>Coffee</th>\n",
       "      <th>Tea</th>\n",
       "    </tr>\n",
       "  </thead>\n",
       "  <tbody>\n",
       "    <tr>\n",
       "      <th>0</th>\n",
       "      <td>Robert</td>\n",
       "      <td>3</td>\n",
       "      <td>0</td>\n",
       "    </tr>\n",
       "    <tr>\n",
       "      <th>1</th>\n",
       "      <td>Melinda</td>\n",
       "      <td>0</td>\n",
       "      <td>4</td>\n",
       "    </tr>\n",
       "    <tr>\n",
       "      <th>2</th>\n",
       "      <td>Brenda</td>\n",
       "      <td>2</td>\n",
       "      <td>2</td>\n",
       "    </tr>\n",
       "    <tr>\n",
       "      <th>3</th>\n",
       "      <td>Samantha</td>\n",
       "      <td>2</td>\n",
       "      <td>0</td>\n",
       "    </tr>\n",
       "    <tr>\n",
       "      <th>4</th>\n",
       "      <td>Melinda</td>\n",
       "      <td>0</td>\n",
       "      <td>3</td>\n",
       "    </tr>\n",
       "    <tr>\n",
       "      <th>5</th>\n",
       "      <td>Robert</td>\n",
       "      <td>2</td>\n",
       "      <td>0</td>\n",
       "    </tr>\n",
       "    <tr>\n",
       "      <th>6</th>\n",
       "      <td>Melinda</td>\n",
       "      <td>0</td>\n",
       "      <td>3</td>\n",
       "    </tr>\n",
       "    <tr>\n",
       "      <th>7</th>\n",
       "      <td>Brenda</td>\n",
       "      <td>1</td>\n",
       "      <td>2</td>\n",
       "    </tr>\n",
       "    <tr>\n",
       "      <th>8</th>\n",
       "      <td>Samantha</td>\n",
       "      <td>3</td>\n",
       "      <td>0</td>\n",
       "    </tr>\n",
       "  </tbody>\n",
       "</table>\n",
       "</div>"
      ],
      "text/plain": [
       "       Name  Coffee  Tea\n",
       "0    Robert       3    0\n",
       "1   Melinda       0    4\n",
       "2    Brenda       2    2\n",
       "3  Samantha       2    0\n",
       "4   Melinda       0    3\n",
       "5    Robert       2    0\n",
       "6   Melinda       0    3\n",
       "7    Brenda       1    2\n",
       "8  Samantha       3    0"
      ]
     },
     "execution_count": 300,
     "metadata": {},
     "output_type": "execute_result"
    }
   ],
   "source": [
    "beverages = pd.DataFrame({'Name': ['Robert', 'Melinda', 'Brenda', 'Samantha', 'Melinda', 'Robert', 'Melinda', 'Brenda', 'Samantha'],\n",
    "'Coffee': [3, 0, 2, 2, 0, 2, 0, 1, 3],\n",
    "'Tea': [0, 4, 2, 0, 3, 0, 3, 2, 0]})\n",
    "beverages"
   ]
  },
  {
   "cell_type": "markdown",
   "id": "f0832d12-e7bc-4de7-a95c-95ed4d6e4e06",
   "metadata": {},
   "source": [
    "#### pandas.DataFrame.groupby\r",
    "*\n",
    "DataFrame.groupby(by=None, axis=0, level=None, as_index=True, sort=True, group_keys=True, observed=False, dropna=True)"
   ]
  },
  {
   "cell_type": "code",
   "execution_count": 301,
   "id": "d821e272-fa16-4e34-b385-4a6fb7c6e844",
   "metadata": {},
   "outputs": [
    {
     "name": "stdout",
     "output_type": "stream",
     "text": [
      "2\n",
      "2\n",
      "2\n",
      "2\n"
     ]
    }
   ],
   "source": [
    "beverages.groupby([\"Name\"])\n",
    "for i in beverages.groupby([\"Name\"]):\n",
    "    print(len(i))"
   ]
  },
  {
   "cell_type": "code",
   "execution_count": 302,
   "id": "c95835e5-9100-4058-bef6-f1ba1eac7edc",
   "metadata": {},
   "outputs": [
    {
     "data": {
      "text/html": [
       "<div>\n",
       "<style scoped>\n",
       "    .dataframe tbody tr th:only-of-type {\n",
       "        vertical-align: middle;\n",
       "    }\n",
       "\n",
       "    .dataframe tbody tr th {\n",
       "        vertical-align: top;\n",
       "    }\n",
       "\n",
       "    .dataframe thead th {\n",
       "        text-align: right;\n",
       "    }\n",
       "</style>\n",
       "<table border=\"1\" class=\"dataframe\">\n",
       "  <thead>\n",
       "    <tr style=\"text-align: right;\">\n",
       "      <th></th>\n",
       "      <th>Coffee</th>\n",
       "      <th>Tea</th>\n",
       "    </tr>\n",
       "    <tr>\n",
       "      <th>Name</th>\n",
       "      <th></th>\n",
       "      <th></th>\n",
       "    </tr>\n",
       "  </thead>\n",
       "  <tbody>\n",
       "    <tr>\n",
       "      <th>Brenda</th>\n",
       "      <td>3</td>\n",
       "      <td>4</td>\n",
       "    </tr>\n",
       "    <tr>\n",
       "      <th>Melinda</th>\n",
       "      <td>0</td>\n",
       "      <td>10</td>\n",
       "    </tr>\n",
       "    <tr>\n",
       "      <th>Robert</th>\n",
       "      <td>5</td>\n",
       "      <td>0</td>\n",
       "    </tr>\n",
       "    <tr>\n",
       "      <th>Samantha</th>\n",
       "      <td>5</td>\n",
       "      <td>0</td>\n",
       "    </tr>\n",
       "  </tbody>\n",
       "</table>\n",
       "</div>"
      ],
      "text/plain": [
       "          Coffee  Tea\n",
       "Name                 \n",
       "Brenda         3    4\n",
       "Melinda        0   10\n",
       "Robert         5    0\n",
       "Samantha       5    0"
      ]
     },
     "execution_count": 302,
     "metadata": {},
     "output_type": "execute_result"
    }
   ],
   "source": [
    "res = beverages.groupby([\"Name\"]).sum()\n",
    "res"
   ]
  },
  {
   "cell_type": "code",
   "execution_count": 304,
   "id": "c58d13df-f806-4631-9fbc-333b7c4f304f",
   "metadata": {},
   "outputs": [
    {
     "data": {
      "text/html": [
       "<div>\n",
       "<style scoped>\n",
       "    .dataframe tbody tr th:only-of-type {\n",
       "        vertical-align: middle;\n",
       "    }\n",
       "\n",
       "    .dataframe tbody tr th {\n",
       "        vertical-align: top;\n",
       "    }\n",
       "\n",
       "    .dataframe thead th {\n",
       "        text-align: right;\n",
       "    }\n",
       "</style>\n",
       "<table border=\"1\" class=\"dataframe\">\n",
       "  <thead>\n",
       "    <tr style=\"text-align: right;\">\n",
       "      <th></th>\n",
       "      <th>Coffee</th>\n",
       "      <th>Tea</th>\n",
       "    </tr>\n",
       "    <tr>\n",
       "      <th>Name</th>\n",
       "      <th></th>\n",
       "      <th></th>\n",
       "    </tr>\n",
       "  </thead>\n",
       "  <tbody>\n",
       "    <tr>\n",
       "      <th>Brenda</th>\n",
       "      <td>1.5</td>\n",
       "      <td>2.000000</td>\n",
       "    </tr>\n",
       "    <tr>\n",
       "      <th>Melinda</th>\n",
       "      <td>0.0</td>\n",
       "      <td>3.333333</td>\n",
       "    </tr>\n",
       "    <tr>\n",
       "      <th>Robert</th>\n",
       "      <td>2.5</td>\n",
       "      <td>0.000000</td>\n",
       "    </tr>\n",
       "    <tr>\n",
       "      <th>Samantha</th>\n",
       "      <td>2.5</td>\n",
       "      <td>0.000000</td>\n",
       "    </tr>\n",
       "  </tbody>\n",
       "</table>\n",
       "</div>"
      ],
      "text/plain": [
       "          Coffee       Tea\n",
       "Name                      \n",
       "Brenda       1.5  2.000000\n",
       "Melinda      0.0  3.333333\n",
       "Robert       2.5  0.000000\n",
       "Samantha     2.5  0.000000"
      ]
     },
     "execution_count": 304,
     "metadata": {},
     "output_type": "execute_result"
    }
   ],
   "source": [
    "beverages.groupby([\"Name\"]).mean()"
   ]
  },
  {
   "cell_type": "code",
   "execution_count": 305,
   "id": "e0d732ea-c4f5-4b2f-a065-5c6b541c5b5f",
   "metadata": {},
   "outputs": [
    {
     "data": {
      "text/html": [
       "<div>\n",
       "<style scoped>\n",
       "    .dataframe tbody tr th:only-of-type {\n",
       "        vertical-align: middle;\n",
       "    }\n",
       "\n",
       "    .dataframe tbody tr th {\n",
       "        vertical-align: top;\n",
       "    }\n",
       "\n",
       "    .dataframe thead th {\n",
       "        text-align: right;\n",
       "    }\n",
       "</style>\n",
       "<table border=\"1\" class=\"dataframe\">\n",
       "  <thead>\n",
       "    <tr style=\"text-align: right;\">\n",
       "      <th></th>\n",
       "      <th>Coffee</th>\n",
       "      <th>Tea</th>\n",
       "    </tr>\n",
       "    <tr>\n",
       "      <th>Name</th>\n",
       "      <th></th>\n",
       "      <th></th>\n",
       "    </tr>\n",
       "  </thead>\n",
       "  <tbody>\n",
       "    <tr>\n",
       "      <th>Brenda</th>\n",
       "      <td>2</td>\n",
       "      <td>2</td>\n",
       "    </tr>\n",
       "    <tr>\n",
       "      <th>Melinda</th>\n",
       "      <td>3</td>\n",
       "      <td>3</td>\n",
       "    </tr>\n",
       "    <tr>\n",
       "      <th>Robert</th>\n",
       "      <td>2</td>\n",
       "      <td>2</td>\n",
       "    </tr>\n",
       "    <tr>\n",
       "      <th>Samantha</th>\n",
       "      <td>2</td>\n",
       "      <td>2</td>\n",
       "    </tr>\n",
       "  </tbody>\n",
       "</table>\n",
       "</div>"
      ],
      "text/plain": [
       "          Coffee  Tea\n",
       "Name                 \n",
       "Brenda         2    2\n",
       "Melinda        3    3\n",
       "Robert         2    2\n",
       "Samantha       2    2"
      ]
     },
     "execution_count": 305,
     "metadata": {},
     "output_type": "execute_result"
    }
   ],
   "source": [
    "beverages.groupby([\"Name\"]).count()"
   ]
  },
  {
   "cell_type": "code",
   "execution_count": 315,
   "id": "4f15f489-871a-4e59-968f-de97e2cbc232",
   "metadata": {},
   "outputs": [
    {
     "data": {
      "text/html": [
       "<div>\n",
       "<style scoped>\n",
       "    .dataframe tbody tr th:only-of-type {\n",
       "        vertical-align: middle;\n",
       "    }\n",
       "\n",
       "    .dataframe tbody tr th {\n",
       "        vertical-align: top;\n",
       "    }\n",
       "\n",
       "    .dataframe thead th {\n",
       "        text-align: right;\n",
       "    }\n",
       "</style>\n",
       "<table border=\"1\" class=\"dataframe\">\n",
       "  <thead>\n",
       "    <tr style=\"text-align: right;\">\n",
       "      <th></th>\n",
       "      <th>Monday</th>\n",
       "      <th>Tuesday</th>\n",
       "      <th>Wednesday</th>\n",
       "      <th>Thursday</th>\n",
       "      <th>Friday</th>\n",
       "      <th>Saturday</th>\n",
       "      <th>Sunday</th>\n",
       "    </tr>\n",
       "  </thead>\n",
       "  <tbody>\n",
       "    <tr>\n",
       "      <th>Wilfriede</th>\n",
       "      <td>1</td>\n",
       "      <td>6</td>\n",
       "      <td>7</td>\n",
       "      <td>8</td>\n",
       "      <td>4</td>\n",
       "      <td>1</td>\n",
       "      <td>4</td>\n",
       "    </tr>\n",
       "    <tr>\n",
       "      <th>Albin</th>\n",
       "      <td>6</td>\n",
       "      <td>2</td>\n",
       "      <td>0</td>\n",
       "      <td>9</td>\n",
       "      <td>5</td>\n",
       "      <td>7</td>\n",
       "      <td>4</td>\n",
       "    </tr>\n",
       "    <tr>\n",
       "      <th>Fatma</th>\n",
       "      <td>8</td>\n",
       "      <td>5</td>\n",
       "      <td>5</td>\n",
       "      <td>5</td>\n",
       "      <td>0</td>\n",
       "      <td>5</td>\n",
       "      <td>0</td>\n",
       "    </tr>\n",
       "    <tr>\n",
       "      <th>Martina</th>\n",
       "      <td>9</td>\n",
       "      <td>0</td>\n",
       "      <td>6</td>\n",
       "      <td>0</td>\n",
       "      <td>6</td>\n",
       "      <td>5</td>\n",
       "      <td>0</td>\n",
       "    </tr>\n",
       "    <tr>\n",
       "      <th>Leo</th>\n",
       "      <td>3</td>\n",
       "      <td>9</td>\n",
       "      <td>7</td>\n",
       "      <td>3</td>\n",
       "      <td>3</td>\n",
       "      <td>0</td>\n",
       "      <td>9</td>\n",
       "    </tr>\n",
       "    <tr>\n",
       "      <th>Leonie</th>\n",
       "      <td>5</td>\n",
       "      <td>1</td>\n",
       "      <td>5</td>\n",
       "      <td>6</td>\n",
       "      <td>4</td>\n",
       "      <td>6</td>\n",
       "      <td>4</td>\n",
       "    </tr>\n",
       "    <tr>\n",
       "      <th>Minna</th>\n",
       "      <td>6</td>\n",
       "      <td>6</td>\n",
       "      <td>0</td>\n",
       "      <td>6</td>\n",
       "      <td>7</td>\n",
       "      <td>9</td>\n",
       "      <td>3</td>\n",
       "    </tr>\n",
       "    <tr>\n",
       "      <th>Dunja</th>\n",
       "      <td>1</td>\n",
       "      <td>9</td>\n",
       "      <td>9</td>\n",
       "      <td>0</td>\n",
       "      <td>7</td>\n",
       "      <td>1</td>\n",
       "      <td>6</td>\n",
       "    </tr>\n",
       "    <tr>\n",
       "      <th>Zehra</th>\n",
       "      <td>3</td>\n",
       "      <td>4</td>\n",
       "      <td>5</td>\n",
       "      <td>3</td>\n",
       "      <td>6</td>\n",
       "      <td>5</td>\n",
       "      <td>8</td>\n",
       "    </tr>\n",
       "    <tr>\n",
       "      <th>Telse</th>\n",
       "      <td>0</td>\n",
       "      <td>0</td>\n",
       "      <td>2</td>\n",
       "      <td>0</td>\n",
       "      <td>7</td>\n",
       "      <td>1</td>\n",
       "      <td>2</td>\n",
       "    </tr>\n",
       "  </tbody>\n",
       "</table>\n",
       "</div>"
      ],
      "text/plain": [
       "           Monday  Tuesday  Wednesday  Thursday  Friday  Saturday  Sunday\n",
       "Wilfriede       1        6          7         8       4         1       4\n",
       "Albin           6        2          0         9       5         7       4\n",
       "Fatma           8        5          5         5       0         5       0\n",
       "Martina         9        0          6         0       6         5       0\n",
       "Leo             3        9          7         3       3         0       9\n",
       "Leonie          5        1          5         6       4         6       4\n",
       "Minna           6        6          0         6       7         9       3\n",
       "Dunja           1        9          9         0       7         1       6\n",
       "Zehra           3        4          5         3       6         5       8\n",
       "Telse           0        0          2         0       7         1       2"
      ]
     },
     "execution_count": 315,
     "metadata": {},
     "output_type": "execute_result"
    }
   ],
   "source": [
    "from faker import Faker\n",
    "import numpy as np\n",
    "from itertools import chain\n",
    "fake = Faker('de_DE')\n",
    "number_of_names = 10\n",
    "names = []\n",
    "for _ in range(number_of_names):\n",
    "    names.append(fake.first_name())\n",
    "data = {}\n",
    "workweek = (\"Monday\", \"Tuesday\", \"Wednesday\", \"Thursday\", \"Friday\")\n",
    "weekend = (\"Saturday\", \"Sunday\")\n",
    "for day in chain(workweek, weekend):\n",
    "    data[day] = np.random.randint(0, 10, (number_of_names,))\n",
    "\n",
    "data_df = pd.DataFrame(data, index=names)\n",
    "data_df"
   ]
  },
  {
   "cell_type": "code",
   "execution_count": 318,
   "id": "52897aed-7256-4298-80da-ef72063be829",
   "metadata": {},
   "outputs": [
    {
     "name": "stdout",
     "output_type": "stream",
     "text": [
      "           Saturday  Sunday\n",
      "Wilfriede         1       4\n",
      "Albin             7       4\n",
      "Fatma             5       0\n",
      "Martina           5       0\n",
      "Leo               0       9\n",
      "Leonie            6       4\n",
      "Minna             9       3\n",
      "Dunja             1       6\n",
      "Zehra             5       8\n",
      "Telse             1       2\n",
      "           Monday  Tuesday  Wednesday  Thursday  Friday\n",
      "Wilfriede       1        6          7         8       4\n",
      "Albin           6        2          0         9       5\n",
      "Fatma           8        5          5         5       0\n",
      "Martina         9        0          6         0       6\n",
      "Leo             3        9          7         3       3\n",
      "Leonie          5        1          5         6       4\n",
      "Minna           6        6          0         6       7\n",
      "Dunja           1        9          9         0       7\n",
      "Zehra           3        4          5         3       6\n",
      "Telse           0        0          2         0       7\n"
     ]
    }
   ],
   "source": [
    "def is_weekend(day):\n",
    "    if day in ['Saturday', 'Sunday']:\n",
    "        return \"Weekend, Let's Party\"\n",
    "    else:\n",
    "        return \"Workday\"\n",
    "for res_func, df in data_df.groupby(by=is_weekend, axis = 1):\n",
    "    print(df)"
   ]
  },
  {
   "cell_type": "code",
   "execution_count": 319,
   "id": "ac061926-7f59-428f-b7b5-6f4bdac54a33",
   "metadata": {},
   "outputs": [
    {
     "data": {
      "text/html": [
       "<div>\n",
       "<style scoped>\n",
       "    .dataframe tbody tr th:only-of-type {\n",
       "        vertical-align: middle;\n",
       "    }\n",
       "\n",
       "    .dataframe tbody tr th {\n",
       "        vertical-align: top;\n",
       "    }\n",
       "\n",
       "    .dataframe thead th {\n",
       "        text-align: right;\n",
       "    }\n",
       "</style>\n",
       "<table border=\"1\" class=\"dataframe\">\n",
       "  <thead>\n",
       "    <tr style=\"text-align: right;\">\n",
       "      <th></th>\n",
       "      <th>Weekend, Let's Party</th>\n",
       "      <th>Workday</th>\n",
       "    </tr>\n",
       "  </thead>\n",
       "  <tbody>\n",
       "    <tr>\n",
       "      <th>Wilfriede</th>\n",
       "      <td>5</td>\n",
       "      <td>26</td>\n",
       "    </tr>\n",
       "    <tr>\n",
       "      <th>Albin</th>\n",
       "      <td>11</td>\n",
       "      <td>22</td>\n",
       "    </tr>\n",
       "    <tr>\n",
       "      <th>Fatma</th>\n",
       "      <td>5</td>\n",
       "      <td>23</td>\n",
       "    </tr>\n",
       "    <tr>\n",
       "      <th>Martina</th>\n",
       "      <td>5</td>\n",
       "      <td>21</td>\n",
       "    </tr>\n",
       "    <tr>\n",
       "      <th>Leo</th>\n",
       "      <td>9</td>\n",
       "      <td>25</td>\n",
       "    </tr>\n",
       "    <tr>\n",
       "      <th>Leonie</th>\n",
       "      <td>10</td>\n",
       "      <td>21</td>\n",
       "    </tr>\n",
       "    <tr>\n",
       "      <th>Minna</th>\n",
       "      <td>12</td>\n",
       "      <td>25</td>\n",
       "    </tr>\n",
       "    <tr>\n",
       "      <th>Dunja</th>\n",
       "      <td>7</td>\n",
       "      <td>26</td>\n",
       "    </tr>\n",
       "    <tr>\n",
       "      <th>Zehra</th>\n",
       "      <td>13</td>\n",
       "      <td>21</td>\n",
       "    </tr>\n",
       "    <tr>\n",
       "      <th>Telse</th>\n",
       "      <td>3</td>\n",
       "      <td>9</td>\n",
       "    </tr>\n",
       "  </tbody>\n",
       "</table>\n",
       "</div>"
      ],
      "text/plain": [
       "           Weekend, Let's Party  Workday\n",
       "Wilfriede                     5       26\n",
       "Albin                        11       22\n",
       "Fatma                         5       23\n",
       "Martina                       5       21\n",
       "Leo                           9       25\n",
       "Leonie                       10       21\n",
       "Minna                        12       25\n",
       "Dunja                         7       26\n",
       "Zehra                        13       21\n",
       "Telse                         3        9"
      ]
     },
     "execution_count": 319,
     "metadata": {},
     "output_type": "execute_result"
    }
   ],
   "source": [
    "data_df.groupby(by=is_weekend, axis = 1).sum()"
   ]
  },
  {
   "cell_type": "code",
   "execution_count": 321,
   "id": "b2ea1bfd-7515-49b1-8be5-f92f22a9937e",
   "metadata": {},
   "outputs": [
    {
     "data": {
      "text/html": [
       "<div>\n",
       "<style scoped>\n",
       "    .dataframe tbody tr th:only-of-type {\n",
       "        vertical-align: middle;\n",
       "    }\n",
       "\n",
       "    .dataframe tbody tr th {\n",
       "        vertical-align: top;\n",
       "    }\n",
       "\n",
       "    .dataframe thead th {\n",
       "        text-align: right;\n",
       "    }\n",
       "</style>\n",
       "<table border=\"1\" class=\"dataframe\">\n",
       "  <thead>\n",
       "    <tr style=\"text-align: right;\">\n",
       "      <th></th>\n",
       "      <th>Weekend, Let's Party</th>\n",
       "      <th>Workday</th>\n",
       "    </tr>\n",
       "  </thead>\n",
       "  <tbody>\n",
       "    <tr>\n",
       "      <th>Wilfriede</th>\n",
       "      <td>2.5</td>\n",
       "      <td>5.2</td>\n",
       "    </tr>\n",
       "    <tr>\n",
       "      <th>Albin</th>\n",
       "      <td>5.5</td>\n",
       "      <td>4.4</td>\n",
       "    </tr>\n",
       "    <tr>\n",
       "      <th>Fatma</th>\n",
       "      <td>2.5</td>\n",
       "      <td>4.6</td>\n",
       "    </tr>\n",
       "    <tr>\n",
       "      <th>Martina</th>\n",
       "      <td>2.5</td>\n",
       "      <td>4.2</td>\n",
       "    </tr>\n",
       "    <tr>\n",
       "      <th>Leo</th>\n",
       "      <td>4.5</td>\n",
       "      <td>5.0</td>\n",
       "    </tr>\n",
       "    <tr>\n",
       "      <th>Leonie</th>\n",
       "      <td>5.0</td>\n",
       "      <td>4.2</td>\n",
       "    </tr>\n",
       "    <tr>\n",
       "      <th>Minna</th>\n",
       "      <td>6.0</td>\n",
       "      <td>5.0</td>\n",
       "    </tr>\n",
       "    <tr>\n",
       "      <th>Dunja</th>\n",
       "      <td>3.5</td>\n",
       "      <td>5.2</td>\n",
       "    </tr>\n",
       "    <tr>\n",
       "      <th>Zehra</th>\n",
       "      <td>6.5</td>\n",
       "      <td>4.2</td>\n",
       "    </tr>\n",
       "    <tr>\n",
       "      <th>Telse</th>\n",
       "      <td>1.5</td>\n",
       "      <td>1.8</td>\n",
       "    </tr>\n",
       "  </tbody>\n",
       "</table>\n",
       "</div>"
      ],
      "text/plain": [
       "           Weekend, Let's Party  Workday\n",
       "Wilfriede                   2.5      5.2\n",
       "Albin                       5.5      4.4\n",
       "Fatma                       2.5      4.6\n",
       "Martina                     2.5      4.2\n",
       "Leo                         4.5      5.0\n",
       "Leonie                      5.0      4.2\n",
       "Minna                       6.0      5.0\n",
       "Dunja                       3.5      5.2\n",
       "Zehra                       6.5      4.2\n",
       "Telse                       1.5      1.8"
      ]
     },
     "execution_count": 321,
     "metadata": {},
     "output_type": "execute_result"
    }
   ],
   "source": [
    "data_df.groupby(by=is_weekend, axis = 1).mean()"
   ]
  },
  {
   "cell_type": "code",
   "execution_count": 322,
   "id": "1d821a90-d7b1-48e1-8614-28bd59ebabdb",
   "metadata": {},
   "outputs": [
    {
     "data": {
      "text/html": [
       "<div>\n",
       "<style scoped>\n",
       "    .dataframe tbody tr th:only-of-type {\n",
       "        vertical-align: middle;\n",
       "    }\n",
       "\n",
       "    .dataframe tbody tr th {\n",
       "        vertical-align: top;\n",
       "    }\n",
       "\n",
       "    .dataframe thead th {\n",
       "        text-align: right;\n",
       "    }\n",
       "</style>\n",
       "<table border=\"1\" class=\"dataframe\">\n",
       "  <thead>\n",
       "    <tr style=\"text-align: right;\">\n",
       "      <th></th>\n",
       "      <th>Weekend, Let's Party</th>\n",
       "      <th>Workday</th>\n",
       "    </tr>\n",
       "  </thead>\n",
       "  <tbody>\n",
       "    <tr>\n",
       "      <th>Wilfriede</th>\n",
       "      <td>2</td>\n",
       "      <td>5</td>\n",
       "    </tr>\n",
       "    <tr>\n",
       "      <th>Albin</th>\n",
       "      <td>2</td>\n",
       "      <td>5</td>\n",
       "    </tr>\n",
       "    <tr>\n",
       "      <th>Fatma</th>\n",
       "      <td>2</td>\n",
       "      <td>5</td>\n",
       "    </tr>\n",
       "    <tr>\n",
       "      <th>Martina</th>\n",
       "      <td>2</td>\n",
       "      <td>5</td>\n",
       "    </tr>\n",
       "    <tr>\n",
       "      <th>Leo</th>\n",
       "      <td>2</td>\n",
       "      <td>5</td>\n",
       "    </tr>\n",
       "    <tr>\n",
       "      <th>Leonie</th>\n",
       "      <td>2</td>\n",
       "      <td>5</td>\n",
       "    </tr>\n",
       "    <tr>\n",
       "      <th>Minna</th>\n",
       "      <td>2</td>\n",
       "      <td>5</td>\n",
       "    </tr>\n",
       "    <tr>\n",
       "      <th>Dunja</th>\n",
       "      <td>2</td>\n",
       "      <td>5</td>\n",
       "    </tr>\n",
       "    <tr>\n",
       "      <th>Zehra</th>\n",
       "      <td>2</td>\n",
       "      <td>5</td>\n",
       "    </tr>\n",
       "    <tr>\n",
       "      <th>Telse</th>\n",
       "      <td>2</td>\n",
       "      <td>5</td>\n",
       "    </tr>\n",
       "  </tbody>\n",
       "</table>\n",
       "</div>"
      ],
      "text/plain": [
       "           Weekend, Let's Party  Workday\n",
       "Wilfriede                     2        5\n",
       "Albin                         2        5\n",
       "Fatma                         2        5\n",
       "Martina                       2        5\n",
       "Leo                           2        5\n",
       "Leonie                        2        5\n",
       "Minna                         2        5\n",
       "Dunja                         2        5\n",
       "Zehra                         2        5\n",
       "Telse                         2        5"
      ]
     },
     "execution_count": 322,
     "metadata": {},
     "output_type": "execute_result"
    }
   ],
   "source": [
    "data_df.groupby(by=is_weekend, axis = 1).count()"
   ]
  },
  {
   "cell_type": "code",
   "execution_count": 323,
   "id": "421b32b5-342c-4730-b274-76cd6e0eeb08",
   "metadata": {},
   "outputs": [
    {
     "data": {
      "text/html": [
       "<div>\n",
       "<style scoped>\n",
       "    .dataframe tbody tr th:only-of-type {\n",
       "        vertical-align: middle;\n",
       "    }\n",
       "\n",
       "    .dataframe tbody tr th {\n",
       "        vertical-align: top;\n",
       "    }\n",
       "\n",
       "    .dataframe thead th {\n",
       "        text-align: right;\n",
       "    }\n",
       "</style>\n",
       "<table border=\"1\" class=\"dataframe\">\n",
       "  <thead>\n",
       "    <tr style=\"text-align: right;\">\n",
       "      <th></th>\n",
       "      <th>Monday</th>\n",
       "      <th>Tuesday</th>\n",
       "      <th>Wednesday</th>\n",
       "      <th>Thursday</th>\n",
       "      <th>Friday</th>\n",
       "      <th>Saturday</th>\n",
       "      <th>Sunday</th>\n",
       "    </tr>\n",
       "  </thead>\n",
       "  <tbody>\n",
       "    <tr>\n",
       "      <th>male</th>\n",
       "      <td>3</td>\n",
       "      <td>9</td>\n",
       "      <td>7</td>\n",
       "      <td>3</td>\n",
       "      <td>3</td>\n",
       "      <td>0</td>\n",
       "      <td>9</td>\n",
       "    </tr>\n",
       "    <tr>\n",
       "      <th>no access</th>\n",
       "      <td>39</td>\n",
       "      <td>33</td>\n",
       "      <td>39</td>\n",
       "      <td>37</td>\n",
       "      <td>46</td>\n",
       "      <td>40</td>\n",
       "      <td>31</td>\n",
       "    </tr>\n",
       "  </tbody>\n",
       "</table>\n",
       "</div>"
      ],
      "text/plain": [
       "           Monday  Tuesday  Wednesday  Thursday  Friday  Saturday  Sunday\n",
       "male            3        9          7         3       3         0       9\n",
       "no access      39       33         39        37      46        40      31"
      ]
     },
     "execution_count": 323,
     "metadata": {},
     "output_type": "execute_result"
    }
   ],
   "source": [
    "def is_name_Leo(name):\n",
    "    if name == \"Leo\":\n",
    "        return \"male\"\n",
    "    else :\n",
    "        return \"no access\"\n",
    "data_df.groupby(by=is_name_Leo).sum()"
   ]
  },
  {
   "cell_type": "code",
   "execution_count": 324,
   "id": "fecbe8af-be65-4dff-a234-5a1317c9258d",
   "metadata": {},
   "outputs": [
    {
     "data": {
      "text/html": [
       "<div>\n",
       "<style scoped>\n",
       "    .dataframe tbody tr th:only-of-type {\n",
       "        vertical-align: middle;\n",
       "    }\n",
       "\n",
       "    .dataframe tbody tr th {\n",
       "        vertical-align: top;\n",
       "    }\n",
       "\n",
       "    .dataframe thead th {\n",
       "        text-align: right;\n",
       "    }\n",
       "</style>\n",
       "<table border=\"1\" class=\"dataframe\">\n",
       "  <thead>\n",
       "    <tr style=\"text-align: right;\">\n",
       "      <th></th>\n",
       "      <th>Monday</th>\n",
       "      <th>Tuesday</th>\n",
       "      <th>Wednesday</th>\n",
       "      <th>Thursday</th>\n",
       "      <th>Friday</th>\n",
       "      <th>Saturday</th>\n",
       "      <th>Sunday</th>\n",
       "    </tr>\n",
       "  </thead>\n",
       "  <tbody>\n",
       "    <tr>\n",
       "      <th>male</th>\n",
       "      <td>3.000000</td>\n",
       "      <td>9.000000</td>\n",
       "      <td>7.000000</td>\n",
       "      <td>3.000000</td>\n",
       "      <td>3.000000</td>\n",
       "      <td>0.000000</td>\n",
       "      <td>9.000000</td>\n",
       "    </tr>\n",
       "    <tr>\n",
       "      <th>no access</th>\n",
       "      <td>4.333333</td>\n",
       "      <td>3.666667</td>\n",
       "      <td>4.333333</td>\n",
       "      <td>4.111111</td>\n",
       "      <td>5.111111</td>\n",
       "      <td>4.444444</td>\n",
       "      <td>3.444444</td>\n",
       "    </tr>\n",
       "  </tbody>\n",
       "</table>\n",
       "</div>"
      ],
      "text/plain": [
       "             Monday   Tuesday  Wednesday  Thursday    Friday  Saturday  \\\n",
       "male       3.000000  9.000000   7.000000  3.000000  3.000000  0.000000   \n",
       "no access  4.333333  3.666667   4.333333  4.111111  5.111111  4.444444   \n",
       "\n",
       "             Sunday  \n",
       "male       9.000000  \n",
       "no access  3.444444  "
      ]
     },
     "execution_count": 324,
     "metadata": {},
     "output_type": "execute_result"
    }
   ],
   "source": [
    "data_df.groupby(by=is_name_Leo).mean()"
   ]
  },
  {
   "cell_type": "code",
   "execution_count": 325,
   "id": "ab3dd8ce-af55-4662-b734-9cf3ec0a3a63",
   "metadata": {},
   "outputs": [
    {
     "name": "stdout",
     "output_type": "stream",
     "text": [
      "     Monday  Tuesday  Wednesday  Thursday  Friday  Saturday  Sunday\n",
      "Leo       3        9          7         3       3         0       9\n",
      "           Monday  Tuesday  Wednesday  Thursday  Friday  Saturday  Sunday\n",
      "Wilfriede       1        6          7         8       4         1       4\n",
      "Albin           6        2          0         9       5         7       4\n",
      "Fatma           8        5          5         5       0         5       0\n",
      "Martina         9        0          6         0       6         5       0\n",
      "Leonie          5        1          5         6       4         6       4\n",
      "Minna           6        6          0         6       7         9       3\n",
      "Dunja           1        9          9         0       7         1       6\n",
      "Zehra           3        4          5         3       6         5       8\n",
      "Telse           0        0          2         0       7         1       2\n"
     ]
    }
   ],
   "source": [
    "for res_func, df in data_df.groupby(by=is_name_Leo):\n",
    "    print(df)"
   ]
  },
  {
   "cell_type": "code",
   "execution_count": null,
   "id": "0146dbc1-6a46-43f2-97a1-082f1a47ec79",
   "metadata": {},
   "outputs": [],
   "source": []
  }
 ],
 "metadata": {
  "kernelspec": {
   "display_name": "Python 3 (ipykernel)",
   "language": "python",
   "name": "python3"
  },
  "language_info": {
   "codemirror_mode": {
    "name": "ipython",
    "version": 3
   },
   "file_extension": ".py",
   "mimetype": "text/x-python",
   "name": "python",
   "nbconvert_exporter": "python",
   "pygments_lexer": "ipython3",
   "version": "3.11.4"
  }
 },
 "nbformat": 4,
 "nbformat_minor": 5
}
